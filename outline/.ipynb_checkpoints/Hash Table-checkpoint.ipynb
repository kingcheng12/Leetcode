{
 "cells": [
  {
   "cell_type": "markdown",
   "metadata": {},
   "source": [
    "## 1. Valid Sudoku:\n",
    "\n",
    "Determine if a 9x9 Sudoku board is valid. Only the filled cells need to be validated according to the following rules:\n",
    "\n",
    "- Each row must contain the digits 1-9 without repetition.\n",
    "- Each column must contain the digits 1-9 without repetition.\n",
    "- Each of the 9 3x3 sub-boxes of the grid must contain the digits 1-9 without repetition.\n",
    "\n",
    "The Sudoku board could be partially filled, where empty cells are filled with the character '.'."
   ]
  },
  {
   "cell_type": "code",
   "execution_count": 14,
   "metadata": {},
   "outputs": [],
   "source": [
    "def isValidSudoku(board):\n",
    "    valid = set()\n",
    "    \n",
    "    for i in range(9):\n",
    "        for j in range(9):\n",
    "            if board[i][j] != '.':\n",
    "                c = board[i][j]\n",
    "                if (i, c) in valid or (c, j) in valid or (i//3, j//3, c) in valid:\n",
    "                    return False\n",
    "                valid.add((i, c))\n",
    "                valid.add((c, j))\n",
    "                valid.add((i//3, j//3, c))\n",
    "    return True"
   ]
  },
  {
   "cell_type": "code",
   "execution_count": 15,
   "metadata": {},
   "outputs": [
    {
     "data": {
      "text/plain": [
       "True"
      ]
     },
     "execution_count": 15,
     "metadata": {},
     "output_type": "execute_result"
    }
   ],
   "source": [
    "board = [\n",
    "  [\"5\",\"3\",\".\",\".\",\"7\",\".\",\".\",\".\",\".\"],\n",
    "  [\"6\",\".\",\".\",\"1\",\"9\",\"5\",\".\",\".\",\".\"],\n",
    "  [\".\",\"9\",\"8\",\".\",\".\",\".\",\".\",\"6\",\".\"],\n",
    "  [\"8\",\".\",\".\",\".\",\"6\",\".\",\".\",\".\",\"3\"],\n",
    "  [\"4\",\".\",\".\",\"8\",\".\",\"3\",\".\",\".\",\"1\"],\n",
    "  [\"7\",\".\",\".\",\".\",\"2\",\".\",\".\",\".\",\"6\"],\n",
    "  [\".\",\"6\",\".\",\".\",\".\",\".\",\"2\",\"8\",\".\"],\n",
    "  [\".\",\".\",\".\",\"4\",\"1\",\"9\",\".\",\".\",\"5\"],\n",
    "  [\".\",\".\",\".\",\".\",\"8\",\".\",\".\",\"7\",\"9\"]\n",
    "]\n",
    "isValidSudoku(board)"
   ]
  },
  {
   "cell_type": "markdown",
   "metadata": {},
   "source": [
    "## 2. Max Points on a Line\n",
    "\n",
    "Given n points on a 2D plane, find the maximum number of points that lie on the same straight line."
   ]
  },
  {
   "cell_type": "code",
   "execution_count": 38,
   "metadata": {},
   "outputs": [],
   "source": [
    "# first attempt\n",
    "def maxPoints(points):\n",
    "    L = len(points)\n",
    "    m = 0\n",
    "    for i in range(L):\n",
    "        dic = {'i':1}\n",
    "        eq = 0\n",
    "        for j in range(i+1, L):\n",
    "            x, y = points[j][0], points[j][1]\n",
    "            if (x, y) == (points[i][0], points[i][1]):\n",
    "                eq += 1\n",
    "                continue\n",
    "            if x == points[i][0]: \n",
    "                slp = 'i' #to compensate undefined slope\n",
    "            else:\n",
    "                slp = (points[i][1] - y) * 1.0/(points[i][0] - x)\n",
    "            if slp not in dic:\n",
    "                dic[slp] = 1\n",
    "            dic[slp] += 1\n",
    "        m = max(m, max(dic.values()) + eq)\n",
    "            \n",
    "    return m"
   ]
  },
  {
   "cell_type": "code",
   "execution_count": 39,
   "metadata": {},
   "outputs": [
    {
     "data": {
      "text/plain": [
       "4"
      ]
     },
     "execution_count": 39,
     "metadata": {},
     "output_type": "execute_result"
    }
   ],
   "source": [
    "points = [[1,1],[3,2],[5,3],[4,1],[2,3],[1,4]]\n",
    "maxPoints(points)"
   ]
  },
  {
   "cell_type": "code",
   "execution_count": 47,
   "metadata": {},
   "outputs": [],
   "source": [
    "# optimize speed by skipping computed points\n",
    "def maxPoints(points):\n",
    "    L = len(points)\n",
    "    m = 0\n",
    "    used = []\n",
    "    for i in range(L):\n",
    "        if points[i] not in used:\n",
    "            used.append(points[i])\n",
    "        else:\n",
    "            continue\n",
    "        dic = {'i':1}\n",
    "        eq = 0\n",
    "        for j in range(i+1, L):\n",
    "            x, y = points[j][0], points[j][1]\n",
    "            if (x, y) == (points[i][0], points[i][1]):\n",
    "                eq += 1\n",
    "                continue\n",
    "            if x == points[i][0]: \n",
    "                slp = 'i' #to compensate undefined slope\n",
    "            else:\n",
    "                slp = (points[i][1] - y) * 1.0/(points[i][0] - x)\n",
    "            if slp not in dic:\n",
    "                dic[slp] = 1\n",
    "            dic[slp] += 1\n",
    "        m = max(m, max(dic.values()) + eq)\n",
    "\n",
    "    return m"
   ]
  },
  {
   "cell_type": "code",
   "execution_count": 48,
   "metadata": {},
   "outputs": [
    {
     "data": {
      "text/plain": [
       "4"
      ]
     },
     "execution_count": 48,
     "metadata": {},
     "output_type": "execute_result"
    }
   ],
   "source": [
    "points = [[1,1],[3,2],[5,3],[4,1],[2,3],[1,4]]\n",
    "maxPoints(points)"
   ]
  },
  {
   "cell_type": "markdown",
   "metadata": {},
   "source": [
    "## 3. 4SUM\n",
    "\n",
    "Given an array nums of n integers and an integer target, are there elements a, b, c, and d in nums such that a + b + c + d = target? Find all unique quadruplets in the array which gives the sum of target."
   ]
  },
  {
   "cell_type": "code",
   "execution_count": 90,
   "metadata": {},
   "outputs": [],
   "source": [
    "# first attempt\n",
    "def fourSum(nums, target):\n",
    "    comp = {} \n",
    "    ans = []\n",
    "    l = len(nums)\n",
    "    \n",
    "    for i in range(l):\n",
    "        for j in range(i+1,l):\n",
    "            a, b = nums[i], nums[j]\n",
    "            if target-a-b not in comp:\n",
    "                comp[a+b] = [i, j]\n",
    "            elif len(set([i, j] + comp[target-a-b]))==4:\n",
    "                x, z = comp[target-a-b]\n",
    "                ans.append([a, b, nums[x], nums[z]])\n",
    "    return ans"
   ]
  },
  {
   "cell_type": "code",
   "execution_count": 92,
   "metadata": {},
   "outputs": [],
   "source": [
    "# not working, naive approach"
   ]
  },
  {
   "cell_type": "code",
   "execution_count": 107,
   "metadata": {},
   "outputs": [],
   "source": [
    "def fourSum(nums, target):\n",
    "    \n",
    "    dic = dict()\n",
    "    for i in range(len(nums)):\n",
    "        for j in range(i+1, len(nums)):\n",
    "            sum2 = nums[i] + nums[j]\n",
    "            if sum2 in dic:\n",
    "                dic[sum2].append((i, j))\n",
    "            else:\n",
    "                dic[sum2] = [(i,j)]\n",
    "    ans = set()\n",
    "    for k in dic:\n",
    "        v = target - k\n",
    "        if v in dic:\n",
    "            l1, l2 = dic[k], dic[v]\n",
    "            for (i, j) in l1:\n",
    "                for (x, y) in l2:\n",
    "                    if i != x and i !=y and j!=x and j!=y:\n",
    "                        s = [nums[i], nums[j], nums[x], nums[y]]\n",
    "                        s.sort()\n",
    "                        ans.add(tuple(s))\n",
    "    return list(ans)"
   ]
  },
  {
   "cell_type": "code",
   "execution_count": 108,
   "metadata": {},
   "outputs": [
    {
     "data": {
      "text/plain": [
       "[(-1, 0, 0, 1), (-2, 0, 0, 2), (-2, -1, 1, 2)]"
      ]
     },
     "execution_count": 108,
     "metadata": {},
     "output_type": "execute_result"
    }
   ],
   "source": [
    "nums = [1, 0, -1, 0, -2, 2]\n",
    "target = 0\n",
    "fourSum(nums, target)"
   ]
  },
  {
   "cell_type": "markdown",
   "metadata": {},
   "source": [
    "## 4. Single Number\n",
    "\n",
    "Given a non-empty array of integers, every element appears twice except for one. Find that single one."
   ]
  },
  {
   "cell_type": "code",
   "execution_count": 119,
   "metadata": {},
   "outputs": [],
   "source": [
    "def singleNumber(nums):\n",
    "    d = dict()\n",
    "    \n",
    "    for i in nums:\n",
    "        if i not in d:\n",
    "            d[i] = 1\n",
    "        else:\n",
    "            del d[i]\n",
    "    return list(d.keys())[0]"
   ]
  },
  {
   "cell_type": "code",
   "execution_count": 121,
   "metadata": {},
   "outputs": [
    {
     "data": {
      "text/plain": [
       "4"
      ]
     },
     "execution_count": 121,
     "metadata": {},
     "output_type": "execute_result"
    }
   ],
   "source": [
    "nums = [4,1,2,1,2]\n",
    "singleNumber(nums)"
   ]
  },
  {
   "cell_type": "code",
   "execution_count": 125,
   "metadata": {},
   "outputs": [],
   "source": [
    "# use XOR operation\n",
    "def singleNumber(nums):\n",
    "    ans = 0\n",
    "    for i in nums:\n",
    "        ans ^= i\n",
    "    return ans"
   ]
  },
  {
   "cell_type": "code",
   "execution_count": 126,
   "metadata": {},
   "outputs": [
    {
     "data": {
      "text/plain": [
       "4"
      ]
     },
     "execution_count": 126,
     "metadata": {},
     "output_type": "execute_result"
    }
   ],
   "source": [
    "nums = [4,1,2,1,2]\n",
    "singleNumber(nums)"
   ]
  },
  {
   "cell_type": "markdown",
   "metadata": {},
   "source": [
    "## 5. Repeated DNA Sequences\n",
    "\n",
    "All DNA is composed of a series of nucleotides abbreviated as A, C, G, and T, for example: \"ACGAATTCCG\". When studying DNA, it is sometimes useful to identify repeated sequences within the DNA.\n",
    "\n",
    "Write a function to find all the 10-letter-long sequences (substrings) that occur more than once in a DNA molecule."
   ]
  },
  {
   "cell_type": "code",
   "execution_count": 164,
   "metadata": {},
   "outputs": [],
   "source": [
    "from collections import Counter\n",
    "def findRepeatedDnaSequences(s):\n",
    "    if len(s) < 10:\n",
    "        return []\n",
    "        \n",
    "    c = Counter([s[i:i+10] for i in range(len(s)-9)])\n",
    "    return [i for (i,j) in c.items() if j > 1]"
   ]
  },
  {
   "cell_type": "code",
   "execution_count": 165,
   "metadata": {},
   "outputs": [
    {
     "data": {
      "text/plain": [
       "['AAAAAAAAAA']"
      ]
     },
     "execution_count": 165,
     "metadata": {},
     "output_type": "execute_result"
    }
   ],
   "source": [
    "s = \"AAAAAAAAAAA\"\n",
    "findRepeatedDnaSequences(s)"
   ]
  },
  {
   "cell_type": "markdown",
   "metadata": {},
   "source": [
    "## 6. Count Primes\n",
    "\n",
    "Count the number of prime numbers less than a non-negative number, n."
   ]
  },
  {
   "cell_type": "code",
   "execution_count": 195,
   "metadata": {},
   "outputs": [],
   "source": [
    "# naive approach, time limit exceeded\n",
    "def countPrimes(n):\n",
    "    if n == 1:\n",
    "        return 0\n",
    "    \n",
    "    d = set()\n",
    "    count = 0\n",
    "    for num in range(2,n):\n",
    "        if not d or all([num%w !=0 for w in d if w <= num/2]):\n",
    "            d.add(num)\n",
    "            count += 1\n",
    "    return count   "
   ]
  },
  {
   "cell_type": "code",
   "execution_count": 196,
   "metadata": {},
   "outputs": [
    {
     "data": {
      "text/plain": [
       "4"
      ]
     },
     "execution_count": 196,
     "metadata": {},
     "output_type": "execute_result"
    }
   ],
   "source": [
    "n=10\n",
    "countPrimes(n)"
   ]
  },
  {
   "cell_type": "code",
   "execution_count": 206,
   "metadata": {},
   "outputs": [],
   "source": [
    "def countPrimes(n):\n",
    "    if n < 3:\n",
    "        return 0\n",
    "    p = n * [True]\n",
    "    p[0] = False\n",
    "    p[1] = False\n",
    "    \n",
    "    for i in range(2, int(n/2)+1):\n",
    "        if p[i]:\n",
    "            p[i*i:n:i] = [False] * len(p[i*i:n:i])\n",
    "    return sum(p)"
   ]
  },
  {
   "cell_type": "code",
   "execution_count": 207,
   "metadata": {},
   "outputs": [
    {
     "data": {
      "text/plain": [
       "4"
      ]
     },
     "execution_count": 207,
     "metadata": {},
     "output_type": "execute_result"
    }
   ],
   "source": [
    "n=10\n",
    "countPrimes(n)"
   ]
  },
  {
   "cell_type": "code",
   "execution_count": 208,
   "metadata": {},
   "outputs": [
    {
     "data": {
      "text/plain": [
       "5133"
      ]
     },
     "execution_count": 208,
     "metadata": {},
     "output_type": "execute_result"
    }
   ],
   "source": [
    "n=50000\n",
    "countPrimes(n)"
   ]
  },
  {
   "cell_type": "markdown",
   "metadata": {},
   "source": [
    "## 7. H-Index\n",
    "\n",
    "Given an array of citations (each citation is a non-negative integer) of a researcher, write a function to compute the researcher's h-index.\n",
    "\n",
    "According to the definition of h-index on Wikipedia: \"A scientist has index h if h of his/her N papers have at least h citations each, and the other N − h papers have no more than h citations each.\""
   ]
  },
  {
   "cell_type": "code",
   "execution_count": 248,
   "metadata": {},
   "outputs": [],
   "source": [
    "def hIndex(citations):\n",
    "    citations.sort()\n",
    "    l = len(citations)\n",
    "    for i in range(l):\n",
    "        if citations[i] >= l-i:\n",
    "            return l-i\n",
    "    return 0"
   ]
  },
  {
   "cell_type": "code",
   "execution_count": 249,
   "metadata": {},
   "outputs": [
    {
     "data": {
      "text/plain": [
       "3"
      ]
     },
     "execution_count": 249,
     "metadata": {},
     "output_type": "execute_result"
    }
   ],
   "source": [
    "citations = [3,0,6,1,5]\n",
    "hIndex(citations)"
   ]
  },
  {
   "cell_type": "code",
   "execution_count": 250,
   "metadata": {},
   "outputs": [],
   "source": [
    "def hIndex(citations):\n",
    "    return sum([i < j for i, j in enumerate(sorted(citations, reverse = True))])"
   ]
  },
  {
   "cell_type": "code",
   "execution_count": 251,
   "metadata": {},
   "outputs": [
    {
     "data": {
      "text/plain": [
       "3"
      ]
     },
     "execution_count": 251,
     "metadata": {},
     "output_type": "execute_result"
    }
   ],
   "source": [
    "citations = [3,0,6,1,5]\n",
    "hIndex(citations)"
   ]
  },
  {
   "cell_type": "code",
   "execution_count": 236,
   "metadata": {},
   "outputs": [
    {
     "data": {
      "text/plain": [
       "[0, 1, 3, 5, 6]"
      ]
     },
     "execution_count": 236,
     "metadata": {},
     "output_type": "execute_result"
    }
   ],
   "source": [
    "citations = [3,0,6,1,5]\n",
    "citations.sort()\n",
    "citations"
   ]
  },
  {
   "cell_type": "markdown",
   "metadata": {},
   "source": [
    "## 8. Sudoku Solver\n",
    "Write a program to solve a Sudoku puzzle by filling the empty cells.\n",
    "\n",
    "A sudoku solution must satisfy all of the following rules:\n",
    "\n",
    "Each of the digits 1-9 must occur exactly once in each row.\n",
    "Each of the digits 1-9 must occur exactly once in each column.\n",
    "Each of the the digits 1-9 must occur exactly once in each of the 9 3x3 sub-boxes of the grid.\n",
    "Empty cells are indicated by the character '.'."
   ]
  },
  {
   "cell_type": "code",
   "execution_count": 280,
   "metadata": {},
   "outputs": [],
   "source": [
    "import collections\n",
    "def solveSudoku(board):\n",
    "    row, col, trip, visit = collections.defaultdict(set), collections.defaultdict(set), collections.defaultdict(set), collections.deque([])\n",
    "    \n",
    "    for r in range(9):\n",
    "        for c in range(9):\n",
    "            if board[r][c] != '.':\n",
    "                row[r].add(board[r][c])\n",
    "                col[c].add(board[r][c])\n",
    "                trip[(r//3, c//3)].add(board[r][c])\n",
    "            else:\n",
    "                visit.append((r,c))\n",
    "    def dfs():\n",
    "        if not visit:\n",
    "            return True\n",
    "        r, c = visit[0]\n",
    "        t = (r//3, c//3)\n",
    "        \n",
    "        for num in {\"1\", \"2\", \"3\", \"4\", \"5\", \"6\", \"7\", \"8\", \"9\"}:\n",
    "            if num not in row[r] and num not in col[c] and num not in trip[t]:\n",
    "                board[r][c] = num\n",
    "                row[r].add(num)\n",
    "                col[c].add(num)\n",
    "                trip[t].add(num)\n",
    "                visit.popleft()\n",
    "                if dfs():\n",
    "                    return True\n",
    "                else:\n",
    "                    board[r][c] = '.'\n",
    "                    row[r].discard(num)\n",
    "                    col[c].discard(num)\n",
    "                    trip[t].discard(num)\n",
    "                    visit.appendleft((r, c))\n",
    "        return False\n",
    "    dfs()          \n",
    "        "
   ]
  },
  {
   "cell_type": "code",
   "execution_count": 281,
   "metadata": {},
   "outputs": [],
   "source": [
    "board = [[\"5\",\"3\",\".\",\".\",\"7\",\".\",\".\",\".\",\".\"],\n",
    "         [\"6\",\".\",\".\",\"1\",\"9\",\"5\",\".\",\".\",\".\"],\n",
    "         [\".\",\"9\",\"8\",\".\",\".\",\".\",\".\",\"6\",\".\"],\n",
    "         [\"8\",\".\",\".\",\".\",\"6\",\".\",\".\",\".\",\"3\"],\n",
    "         [\"4\",\".\",\".\",\"8\",\".\",\"3\",\".\",\".\",\"1\"],\n",
    "         [\"7\",\".\",\".\",\".\",\"2\",\".\",\".\",\".\",\"6\"],\n",
    "         [\".\",\"6\",\".\",\".\",\".\",\".\",\"2\",\"8\",\".\"],\n",
    "         [\".\",\".\",\".\",\"4\",\"1\",\"9\",\".\",\".\",\"5\"],\n",
    "         [\".\",\".\",\".\",\".\",\"8\",\".\",\".\",\"7\",\"9\"]]\n",
    "solveSudoku(board)"
   ]
  },
  {
   "cell_type": "code",
   "execution_count": null,
   "metadata": {},
   "outputs": [],
   "source": []
  },
  {
   "cell_type": "code",
   "execution_count": null,
   "metadata": {},
   "outputs": [],
   "source": []
  }
 ],
 "metadata": {
  "kernelspec": {
   "display_name": "Python 3",
   "language": "python",
   "name": "python3"
  },
  "language_info": {
   "codemirror_mode": {
    "name": "ipython",
    "version": 3
   },
   "file_extension": ".py",
   "mimetype": "text/x-python",
   "name": "python",
   "nbconvert_exporter": "python",
   "pygments_lexer": "ipython3",
   "version": "3.7.6"
  }
 },
 "nbformat": 4,
 "nbformat_minor": 4
}
