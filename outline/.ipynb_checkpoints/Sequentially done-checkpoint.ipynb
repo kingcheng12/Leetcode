{
 "cells": [
  {
   "cell_type": "markdown",
   "metadata": {},
   "source": [
    "# 1. Add Two Numbers\n",
    "\n",
    "You are given two non-empty linked lists representing two non-negative integers. The digits are stored in reverse order, and each of their nodes contains a single digit. Add the two numbers and return the sum as a linked list.\n",
    "\n",
    "You may assume the two numbers do not contain any leading zero, except the number 0 itself."
   ]
  },
  {
   "cell_type": "code",
   "execution_count": 38,
   "metadata": {},
   "outputs": [],
   "source": [
    "class ListNode:\n",
    "    def __init__(self, val=0, next=None):\n",
    "        self.val = val\n",
    "        self.next = next"
   ]
  },
  {
   "cell_type": "code",
   "execution_count": 39,
   "metadata": {},
   "outputs": [],
   "source": [
    "def addTwoNumbers(l1, l2):\n",
    "    ans = ListNode(0)\n",
    "    tail = ans\n",
    "    carry = 0\n",
    "    \n",
    "    while l1 or l2 or carry:\n",
    "        val1 = l1.val if l1 else 0\n",
    "        val2 = l2.val if l2 else 0\n",
    "        su = val1 + val2 + carry\n",
    "        out = su % 10\n",
    "        carry = su // 10\n",
    "        \n",
    "        tail.next = ListNode(out)\n",
    "        tail = tail.next\n",
    "        \n",
    "        l1 = l1.next if l1 else None\n",
    "        l2 = l2.next if l2 else None\n",
    "        \n",
    "    return ans.next"
   ]
  },
  {
   "cell_type": "markdown",
   "metadata": {},
   "source": [
    "#### standard work that move along l1 and l2."
   ]
  },
  {
   "cell_type": "code",
   "execution_count": 41,
   "metadata": {},
   "outputs": [],
   "source": [
    "def addTwoNumbers(l1, l2):\n",
    "    carry = 0 \n",
    "    ans = tail = ListNode(0)\n",
    "    while l1 or l2 or carry:\n",
    "        if l1:\n",
    "            carry += l1.val\n",
    "            l1 =l1.next\n",
    "        if l2:\n",
    "            carry += l2.val\n",
    "            l2 = l2.next\n",
    "        tail.next = ListNode(carry%10)\n",
    "        tail = tail.next\n",
    "        carry = carry//10\n",
    "        \n",
    "    return ans.next"
   ]
  },
  {
   "cell_type": "markdown",
   "metadata": {},
   "source": [
    "# Median of Two Sorted Arrays\n",
    "\n",
    "#### Given two sorted arrays nums1 and nums2 of size m and n respectively, return the median of the two sorted arrays."
   ]
  },
  {
   "cell_type": "code",
   "execution_count": 1,
   "metadata": {},
   "outputs": [],
   "source": [
    "def findMedianSortedArrays(nums1, nums2):\n",
    "    if len(nums1) <= len(nums2):\n",
    "        L, S = nums2, nums1\n",
    "    else:\n",
    "        L, S = nums1, nums2\n",
    "    n, m = len(L), len(S)\n",
    "    \n",
    "    # binary search on short list\n",
    "    imin, imax = 0, m-1\n",
    "    while imin <= imax:\n",
    "        i = (imin+imax)//2\n",
    "        # j for condition 1\n",
    "        j = (m+n+1)//2 - i\n",
    "        \n",
    "        # check edges\n",
    "        if S[i-1] <= L[j] and L[j-1] <= S[i]:\n",
    "            break\n",
    "        elif L[j-1] > S[i]:\n",
    "            imin = i+1\n",
    "        elif S[i-1] > L[j]:\n",
    "            imax = i-1\n",
    "    \n",
    "    # optimal i, j obtained\n",
    "    \n",
    "    return (max(S[i-1], L[j-1]), min(S[i], L[j]))/2 "
   ]
  },
  {
   "cell_type": "code",
   "execution_count": null,
   "metadata": {},
   "outputs": [],
   "source": []
  },
  {
   "cell_type": "code",
   "execution_count": null,
   "metadata": {},
   "outputs": [],
   "source": []
  },
  {
   "cell_type": "code",
   "execution_count": null,
   "metadata": {},
   "outputs": [],
   "source": []
  },
  {
   "cell_type": "code",
   "execution_count": null,
   "metadata": {},
   "outputs": [],
   "source": []
  },
  {
   "cell_type": "code",
   "execution_count": null,
   "metadata": {},
   "outputs": [],
   "source": []
  },
  {
   "cell_type": "code",
   "execution_count": null,
   "metadata": {},
   "outputs": [],
   "source": []
  }
 ],
 "metadata": {
  "kernelspec": {
   "display_name": "Python 3",
   "language": "python",
   "name": "python3"
  },
  "language_info": {
   "codemirror_mode": {
    "name": "ipython",
    "version": 3
   },
   "file_extension": ".py",
   "mimetype": "text/x-python",
   "name": "python",
   "nbconvert_exporter": "python",
   "pygments_lexer": "ipython3",
   "version": "3.7.6"
  }
 },
 "nbformat": 4,
 "nbformat_minor": 4
}
