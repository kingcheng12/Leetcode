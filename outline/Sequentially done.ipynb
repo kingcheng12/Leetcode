{
 "cells": [
  {
   "cell_type": "markdown",
   "metadata": {},
   "source": [
    "# 1. Add Two Numbers\n",
    "\n",
    "You are given two non-empty linked lists representing two non-negative integers. The digits are stored in reverse order, and each of their nodes contains a single digit. Add the two numbers and return the sum as a linked list.\n",
    "\n",
    "You may assume the two numbers do not contain any leading zero, except the number 0 itself."
   ]
  },
  {
   "cell_type": "code",
   "execution_count": 38,
   "metadata": {},
   "outputs": [],
   "source": [
    "class ListNode:\n",
    "    def __init__(self, val=0, next=None):\n",
    "        self.val = val\n",
    "        self.next = next"
   ]
  },
  {
   "cell_type": "code",
   "execution_count": 39,
   "metadata": {},
   "outputs": [],
   "source": [
    "def addTwoNumbers(l1, l2):\n",
    "    ans = ListNode(0)\n",
    "    tail = ans\n",
    "    carry = 0\n",
    "    \n",
    "    while l1 or l2 or carry:\n",
    "        val1 = l1.val if l1 else 0\n",
    "        val2 = l2.val if l2 else 0\n",
    "        su = val1 + val2 + carry\n",
    "        out = su % 10\n",
    "        carry = su // 10\n",
    "        \n",
    "        tail.next = ListNode(out)\n",
    "        tail = tail.next\n",
    "        \n",
    "        l1 = l1.next if l1 else None\n",
    "        l2 = l2.next if l2 else None\n",
    "        \n",
    "    return ans.next"
   ]
  },
  {
   "cell_type": "markdown",
   "metadata": {},
   "source": [
    "#### standard work that move along l1 and l2."
   ]
  },
  {
   "cell_type": "code",
   "execution_count": 41,
   "metadata": {},
   "outputs": [],
   "source": [
    "def addTwoNumbers(l1, l2):\n",
    "    carry = 0 \n",
    "    ans = tail = ListNode(0)\n",
    "    while l1 or l2 or carry:\n",
    "        if l1:\n",
    "            carry += l1.val\n",
    "            l1 =l1.next\n",
    "        if l2:\n",
    "            carry += l2.val\n",
    "            l2 = l2.next\n",
    "        tail.next = ListNode(carry%10)\n",
    "        tail = tail.next\n",
    "        carry = carry//10\n",
    "        \n",
    "    return ans.next"
   ]
  },
  {
   "cell_type": "markdown",
   "metadata": {},
   "source": [
    "# 2. Median of Two Sorted Arrays\n",
    "\n",
    "#### Given two sorted arrays nums1 and nums2 of size m and n respectively, return the median of the two sorted arrays."
   ]
  },
  {
   "cell_type": "code",
   "execution_count": 86,
   "metadata": {},
   "outputs": [],
   "source": [
    "def findMedianSortedArrays(nums1, nums2):\n",
    "    m, n = len(nums1), len(nums2)\n",
    "    if m > n:\n",
    "        nums1, nums2, m, n = nums2, nums1, n, m \n",
    "    \n",
    "    # binary search on short list\n",
    "    imin, imax, half = 0, m-1, (m+n+1)//2\n",
    "    while imin <= imax:\n",
    "        i = (imin+imax)//2\n",
    "        # j for condition 1\n",
    "        j = half - i\n",
    "        \n",
    "        # check cases\n",
    "        if nums2[j-1] > nums1[i] and i < m:\n",
    "            print('c1')\n",
    "            imin = i+1\n",
    "        elif nums1[i-1] > nums2[j] and i > 0:\n",
    "            print('c2')\n",
    "            imax = i-1\n",
    "        # find optimal i\n",
    "        else:\n",
    "            print('else')\n",
    "            if i==0:\n",
    "                max_l = nums2[j-1]\n",
    "            elif j ==0:\n",
    "                max_l = nums1[i-1]\n",
    "            else:\n",
    "                max_l = max(nums2[j-1], nums1[i-1])\n",
    "                \n",
    "            if (m+n)%2==1:\n",
    "                return max_l\n",
    "            \n",
    "            if i==m:\n",
    "                min_r = nums2[j]\n",
    "            elif j==n:\n",
    "                min_r = nums1[i]\n",
    "            else:\n",
    "                min_r = min(nums2[j], nums1[i])\n",
    "                \n",
    "            return (max_l+min_r)/2 \n"
   ]
  },
  {
   "cell_type": "code",
   "execution_count": 87,
   "metadata": {},
   "outputs": [],
   "source": [
    "nums1 = [1]\n",
    "nums2 = [2,3]"
   ]
  },
  {
   "cell_type": "code",
   "execution_count": 88,
   "metadata": {},
   "outputs": [
    {
     "name": "stdout",
     "output_type": "stream",
     "text": [
      "c1\n"
     ]
    }
   ],
   "source": [
    "findMedianSortedArrays(nums1, nums2)"
   ]
  },
  {
   "cell_type": "code",
   "execution_count": 80,
   "metadata": {},
   "outputs": [],
   "source": [
    "def findMedianSortedArrays(nums1, nums2):\n",
    "        if len(nums1) <= len(nums2):\n",
    "            L, S = nums2, nums1\n",
    "        else:\n",
    "            L, S = nums1, nums2\n",
    "        n, m = len(L), len(S)\n",
    "\n",
    "        # binary search on short list\n",
    "        imin, imax, half = 0, m-1, (m+n+1)//2\n",
    "        while imin <= imax:\n",
    "            i = (imin+imax+1)//2\n",
    "            # j for condition 1\n",
    "            j = half - i\n",
    "\n",
    "            # check cases\n",
    "            if L[j-1] > S[i] and i<m:\n",
    "                imin = i+1\n",
    "            elif S[i-1] > L[j] and i>0:\n",
    "                imax = i-1\n",
    "            else:\n",
    "                break\n",
    "                \n",
    "        # optimal i, j obtained\n",
    "        max_l = max(S[i-1], L[j-1])\n",
    "        if (n+m+1)%2 == 0:\n",
    "            return max_l\n",
    "        else:\n",
    "            min_r = min(S[i], L[j])\n",
    "            return (max_l+min_r)/2"
   ]
  },
  {
   "cell_type": "code",
   "execution_count": 81,
   "metadata": {},
   "outputs": [],
   "source": [
    "nums1 = [4]\n",
    "nums2 = [2,3]"
   ]
  },
  {
   "cell_type": "code",
   "execution_count": 82,
   "metadata": {},
   "outputs": [
    {
     "ename": "IndexError",
     "evalue": "list index out of range",
     "output_type": "error",
     "traceback": [
      "\u001b[1;31m---------------------------------------------------------------------------\u001b[0m",
      "\u001b[1;31mIndexError\u001b[0m                                Traceback (most recent call last)",
      "\u001b[1;32m<ipython-input-82-621349e80d58>\u001b[0m in \u001b[0;36m<module>\u001b[1;34m\u001b[0m\n\u001b[1;32m----> 1\u001b[1;33m \u001b[0mfindMedianSortedArrays\u001b[0m\u001b[1;33m(\u001b[0m\u001b[0mnums1\u001b[0m\u001b[1;33m,\u001b[0m \u001b[0mnums2\u001b[0m\u001b[1;33m)\u001b[0m\u001b[1;33m\u001b[0m\u001b[1;33m\u001b[0m\u001b[0m\n\u001b[0m",
      "\u001b[1;32m<ipython-input-80-a18215966fdc>\u001b[0m in \u001b[0;36mfindMedianSortedArrays\u001b[1;34m(nums1, nums2)\u001b[0m\n\u001b[0;32m     16\u001b[0m             \u001b[1;32mif\u001b[0m \u001b[0mL\u001b[0m\u001b[1;33m[\u001b[0m\u001b[0mj\u001b[0m\u001b[1;33m-\u001b[0m\u001b[1;36m1\u001b[0m\u001b[1;33m]\u001b[0m \u001b[1;33m>\u001b[0m \u001b[0mS\u001b[0m\u001b[1;33m[\u001b[0m\u001b[0mi\u001b[0m\u001b[1;33m]\u001b[0m \u001b[1;32mand\u001b[0m \u001b[0mi\u001b[0m\u001b[1;33m<\u001b[0m\u001b[0mm\u001b[0m\u001b[1;33m:\u001b[0m\u001b[1;33m\u001b[0m\u001b[1;33m\u001b[0m\u001b[0m\n\u001b[0;32m     17\u001b[0m                 \u001b[0mimin\u001b[0m \u001b[1;33m=\u001b[0m \u001b[0mi\u001b[0m\u001b[1;33m+\u001b[0m\u001b[1;36m1\u001b[0m\u001b[1;33m\u001b[0m\u001b[1;33m\u001b[0m\u001b[0m\n\u001b[1;32m---> 18\u001b[1;33m             \u001b[1;32melif\u001b[0m \u001b[0mS\u001b[0m\u001b[1;33m[\u001b[0m\u001b[0mi\u001b[0m\u001b[1;33m-\u001b[0m\u001b[1;36m1\u001b[0m\u001b[1;33m]\u001b[0m \u001b[1;33m>\u001b[0m \u001b[0mL\u001b[0m\u001b[1;33m[\u001b[0m\u001b[0mj\u001b[0m\u001b[1;33m]\u001b[0m \u001b[1;32mand\u001b[0m \u001b[0mi\u001b[0m\u001b[1;33m>\u001b[0m\u001b[1;36m0\u001b[0m\u001b[1;33m:\u001b[0m\u001b[1;33m\u001b[0m\u001b[1;33m\u001b[0m\u001b[0m\n\u001b[0m\u001b[0;32m     19\u001b[0m                 \u001b[0mimax\u001b[0m \u001b[1;33m=\u001b[0m \u001b[0mi\u001b[0m\u001b[1;33m-\u001b[0m\u001b[1;36m1\u001b[0m\u001b[1;33m\u001b[0m\u001b[1;33m\u001b[0m\u001b[0m\n\u001b[0;32m     20\u001b[0m             \u001b[1;32melse\u001b[0m\u001b[1;33m:\u001b[0m\u001b[1;33m\u001b[0m\u001b[1;33m\u001b[0m\u001b[0m\n",
      "\u001b[1;31mIndexError\u001b[0m: list index out of range"
     ]
    }
   ],
   "source": [
    "findMedianSortedArrays(nums1, nums2)"
   ]
  },
  {
   "cell_type": "markdown",
   "metadata": {},
   "source": [
    "# 3. ZigZag Conversion\n",
    "\n",
    "#### The string \"PAYPALISHIRING\" is written in a zigzag pattern on a given number of rows like this: (you may want to display this pattern in a fixed font for better legibility) And then read line by line: \"PAHNAPLSIIGYIR\". Write the code that will take a string and make this conversion given a number of rows:"
   ]
  },
  {
   "cell_type": "code",
   "execution_count": 54,
   "metadata": {},
   "outputs": [],
   "source": [
    "# based on numR compute the index of the resulting str\n",
    "def convert(s, numRows):\n",
    "    \n",
    "    # edge case\n",
    "    if numRows==1:\n",
    "        return s\n",
    "    \n",
    "    # create each row\n",
    "    row_list = ['']*min(numRows, len(s))\n",
    "    \n",
    "    current_row, current_direct = 0, 1\n",
    "    for c in s:\n",
    "        row_list[current_row] = row_list[current_row]+c\n",
    "        current_row = current_row+current_direct\n",
    "        if current_row+1 > numRows:\n",
    "            current_row = current_row-2\n",
    "            current_direct=-1\n",
    "        elif current_row < 0:\n",
    "            current_row = current_row+2\n",
    "            current_direct=1\n",
    "        \n",
    "    return ''.join(row_list)\n"
   ]
  },
  {
   "cell_type": "code",
   "execution_count": 58,
   "metadata": {},
   "outputs": [
    {
     "data": {
      "text/plain": [
       "'PAHNAPLSIIGYIR'"
      ]
     },
     "execution_count": 58,
     "metadata": {},
     "output_type": "execute_result"
    }
   ],
   "source": [
    "s = 'PAYPALISHIRING'\n",
    "numRows = 3\n",
    "convert(s, numRows)"
   ]
  },
  {
   "cell_type": "markdown",
   "metadata": {},
   "source": [
    "## The key is to track the current position and the direction in order to determine the position of next element."
   ]
  },
  {
   "cell_type": "code",
   "execution_count": 60,
   "metadata": {},
   "outputs": [],
   "source": [
    "def convert(s, numRows):\n",
    "    \n",
    "    # edge case\n",
    "    if numRows==1:\n",
    "        return s\n",
    "    \n",
    "    # create each row\n",
    "    row_list = ['']*min(numRows, len(s))\n",
    "    \n",
    "    current_row, current_direct = 0, 1\n",
    "    for c in s:\n",
    "        row_list[current_row] += c # inplace append of the string\n",
    "        current_row = current_row+current_direct\n",
    "        if current_row+1 > numRows:\n",
    "            current_row = current_row-2\n",
    "            current_direct=-1\n",
    "        elif current_row < 0:\n",
    "            current_row = current_row+2\n",
    "            current_direct=1\n",
    "        \n",
    "    return ''.join(row_list)"
   ]
  },
  {
   "cell_type": "code",
   "execution_count": 61,
   "metadata": {},
   "outputs": [
    {
     "data": {
      "text/plain": [
       "'PAHNAPLSIIGYIR'"
      ]
     },
     "execution_count": 61,
     "metadata": {},
     "output_type": "execute_result"
    }
   ],
   "source": [
    "s = 'PAYPALISHIRING'\n",
    "numRows = 3\n",
    "convert(s, numRows)"
   ]
  },
  {
   "cell_type": "markdown",
   "metadata": {},
   "source": [
    "# 4. Reverse Integer\n",
    "\n",
    "#### Given a 32-bit signed integer, reverse digits of an integer."
   ]
  },
  {
   "cell_type": "code",
   "execution_count": 71,
   "metadata": {},
   "outputs": [],
   "source": [
    "def reverse(x):\n",
    "    if x == 0:\n",
    "        return 0\n",
    "    while x%10==0:\n",
    "        x = x/10\n",
    "        \n",
    "    return int(str(a)[::-1])"
   ]
  },
  {
   "cell_type": "code",
   "execution_count": 73,
   "metadata": {},
   "outputs": [
    {
     "data": {
      "text/plain": [
       "4321"
      ]
     },
     "execution_count": 73,
     "metadata": {},
     "output_type": "execute_result"
    }
   ],
   "source": [
    "x = 123400\n",
    "reverse(x)"
   ]
  },
  {
   "cell_type": "markdown",
   "metadata": {},
   "source": [
    "### The above will not handle huge number."
   ]
  },
  {
   "cell_type": "code",
   "execution_count": 112,
   "metadata": {},
   "outputs": [],
   "source": [
    "def reverse(x):\n",
    "    ans = 0\n",
    "    is_neg = x < 0\n",
    "    x = abs(x)\n",
    "\n",
    "    while x!=0:\n",
    "        pop = x%10\n",
    "        x //=10\n",
    "\n",
    "        # check overflow\n",
    "        limit = 2147483648\n",
    "        if (ans > limit/10): return 0\n",
    "\n",
    "        ans *= 10\n",
    "        ans += pop\n",
    "\n",
    "    if is_neg:\n",
    "        return -ans\n",
    "    else:\n",
    "        return ans"
   ]
  },
  {
   "cell_type": "code",
   "execution_count": 113,
   "metadata": {},
   "outputs": [
    {
     "data": {
      "text/plain": [
       "-321"
      ]
     },
     "execution_count": 113,
     "metadata": {},
     "output_type": "execute_result"
    }
   ],
   "source": [
    "x = -123\n",
    "reverse(x)"
   ]
  },
  {
   "cell_type": "markdown",
   "metadata": {},
   "source": [
    "### The key is to understand the boundary of int types."
   ]
  },
  {
   "cell_type": "markdown",
   "metadata": {},
   "source": [
    "## 5. Palindrome Number\n",
    "\n",
    "#### Determine whether an integer is a palindrome. An integer is a palindrome when it reads the same backward as forward."
   ]
  },
  {
   "cell_type": "code",
   "execution_count": 110,
   "metadata": {},
   "outputs": [],
   "source": [
    "# would be easy if convert to string, use int type\n",
    "# this is just reverse the number and compare\n",
    "def isPalindrome(x):\n",
    "    \n",
    "    # edge case\n",
    "    if x < 0:\n",
    "        return False\n",
    "    \n",
    "    p, res = x, 0\n",
    "    while p:\n",
    "        res = res*10 + p%10\n",
    "        p //= 10\n",
    "    return res == x\n",
    "    "
   ]
  },
  {
   "cell_type": "code",
   "execution_count": 111,
   "metadata": {},
   "outputs": [
    {
     "data": {
      "text/plain": [
       "False"
      ]
     },
     "execution_count": 111,
     "metadata": {},
     "output_type": "execute_result"
    }
   ],
   "source": [
    "x = 16621\n",
    "isPalindrome(x)"
   ]
  },
  {
   "cell_type": "code",
   "execution_count": 116,
   "metadata": {},
   "outputs": [],
   "source": [
    "# check from both sides\n",
    "def isPalindrome(x):\n",
    "    # edge case\n",
    "    if x < 0:\n",
    "        return False\n",
    "    \n",
    "    # compute the range of the number\n",
    "    ranger = 1\n",
    "    while x /ranger >=10:\n",
    "        ranger *= 10\n",
    "        \n",
    "    while x:\n",
    "        left = x//ranger\n",
    "        right = x % 10\n",
    "        if left != right:\n",
    "            return False\n",
    "        \n",
    "        x = (x%ranger)//10\n",
    "        ranger //= 100\n",
    "        \n",
    "    return True"
   ]
  },
  {
   "cell_type": "code",
   "execution_count": 118,
   "metadata": {},
   "outputs": [
    {
     "data": {
      "text/plain": [
       "True"
      ]
     },
     "execution_count": 118,
     "metadata": {},
     "output_type": "execute_result"
    }
   ],
   "source": [
    "x = 121\n",
    "isPalindrome(x)"
   ]
  },
  {
   "cell_type": "code",
   "execution_count": 119,
   "metadata": {},
   "outputs": [],
   "source": [
    "# str\n",
    "def isPalindrome(x):\n",
    "    # edge case\n",
    "    if x < 0:\n",
    "        return False\n",
    "    copy = str(x)\n",
    "    rev = copy[::-1]\n",
    "    \n",
    "    return copy == rev"
   ]
  },
  {
   "cell_type": "code",
   "execution_count": 121,
   "metadata": {},
   "outputs": [
    {
     "data": {
      "text/plain": [
       "False"
      ]
     },
     "execution_count": 121,
     "metadata": {},
     "output_type": "execute_result"
    }
   ],
   "source": [
    "x = 1231\n",
    "isPalindrome(x)"
   ]
  },
  {
   "cell_type": "markdown",
   "metadata": {},
   "source": [
    "## 6. Regular Expression Matching\n",
    "\n",
    "Given an input string (s) and a pattern (p), implement regular expression matching with support for '.' and '*' where: \n",
    "\n",
    "'.' Matches any single character.​​​​\n",
    "'*' Matches zero or more of the preceding element.\n",
    "The matching should cover the entire input string (not partial)."
   ]
  },
  {
   "cell_type": "code",
   "execution_count": 138,
   "metadata": {},
   "outputs": [],
   "source": [
    "# This is clearly a DP problem\n",
    "def isMatch(s, p):\n",
    "    # create dp table \n",
    "    table = {}\n",
    "    def dp(i, j):\n",
    "        if (i, j) not in table:\n",
    "            # if j == len(p), p[j:] is empty, s[i:] also need to be empty\n",
    "            # base case\n",
    "            if j == len(p):\n",
    "                sol = i == len(s)\n",
    "            else:\n",
    "                # first match if s[i:] is not empty and s[i] matches p[j]\n",
    "                match_1 = i<len(s) and p[j] in {'.', s[i]}\n",
    "                if j+1<len(p) and p[j+1]=='*':\n",
    "                    sol = (match_1 and dp(i+1, j)) or dp(i, j+2)\n",
    "                else:\n",
    "                    sol = match_1 and dp(i+1, j+1)\n",
    "            table[i,j] = sol\n",
    "        return table[i,j]\n",
    "    return dp(0,0)\n"
   ]
  },
  {
   "cell_type": "code",
   "execution_count": 139,
   "metadata": {},
   "outputs": [
    {
     "data": {
      "text/plain": [
       "True"
      ]
     },
     "execution_count": 139,
     "metadata": {},
     "output_type": "execute_result"
    }
   ],
   "source": [
    "s = \"aab\"\n",
    "p = \"c*a*b\"\n",
    "isMatch(s, p)"
   ]
  },
  {
   "cell_type": "markdown",
   "metadata": {},
   "source": [
    "### Use dictionary for table keeping might be more efficient than filling in the whole table."
   ]
  },
  {
   "cell_type": "markdown",
   "metadata": {},
   "source": [
    "## 7. Roman to Integer\n",
    "#### Roman numerals are represented by seven different symbols: I, V, X, L, C, D and M. \n",
    "\n",
    "#### For example, 2 is written as II in Roman numeral, just two one's added together. 12 is written as XII, which is simply X + II. The number 27 is written as XXVII, which is XX + V + II.\n",
    "\n",
    "#### Roman numerals are usually written largest to smallest from left to right. However, the numeral for four is not IIII. Instead, the number four is written as IV. Because the one is before the five we subtract it making four. The same principle applies to the number nine, which is written as IX. There are six instances where subtraction is used:\n",
    "\n",
    "#### I can be placed before V (5) and X (10) to make 4 and 9. \n",
    "#### X can be placed before L (50) and C (100) to make 40 and 90. \n",
    "#### C can be placed before D (500) and M (1000) to make 400 and 900.\n",
    "#### Given a roman numeral, convert it to an integer."
   ]
  },
  {
   "cell_type": "code",
   "execution_count": 21,
   "metadata": {},
   "outputs": [],
   "source": [
    "def romanToInt(s):\n",
    "    dic = {'I':1,\n",
    "          'V':5,\n",
    "          'X':10,\n",
    "          'L':50,\n",
    "          'C':100,\n",
    "          'D':500,\n",
    "          'M':1000,\n",
    "          'IV':4,\n",
    "          'IX':9,\n",
    "          'XL':40,\n",
    "          'XC':90,\n",
    "          'CD':400,\n",
    "          'CM':900}\n",
    "    \n",
    "    ans = 0\n",
    "    i = 1\n",
    "    while i < len(s)+1:\n",
    "        if s[i-1:i+1] in dic:\n",
    "            ans += dic[s[i-1:i+1]]\n",
    "            i += 2\n",
    "        else:\n",
    "            ans += dic[s[i-1]]\n",
    "            i += 1\n",
    "    return ans\n",
    "        "
   ]
  },
  {
   "cell_type": "code",
   "execution_count": 24,
   "metadata": {},
   "outputs": [
    {
     "data": {
      "text/plain": [
       "1994"
      ]
     },
     "execution_count": 24,
     "metadata": {},
     "output_type": "execute_result"
    }
   ],
   "source": [
    "s = 'MCMXCIV'\n",
    "romanToInt(s)"
   ]
  },
  {
   "cell_type": "code",
   "execution_count": 27,
   "metadata": {},
   "outputs": [],
   "source": [
    "# not encode into 2 roman\n",
    "def romanToInt(s):\n",
    "    dic = {'I':1,\n",
    "          'V':5,\n",
    "          'X':10,\n",
    "          'L':50,\n",
    "          'C':100,\n",
    "          'D':500,\n",
    "          'M':1000}\n",
    "    \n",
    "    ans = 0\n",
    "    \n",
    "    for i in range(len(s)-1):\n",
    "        if dic[s[i]]<dic[s[i+1]]:\n",
    "            ans -= dic[s[i]]\n",
    "        else:\n",
    "            ans += dic[s[i]]\n",
    "    return ans + dic[s[-1]]"
   ]
  },
  {
   "cell_type": "code",
   "execution_count": 28,
   "metadata": {},
   "outputs": [
    {
     "data": {
      "text/plain": [
       "1994"
      ]
     },
     "execution_count": 28,
     "metadata": {},
     "output_type": "execute_result"
    }
   ],
   "source": [
    "s = 'MCMXCIV'\n",
    "romanToInt(s)"
   ]
  },
  {
   "cell_type": "code",
   "execution_count": 29,
   "metadata": {},
   "outputs": [],
   "source": [
    "# reduce memory\n",
    "def romanToInt(s):\n",
    "    dic = {'I':1,\n",
    "          'V':5,\n",
    "          'X':10,\n",
    "          'L':50,\n",
    "          'C':100,\n",
    "          'D':500,\n",
    "          'M':1000}\n",
    "    \n",
    "    res, prev = 0, 0\n",
    "    \n",
    "    for i in s[::-1]:\n",
    "        if dic[i] >= prev:\n",
    "            res += dic[i]\n",
    "        else:\n",
    "            res -= dic[i]\n",
    "        prev = dic[i]\n",
    "    \n",
    "    return res"
   ]
  },
  {
   "cell_type": "code",
   "execution_count": 30,
   "metadata": {},
   "outputs": [
    {
     "data": {
      "text/plain": [
       "1994"
      ]
     },
     "execution_count": 30,
     "metadata": {},
     "output_type": "execute_result"
    }
   ],
   "source": [
    "s = 'MCMXCIV'\n",
    "romanToInt(s)"
   ]
  },
  {
   "cell_type": "markdown",
   "metadata": {},
   "source": [
    "## 8. 3Sum Closest\n",
    "#### Given an array nums of n integers and an integer target, find three integers in nums such that the sum is closest to target. Return the sum of the three integers. You may assume that each input would have exactly one solution."
   ]
  },
  {
   "cell_type": "code",
   "execution_count": 38,
   "metadata": {},
   "outputs": [],
   "source": [
    "# two pointers\n",
    "def threeSumClosest(nums, target):\n",
    "    # sort \n",
    "    nums.sort()\n",
    "    \n",
    "    diff = float('inf')\n",
    "    \n",
    "    for i in range(len(nums)):\n",
    "        l, h = i+1, len(nums)-1\n",
    "        while l < h:\n",
    "            sum3 = nums[i]+nums[l]+nums[h]\n",
    "            if sum3 == target:\n",
    "                return target\n",
    "            if abs(target - sum3) < abs(diff):\n",
    "                diff = target - sum3\n",
    "            if sum3 < target:\n",
    "                l += 1\n",
    "            else:\n",
    "                h -= 1\n",
    "    return target - diff      "
   ]
  },
  {
   "cell_type": "code",
   "execution_count": 39,
   "metadata": {},
   "outputs": [
    {
     "data": {
      "text/plain": [
       "2"
      ]
     },
     "execution_count": 39,
     "metadata": {},
     "output_type": "execute_result"
    }
   ],
   "source": [
    "nums = [-1,2,1,-4]\n",
    "target = 1\n",
    "threeSumClosest(nums, target)"
   ]
  },
  {
   "cell_type": "markdown",
   "metadata": {},
   "source": [
    "### With two pointers, need to track what you want to track."
   ]
  },
  {
   "cell_type": "markdown",
   "metadata": {},
   "source": [
    "## 9. Remove Nth Node From End of List\n",
    "#### Given the head of a linked list, remove the nth node from the end of the list and return its head."
   ]
  },
  {
   "cell_type": "code",
   "execution_count": 40,
   "metadata": {},
   "outputs": [],
   "source": [
    "class ListNode:\n",
    "    def __init__(self, val=0, next=None):\n",
    "        self.val = val\n",
    "        self.next = next"
   ]
  },
  {
   "cell_type": "code",
   "execution_count": 53,
   "metadata": {},
   "outputs": [],
   "source": [
    "# no dummy, 2 pointer, 1 pass\n",
    "def removeNthFromEnd(head, n):\n",
    "    fast = slow = head\n",
    "    for _ in range(n):\n",
    "        fast = fast.next\n",
    "    if not fast:\n",
    "        return head.next\n",
    "    while fast.next:\n",
    "        fast = fast.next\n",
    "        slow = slow.next\n",
    "    slow.next = slow.next.next\n",
    "    return head   "
   ]
  },
  {
   "cell_type": "markdown",
   "metadata": {},
   "source": [
    "#### The idea is to keep the n-th gap between two pointers and track till the end for the fast pointer."
   ]
  },
  {
   "cell_type": "markdown",
   "metadata": {},
   "source": [
    "## 10. Merge Two Sorted Lists\n",
    "\n",
    "#### Merge two sorted linked lists and return it as a new sorted list. The new list should be made by splicing together the nodes of the first two lists."
   ]
  },
  {
   "cell_type": "code",
   "execution_count": 1,
   "metadata": {},
   "outputs": [],
   "source": [
    "class ListNode:\n",
    "    def __init__(self, val=0, next=None):\n",
    "        self.val = val\n",
    "        self.next = next"
   ]
  },
  {
   "cell_type": "code",
   "execution_count": 2,
   "metadata": {},
   "outputs": [],
   "source": [
    "def mergeTwoLists(l1, l2):\n",
    "    # create dummy\n",
    "    ans = tail = ListNode(0)\n",
    "    \n",
    "    while l1 and l2:\n",
    "        if l1.val <= l2.val:\n",
    "            tail.next = l1\n",
    "            l1 = l1.next\n",
    "        else:\n",
    "            tail.next = l2\n",
    "            l2 = l2.next\n",
    "        tail = tail.next\n",
    "    tail.next = l1 or l2\n",
    "      \n",
    "    return ans.next"
   ]
  },
  {
   "cell_type": "markdown",
   "metadata": {},
   "source": [
    "## 11. Merge k Sorted Lists\n",
    "\n",
    "#### You are given an array of k linked-lists lists, each linked-list is sorted in ascending order.\n",
    "\n",
    "#### Merge all the linked-lists into one sorted linked-list and return it."
   ]
  },
  {
   "cell_type": "code",
   "execution_count": 7,
   "metadata": {},
   "outputs": [],
   "source": [
    "# basic idea, sort for every input\n",
    "def mergeKLists(lists):\n",
    "    # dummy \n",
    "    ans = tail = ListNode(0)\n",
    "    \n",
    "    nodes = []\n",
    "    \n",
    "    # take out all values\n",
    "    for l in lists:\n",
    "        while l:\n",
    "            nodes.append(l.val)\n",
    "            l = l.next\n",
    "    # sort and create answer  \n",
    "    for x in sorted(nodes):\n",
    "        tail.next = ListNode(x)\n",
    "        tail = tail.next\n",
    "    return head.next"
   ]
  },
  {
   "cell_type": "markdown",
   "metadata": {},
   "source": [
    "#### This is the most intuitive and basic algorithm. \n",
    "\n",
    "#### Another method is to sort for every k vals and append to the ListNode accoringly."
   ]
  },
  {
   "cell_type": "code",
   "execution_count": 13,
   "metadata": {},
   "outputs": [],
   "source": [
    "from queue import PriorityQueue\n",
    "\n",
    "# priority queue\n",
    "def mergeKLists(lists):\n",
    "    # dummy \n",
    "    ans = tail = ListNode(0)\n",
    "    \n",
    "    q = PriorityQueue()\n",
    "    for l in lists:\n",
    "        if l:\n",
    "            q.put((l.val, l))\n",
    "    while not q.empty():\n",
    "        val, node = q.get()\n",
    "        tail.next = ListNode(val)\n",
    "        tail = tail.next\n",
    "        node = node.next\n",
    "        if node:\n",
    "            q.put((node.val, node))\n",
    "    return ans.next"
   ]
  },
  {
   "cell_type": "code",
   "execution_count": 14,
   "metadata": {},
   "outputs": [],
   "source": [
    "# devide and conquer\n",
    "# repeatedly merge two ListNode\n",
    "def mergeKLists(lists):\n",
    "    def mergeTwoLists(l1, l2):\n",
    "        # create dummy\n",
    "        ans = tail = ListNode(0)\n",
    "\n",
    "        while l1 and l2:\n",
    "            if l1.val <= l2.val:\n",
    "                tail.next = l1\n",
    "                l1 = l1.next\n",
    "            else:\n",
    "                tail.next = l2\n",
    "                l2 = l2.next\n",
    "            tail = tail.next\n",
    "        tail.next = l1 or l2  \n",
    "        return ans.next\n",
    "    \n",
    "    n = len(lists)\n",
    "    interval = 1\n",
    "    while interval < n:\n",
    "        for i in range(0, n - interval, interval*2):\n",
    "            lists[i] = mergeTwoLists(lists[i], lists[i+interval])\n",
    "        interval *= 2\n",
    "    return lists[0] if n>0 else None"
   ]
  },
  {
   "cell_type": "markdown",
   "metadata": {},
   "source": [
    "## 12. Swap Nodes in Pairs\n",
    "\n",
    "#### Given a linked list, swap every two adjacent nodes and return its head. You may not modify the values in the list's nodes. Only nodes itself may be changed."
   ]
  },
  {
   "cell_type": "code",
   "execution_count": 33,
   "metadata": {},
   "outputs": [],
   "source": [
    "def create_listnode(l):\n",
    "    ans = tail = ListNode(0)\n",
    "    for i in l:\n",
    "        tail.next = ListNode(i)\n",
    "        tail = tail.next\n",
    "    return ans.next"
   ]
  },
  {
   "cell_type": "code",
   "execution_count": 34,
   "metadata": {},
   "outputs": [],
   "source": [
    "head = create_listnode([1,2,3,4])"
   ]
  },
  {
   "cell_type": "code",
   "execution_count": 39,
   "metadata": {},
   "outputs": [],
   "source": [
    "# create new ListNode with modified values\n",
    "def swapPairs(head):\n",
    "    ans = tail = ListNode(0)\n",
    "    \n",
    "    while head and head.next:\n",
    "        tail.next = ListNode(head.next.val)\n",
    "        tail = tail.next\n",
    "        tail.next = ListNode(head.val)\n",
    "        tail = tail.next\n",
    "        head = head.next.next\n",
    "        \n",
    "    tail.next = head\n",
    "    \n",
    "    return ans.next"
   ]
  },
  {
   "cell_type": "code",
   "execution_count": 40,
   "metadata": {},
   "outputs": [],
   "source": [
    "# do inplace change\n",
    "def swapPairs(head):\n",
    "    ans = tail = ListNode(0)\n",
    "    \n",
    "    tail.next = head\n",
    "    while tail.next and tail.next.next:\n",
    "        a = tail.next\n",
    "        b = a.next\n",
    "        \n",
    "        # switch without inter impact\n",
    "        tail.next, b.next, a.next = b, a, b.next\n",
    "        tail = a\n",
    "    return ans.next\n",
    "        "
   ]
  },
  {
   "cell_type": "markdown",
   "metadata": {},
   "source": [
    "## 13. Reverse Nodes in k-Group\n",
    "\n",
    "#### Given a linked list, reverse the nodes of a linked list k at a time and return its modified list. k is a positive integer and is less than or equal to the length of the linked list. If the number of nodes is not a multiple of k then left-out nodes, in the end, should remain as it is."
   ]
  },
  {
   "cell_type": "code",
   "execution_count": 23,
   "metadata": {},
   "outputs": [],
   "source": [
    "class ListNode:\n",
    "    def __init__(self, val=0, next=None):\n",
    "        self.val = val\n",
    "        self.next = next\n",
    "    def __str__(self):\n",
    "        ans = []\n",
    "        while self:\n",
    "            ans.append(str(self.val))\n",
    "            self = self.next\n",
    "        return ' '.join(ans)"
   ]
  },
  {
   "cell_type": "code",
   "execution_count": 24,
   "metadata": {},
   "outputs": [],
   "source": [
    "def create_listnode(l):\n",
    "    ans = tail = ListNode(0)\n",
    "    for i in l:\n",
    "        tail.next = ListNode(i)\n",
    "        tail = tail.next\n",
    "    return ans.next"
   ]
  },
  {
   "cell_type": "markdown",
   "metadata": {},
   "source": [
    "#### It will be intuitive to store all the value and relink the whole listnode. But it will not be O(1) in memory."
   ]
  },
  {
   "cell_type": "code",
   "execution_count": 290,
   "metadata": {},
   "outputs": [],
   "source": [
    "def reverseKGroup(head, k):\n",
    "    if k == 1:\n",
    "        return head\n",
    "    \n",
    "    ans = tail = ListNode(0)\n",
    "    \n",
    "    def k_step(l, k):\n",
    "        for i in range(k):\n",
    "            if l:\n",
    "                l = l.next\n",
    "            else:\n",
    "                return False\n",
    "        return True\n",
    "    \n",
    "    while k_step(head, k):\n",
    "        temp = []\n",
    "        for i in range(k):\n",
    "            if head:\n",
    "                temp.append(head.val)\n",
    "                head = head.next\n",
    "            else:\n",
    "                break\n",
    "        while temp:\n",
    "            tail.next = ListNode(temp.pop())\n",
    "            tail = tail.next\n",
    "    tail.next = head\n",
    "    \n",
    "    return ans.next"
   ]
  },
  {
   "cell_type": "code",
   "execution_count": 291,
   "metadata": {},
   "outputs": [],
   "source": [
    "l = create_listnode([1,2])\n",
    "k=2"
   ]
  },
  {
   "cell_type": "code",
   "execution_count": 292,
   "metadata": {},
   "outputs": [
    {
     "name": "stdout",
     "output_type": "stream",
     "text": [
      "2 1\n"
     ]
    }
   ],
   "source": [
    "print(reverseKGroup(l, k))"
   ]
  },
  {
   "cell_type": "code",
   "execution_count": null,
   "metadata": {},
   "outputs": [],
   "source": [
    "# O(1) memory\n",
    "def reverseKGroup(head, k):\n",
    "    ans = tail = ListNode(0)\n",
    "    ans.next = l = r = head\n",
    "    \n",
    "    while True:\n",
    "        count = 0\n",
    "        while r and count < k:\n",
    "            r = r.next\n",
    "            count += 1\n",
    "            \n",
    "        if count == k:\n",
    "            pre, cur = r, l\n",
    "            for _ in range(k):\n",
    "                cur.next, cur, pre = pre, cur.next, cur\n",
    "            tail.next, tail, l = pre, l ,r\n",
    "        else:\n",
    "            return ans.next"
   ]
  },
  {
   "cell_type": "markdown",
   "metadata": {},
   "source": [
    "#### Know how to reverse the linked list."
   ]
  },
  {
   "cell_type": "markdown",
   "metadata": {},
   "source": [
    "## 13. Remove Duplicates from Sorted Array\n",
    "#### Given a sorted array nums, remove the duplicates in-place such that each element appears only once and returns the new length.\n",
    "\n",
    "#### Do not allocate extra space for another array, you must do this by modifying the input array in-place with O(1) extra memory."
   ]
  },
  {
   "cell_type": "code",
   "execution_count": 296,
   "metadata": {},
   "outputs": [],
   "source": [
    "# two pointer\n",
    "def removeDuplicates(nums):\n",
    "    if len(nums) == 0:\n",
    "        return 0\n",
    "    \n",
    "    i = 0\n",
    "    for j in range(1,len(nums)):\n",
    "        if nums[j] != nums[i]:\n",
    "            i += 1\n",
    "            nums[i] = nums[j]\n",
    "    return i+1"
   ]
  },
  {
   "cell_type": "code",
   "execution_count": 297,
   "metadata": {},
   "outputs": [
    {
     "data": {
      "text/plain": [
       "4"
      ]
     },
     "execution_count": 297,
     "metadata": {},
     "output_type": "execute_result"
    }
   ],
   "source": [
    "nums = [1,2,3,3,4]\n",
    "removeDuplicates(nums)"
   ]
  },
  {
   "cell_type": "markdown",
   "metadata": {},
   "source": [
    "## 14. Implement strStr()\n",
    "\n",
    "#### Implement strStr(). Return the index of the first occurrence of needle in haystack, or -1 if needle is not part of haystack."
   ]
  },
  {
   "cell_type": "code",
   "execution_count": 306,
   "metadata": {},
   "outputs": [],
   "source": [
    "# two pointers\n",
    "def strStr(haystack, needle):\n",
    "    n, m = len(haystack), len(needle)\n",
    "    if needle == '':\n",
    "        return 0\n",
    "    elif haystack == '':\n",
    "        return -1\n",
    "    \n",
    "    for i in range(n-m+1):\n",
    "        count = 0\n",
    "        for j in range(m):\n",
    "            if haystack[i+count]==needle[j]:\n",
    "                count += 1\n",
    "            else:\n",
    "                break\n",
    "        if count == m:\n",
    "            return i\n",
    "    return -1"
   ]
  },
  {
   "cell_type": "code",
   "execution_count": 308,
   "metadata": {},
   "outputs": [
    {
     "data": {
      "text/plain": [
       "2"
      ]
     },
     "execution_count": 308,
     "metadata": {},
     "output_type": "execute_result"
    }
   ],
   "source": [
    "haystack = \"hell\"\n",
    "needle = \"ll\"\n",
    "strStr(haystack, needle)"
   ]
  },
  {
   "cell_type": "markdown",
   "metadata": {},
   "source": [
    "#### Instead of 2 pointers for checking single letters, could just check the whole chuck of letters."
   ]
  },
  {
   "cell_type": "markdown",
   "metadata": {},
   "source": [
    "## 15. Divide Two Integers\n",
    "\n",
    "#### Given two integers dividend and divisor, divide two integers without using multiplication, division, and mod operator.\n",
    "\n",
    "#### Return the quotient after dividing dividend by divisor.\n",
    "\n",
    "#### The integer division should truncate toward zero, which means losing its fractional part. For example, truncate(8.345) = 8 and truncate(-2.7335) = -2."
   ]
  },
  {
   "cell_type": "code",
   "execution_count": 315,
   "metadata": {},
   "outputs": [],
   "source": [
    "def divide(dividend, divisor):\n",
    "    is_neg = False\n",
    "    if (dividend>0 and divisor<0) or (dividend<0 and divisor>0):\n",
    "        is_neg = True\n",
    "    dividend, divisor = abs(dividend), abs(divisor)\n",
    "    \n",
    "    count = 0\n",
    "    while divisor <= dividend:\n",
    "        dividend -= divisor\n",
    "        count +=1\n",
    "    return -count if is_neg else count"
   ]
  },
  {
   "cell_type": "code",
   "execution_count": 316,
   "metadata": {},
   "outputs": [
    {
     "data": {
      "text/plain": [
       "1"
      ]
     },
     "execution_count": 316,
     "metadata": {},
     "output_type": "execute_result"
    }
   ],
   "source": [
    "dividend = 1\n",
    "divisor =  1\n",
    "divide(dividend, divisor)"
   ]
  },
  {
   "cell_type": "markdown",
   "metadata": {},
   "source": [
    "#### need to deal with overflow (2147483647)."
   ]
  },
  {
   "cell_type": "code",
   "execution_count": 325,
   "metadata": {},
   "outputs": [],
   "source": [
    "def divide(dividend, divisor):\n",
    "    is_neg = (dividend<0) != (divisor<0)\n",
    "    dividend = abs(dividend)\n",
    "    divisor = div = abs(divisor)\n",
    "    \n",
    "    Q = 1\n",
    "    ans =0\n",
    "    \n",
    "    while dividend >= divisor:\n",
    "        dividend -= div\n",
    "        ans += Q\n",
    "        Q += Q\n",
    "        div += div\n",
    "        if dividend < div:\n",
    "            div = divisor\n",
    "            Q = 1\n",
    "    return max(-ans, -2147483648) if is_neg else min(ans, 2147483647)"
   ]
  },
  {
   "cell_type": "code",
   "execution_count": 326,
   "metadata": {},
   "outputs": [
    {
     "data": {
      "text/plain": [
       "-2"
      ]
     },
     "execution_count": 326,
     "metadata": {},
     "output_type": "execute_result"
    }
   ],
   "source": [
    "dividend = 7\n",
    "divisor =  -3\n",
    "divide(dividend, divisor)"
   ]
  },
  {
   "cell_type": "markdown",
   "metadata": {},
   "source": [
    "#### Everytime we double the div."
   ]
  },
  {
   "cell_type": "markdown",
   "metadata": {},
   "source": [
    "## 16. Substring with Concatenation of All Words\n",
    "\n",
    "#### You are given a string s and an array of strings words of the same length. Return all starting indices of substring(s) in s that is a concatenation of each word in words exactly once, in any order, and without any intervening characters.\n",
    "\n",
    "#### You can return the answer in any order."
   ]
  },
  {
   "cell_type": "code",
   "execution_count": 35,
   "metadata": {},
   "outputs": [],
   "source": [
    "# use stack\n",
    "# sequential search\n",
    "# word in words can be repeatedly use\n",
    "def findSubstring(s, words):\n",
    "    if not words:\n",
    "        return []\n",
    "    \n",
    "    # length of each words\n",
    "    ans = []\n",
    "    l = len(words[0])\n",
    "    m = len(words)\n",
    "    n = len(s)\n",
    "    \n",
    "    for i in range(n-l*m+1):\n",
    "        w = words.copy()\n",
    "        temp = []\n",
    "        for j in range(m):\n",
    "            sub = s[i+j*l:i+(j+1)*l]\n",
    "            if sub in w:\n",
    "                temp.append(sub)\n",
    "                w.remove(sub)\n",
    "            else:\n",
    "                break\n",
    "        if len(temp) == m:\n",
    "            ans.append(i)\n",
    "            \n",
    "    return ans"
   ]
  },
  {
   "cell_type": "code",
   "execution_count": 36,
   "metadata": {},
   "outputs": [
    {
     "data": {
      "text/plain": [
       "[6, 9, 12]"
      ]
     },
     "execution_count": 36,
     "metadata": {},
     "output_type": "execute_result"
    }
   ],
   "source": [
    "s = \"barfoofoobarthefoobarman\"\n",
    "words = [\"bar\",\"foo\",\"the\"]\n",
    "findSubstring(s, words)"
   ]
  },
  {
   "cell_type": "markdown",
   "metadata": {},
   "source": [
    "### The above is the intuitive method and we want to improve it. Note that we have repeatedly read the string, let's try to read it less frequently."
   ]
  },
  {
   "cell_type": "code",
   "execution_count": 3,
   "metadata": {},
   "outputs": [],
   "source": [
    "# hash table and two pointers\n",
    "def findSubstring(s, words):\n",
    "    import collections\n",
    "    if not s or not words:\n",
    "        return []\n",
    "    ans = []\n",
    "    word_len = len(words[0])\n",
    "    sentence_len = word_len * len(words)\n",
    "    s_len = len(s)\n",
    "    dic = collections.Counter(words)\n",
    "    \n",
    "    for i in range(word_len):\n",
    "        d = collections.Counter()\n",
    "        left, right = i, i\n",
    "        while right < s_len-word_len+1:\n",
    "            word = s[right:right+word_len]\n",
    "            right += word_len\n",
    "            if word not in dic:\n",
    "                d.clear()\n",
    "                left = right\n",
    "                continue\n",
    "            d[word] += 1\n",
    "            while d[word] > dic[word]:\n",
    "                d[s[left:left+word_len]] -= 1\n",
    "                left += word_len\n",
    "            if left + sentence_len == right:\n",
    "                ans.append(left)\n",
    "    return ans\n",
    "    "
   ]
  },
  {
   "cell_type": "code",
   "execution_count": 4,
   "metadata": {},
   "outputs": [
    {
     "data": {
      "text/plain": [
       "[0, 9]"
      ]
     },
     "execution_count": 4,
     "metadata": {},
     "output_type": "execute_result"
    }
   ],
   "source": [
    "s = \"barfoothefoobarman\"\n",
    "words = [\"bar\",\"foo\"]\n",
    "findSubstring(s, words)"
   ]
  },
  {
   "cell_type": "markdown",
   "metadata": {},
   "source": [
    "## 17. Next Permutation\n",
    "\n",
    "#### Implement next permutation, which rearranges numbers into the lexicographically next greater permutation of numbers.\n",
    "\n",
    "#### If such an arrangement is not possible, it must rearrange it as the lowest possible order (i.e., sorted in ascending order).\n",
    "\n",
    "#### The replacement must be in place and use only constant extra memory."
   ]
  },
  {
   "cell_type": "code",
   "execution_count": 22,
   "metadata": {},
   "outputs": [],
   "source": [
    "def nextPermutation(nums):\n",
    "    i = j = len(nums) - 1\n",
    "    # find first descending\n",
    "    while i > 0 and nums[i-1] >= nums[i]:\n",
    "        i -= 1\n",
    "    # if no descending\n",
    "    if i==0:\n",
    "        nums.reverse()\n",
    "        return nums\n",
    "    k = i-1\n",
    "    # find position for swap\n",
    "    while nums[j] <= nums[k]:\n",
    "        j-=1\n",
    "    nums[k], nums[j] = nums[j], nums[k]\n",
    "    # reverse right part to k\n",
    "    l, r = k+1, len(nums)-1\n",
    "    while l < r:\n",
    "        nums[l], nums[r] = nums[r], nums[l]\n",
    "        l+=1\n",
    "        r-=1\n",
    "    return nums"
   ]
  },
  {
   "cell_type": "code",
   "execution_count": 23,
   "metadata": {},
   "outputs": [
    {
     "data": {
      "text/plain": [
       "[1, 5, 1]"
      ]
     },
     "execution_count": 23,
     "metadata": {},
     "output_type": "execute_result"
    }
   ],
   "source": [
    "nums = [1,1,5]\n",
    "nextPermutation(nums)"
   ]
  },
  {
   "cell_type": "markdown",
   "metadata": {},
   "source": [
    "#### Note the last part of reverse the list with while loop."
   ]
  },
  {
   "cell_type": "markdown",
   "metadata": {},
   "source": [
    "## 18. Longest Valid Parentheses\n",
    "\n",
    "#### Given a string containing just the characters '(' and ')', find the length of the longest valid (well-formed) parentheses substring."
   ]
  },
  {
   "cell_type": "code",
   "execution_count": 44,
   "metadata": {},
   "outputs": [],
   "source": [
    "# use stack\n",
    "def longestValidParentheses(s):\n",
    "    if not s:\n",
    "        return 0\n",
    "    ans = 0\n",
    "    stack = [-1]\n",
    "    for i in range(len(s)):\n",
    "        if s[i] == '(':\n",
    "            stack.append(i)\n",
    "        else:\n",
    "            stack.pop()\n",
    "            if not stack:\n",
    "                stack.append(i)\n",
    "            else:\n",
    "                ans = max(ans, i-stack[-1])\n",
    "    return ans "
   ]
  },
  {
   "cell_type": "code",
   "execution_count": 45,
   "metadata": {},
   "outputs": [
    {
     "data": {
      "text/plain": [
       "6"
      ]
     },
     "execution_count": 45,
     "metadata": {},
     "output_type": "execute_result"
    }
   ],
   "source": [
    "s = '()(())'\n",
    "longestValidParentheses(s)"
   ]
  },
  {
   "cell_type": "markdown",
   "metadata": {},
   "source": [
    "## 19. Search in Rotated Sorted Array\n",
    "#### You are given an integer array nums sorted in ascending order, and an integer target.\n",
    "\n",
    "#### Suppose that nums is rotated at some pivot unknown to you beforehand (i.e., [0,1,2,4,5,6,7] might become [4,5,6,7,0,1,2]).\n",
    "\n",
    "#### If target is found in the array return its index, otherwise, return -1."
   ]
  },
  {
   "cell_type": "code",
   "execution_count": 66,
   "metadata": {},
   "outputs": [],
   "source": [
    "# could just find the pivot with O(log(n)) and do binary search for O(log(n))\n",
    "# for better efficiency\n",
    "def search(nums, target):\n",
    "    if not nums:\n",
    "        return -1\n",
    "    \n",
    "    l, r = 0, len(nums)-1\n",
    "        \n",
    "    while l <= r:\n",
    "        mid = (l+r)//2\n",
    "        if target == nums[mid]:\n",
    "            return mid \n",
    "        elif nums[mid] >= nums[l]:\n",
    "            if nums[l] <= target and target < nums[mid]:\n",
    "                r = mid-1\n",
    "            else:\n",
    "                l = mid+1\n",
    "        else:\n",
    "            if nums[mid] < target and target <= nums[r]:\n",
    "                l = mid+1         \n",
    "            else:\n",
    "                r = mid-1\n",
    "        \n",
    "    return -1\n",
    "            "
   ]
  },
  {
   "cell_type": "code",
   "execution_count": 65,
   "metadata": {},
   "outputs": [
    {
     "data": {
      "text/plain": [
       "4"
      ]
     },
     "execution_count": 65,
     "metadata": {},
     "output_type": "execute_result"
    }
   ],
   "source": [
    "nums = [4,5,6,7,0,1,2]\n",
    "target = 0\n",
    "search(nums, target)"
   ]
  },
  {
   "cell_type": "markdown",
   "metadata": {},
   "source": [
    "#### The idea is to determine which part of the list for binary search."
   ]
  },
  {
   "cell_type": "markdown",
   "metadata": {},
   "source": [
    "## 20. Combination Sum II\n",
    "\n",
    "#### Given a collection of candidate numbers (candidates) and a target number (target), find all unique combinations in candidates where the candidate numbers sum to target.\n",
    "\n",
    "#### Each number in candidates may only be used once in the combination.\n",
    "\n",
    "#### Note: The solution set must not contain duplicate combinations."
   ]
  },
  {
   "cell_type": "code",
   "execution_count": 22,
   "metadata": {},
   "outputs": [],
   "source": [
    "# dfs\n",
    "def combinationSum2(candidates, target):\n",
    "    if not candidates:\n",
    "        return []\n",
    "    ans = []\n",
    "    def dfs(target, beg, ares, candidates):\n",
    "        if target == 0:\n",
    "            ans.append(ares)\n",
    "            return \n",
    "        for i in range(beg, len(candidates)):\n",
    "            if candidates[i] > target:\n",
    "                return\n",
    "            elif i-1 >= beg and candidates[i]==candidates[i-1]:\n",
    "                continue\n",
    "            dfs(target-candidates[i], i+1, ares+[candidates[i]],candidates)\n",
    "    candidates.sort()\n",
    "    dfs(target,0,[],candidates)\n",
    "    return ans"
   ]
  },
  {
   "cell_type": "code",
   "execution_count": 23,
   "metadata": {},
   "outputs": [
    {
     "data": {
      "text/plain": [
       "[[1, 1, 6], [1, 2, 5], [1, 7], [2, 6]]"
      ]
     },
     "execution_count": 23,
     "metadata": {},
     "output_type": "execute_result"
    }
   ],
   "source": [
    "candidates = [10,1,2,7,6,1,5]\n",
    "target = 8\n",
    "combinationSum2(candidates, target)"
   ]
  },
  {
   "cell_type": "code",
   "execution_count": 35,
   "metadata": {},
   "outputs": [
    {
     "data": {
      "text/plain": [
       "[{()}, set(), set(), set(), set(), set(), set(), set(), set()]"
      ]
     },
     "execution_count": 35,
     "metadata": {},
     "output_type": "execute_result"
    }
   ],
   "source": [
    "dp = [set() for i in range(target+1)]\n",
    "dp[0].add(())\n",
    "dp"
   ]
  },
  {
   "cell_type": "code",
   "execution_count": 41,
   "metadata": {},
   "outputs": [],
   "source": [
    "# dp \n",
    "def combinationSum2(candidates, target):\n",
    "        candidates.sort()\n",
    "        # dictionary for dp table 0 to target\n",
    "        dp = [set() for i in range(target+1)]\n",
    "        dp[0].add(())\n",
    "        \n",
    "        for num in candidates:\n",
    "            for t in range(target, num-1, -1):\n",
    "                for prev in dp[t-num]:\n",
    "                    dp[t].add(prev + (num,))\n",
    "        return list(dp[-1])"
   ]
  },
  {
   "cell_type": "code",
   "execution_count": 42,
   "metadata": {},
   "outputs": [
    {
     "data": {
      "text/plain": [
       "[(1, 1, 6), (2, 6), (1, 2, 5), (1, 7)]"
      ]
     },
     "execution_count": 42,
     "metadata": {},
     "output_type": "execute_result"
    }
   ],
   "source": [
    "candidates = [10,1,2,7,6,1,5]\n",
    "target = 8\n",
    "combinationSum2(candidates, target)"
   ]
  },
  {
   "cell_type": "markdown",
   "metadata": {},
   "source": [
    "## 21. Search Insert Position\n",
    "\n",
    "#### Given a sorted array of distinct integers and a target value, return the index if the target is found. If not, return the index where it would be if it were inserted in order."
   ]
  },
  {
   "cell_type": "code",
   "execution_count": 18,
   "metadata": {},
   "outputs": [],
   "source": [
    "# binary search\n",
    "def searchInsert(nums, target):\n",
    "    l, r = 0, len(nums)-1\n",
    "    \n",
    "    while l <= r:\n",
    "        mid = (l+r)//2\n",
    "        \n",
    "        if nums[mid] > target:\n",
    "            r = mid-1\n",
    "        elif nums[mid] < target:\n",
    "            l = mid+1\n",
    "        else:\n",
    "            return mid\n",
    "    return l"
   ]
  },
  {
   "cell_type": "code",
   "execution_count": 19,
   "metadata": {},
   "outputs": [
    {
     "data": {
      "text/plain": [
       "2"
      ]
     },
     "execution_count": 19,
     "metadata": {},
     "output_type": "execute_result"
    }
   ],
   "source": [
    "nums = [1,3,5,6]\n",
    "target = 5\n",
    "searchInsert(nums, target)"
   ]
  },
  {
   "cell_type": "markdown",
   "metadata": {},
   "source": [
    "## 22. First Missing Positive\n",
    "#### Given an unsorted integer array nums, find the smallest missing positive integer.\n",
    "\n",
    "#### Follow up: Could you implement an algorithm that runs in O(n) time and uses constant extra space.?"
   ]
  },
  {
   "cell_type": "code",
   "execution_count": 89,
   "metadata": {},
   "outputs": [],
   "source": [
    "def firstMissingPositive(nums):\n",
    "    n = len(nums)\n",
    "    # put i to i-1 th position (right position)\n",
    "    for i in range(n):\n",
    "        while nums[i]-1 in range(n) and nums[i] != nums[nums[i]-1]:\n",
    "            nums[nums[i]-1], nums[i] = nums[i], nums[nums[i]-1]\n",
    "\n",
    "    return next((i + 1 for i, num in enumerate(nums) if num != i + 1), n + 1)"
   ]
  },
  {
   "cell_type": "code",
   "execution_count": 90,
   "metadata": {},
   "outputs": [
    {
     "data": {
      "text/plain": [
       "2"
      ]
     },
     "execution_count": 90,
     "metadata": {},
     "output_type": "execute_result"
    }
   ],
   "source": [
    "nums = [3,4,-1,1]\n",
    "firstMissingPositive(nums)"
   ]
  },
  {
   "cell_type": "markdown",
   "metadata": {},
   "source": [
    "## 23. Multiply Strings\n",
    "\n",
    "#### Given two non-negative integers num1 and num2 represented as strings, return the product of num1 and num2, also represented as a string.\n",
    "#### Note: You must not use any built-in BigInteger library or convert the inputs to integer directly."
   ]
  },
  {
   "cell_type": "code",
   "execution_count": 24,
   "metadata": {},
   "outputs": [],
   "source": [
    "# deal with each digits\n",
    "def multiply(num1, num2):\n",
    "    # edge case\n",
    "    if (num1=='0' or num2=='0'):\n",
    "        return '0'\n",
    "    \n",
    "    prod = [0]*(len(num1)+len(num2))\n",
    "    p = len(prod)-1\n",
    "    \n",
    "    for n1 in reversed(num1):\n",
    "        temp_p = p\n",
    "        for n2 in reversed(num2):\n",
    "            prod[temp_p] += int(n1)*int(n2)\n",
    "            prod[temp_p-1] += prod[temp_p]//10\n",
    "            prod[temp_p] %= 10\n",
    "            temp_p -= 1\n",
    "        p -= 1\n",
    "        \n",
    "    count = 0\n",
    "    while count < len(prod)-1 and prod[count]==0:\n",
    "        count += 1\n",
    "        \n",
    "    return ''.join(map(str,prod[count:]))"
   ]
  },
  {
   "cell_type": "code",
   "execution_count": 25,
   "metadata": {},
   "outputs": [
    {
     "data": {
      "text/plain": [
       "'2829'"
      ]
     },
     "execution_count": 25,
     "metadata": {},
     "output_type": "execute_result"
    }
   ],
   "source": [
    "multiply('123','23')"
   ]
  },
  {
   "cell_type": "markdown",
   "metadata": {},
   "source": [
    "## 46. (be actual Question number from now on) Permutations\n",
    "\n",
    "#### Given an array nums of distinct integers, return all the possible permutations. You can return the answer in any order."
   ]
  },
  {
   "cell_type": "code",
   "execution_count": 29,
   "metadata": {},
   "outputs": [],
   "source": [
    "# first glance will be a recursive method since each added element at different position of \n",
    "# the existing permutations will be a new permutation\n",
    "def permute(nums):\n",
    "    n = len(nums)\n",
    "    if (n==0 or n == 1):\n",
    "        return [nums]\n",
    "    # create new perms; old = [[...],[...],...]\n",
    "    old = permute(nums[1:])\n",
    "    \n",
    "    ### helper function for insert\n",
    "    def inser(l, i, x):\n",
    "        a = l.copy()\n",
    "        a.insert(i,x)\n",
    "        return a\n",
    "    \n",
    "    # insert x in each permutations of old\n",
    "    x = nums[0]\n",
    "    ans = [ inser(a, i, x) for a in old for i in range(n)]\n",
    "    \n",
    "    return ans"
   ]
  },
  {
   "cell_type": "code",
   "execution_count": 30,
   "metadata": {},
   "outputs": [
    {
     "data": {
      "text/plain": [
       "[[1, 2, 3], [2, 1, 3], [2, 3, 1], [1, 3, 2], [3, 1, 2], [3, 2, 1]]"
      ]
     },
     "execution_count": 30,
     "metadata": {},
     "output_type": "execute_result"
    }
   ],
   "source": [
    "nums = [1,2,3]\n",
    "permute(nums)"
   ]
  },
  {
   "cell_type": "code",
   "execution_count": 39,
   "metadata": {},
   "outputs": [],
   "source": [
    "# Depth First Search\n",
    "\n",
    "def permute(nums):\n",
    "    \n",
    "    def dfs(nums, path, res):\n",
    "        if not nums:\n",
    "            res.append(path)\n",
    "        for i in range(len(nums)):\n",
    "            dfs(nums[:i]+nums[i+1:],path+[nums[i]], res)\n",
    "    \n",
    "    res = []\n",
    "    dfs(nums, [], res)\n",
    "    return res"
   ]
  },
  {
   "cell_type": "code",
   "execution_count": 40,
   "metadata": {},
   "outputs": [
    {
     "data": {
      "text/plain": [
       "[[1, 2, 3], [1, 3, 2], [2, 1, 3], [2, 3, 1], [3, 1, 2], [3, 2, 1]]"
      ]
     },
     "execution_count": 40,
     "metadata": {},
     "output_type": "execute_result"
    }
   ],
   "source": [
    "nums = [1,2,3]\n",
    "permute(nums)"
   ]
  },
  {
   "cell_type": "markdown",
   "metadata": {},
   "source": [
    "## 47. Permutations II\n",
    "\n",
    "#### Given a collection of numbers, nums, that might contain duplicates, return all possible unique permutations in any order."
   ]
  },
  {
   "cell_type": "code",
   "execution_count": 90,
   "metadata": {},
   "outputs": [],
   "source": [
    "# different from the above by containing duplicates\n",
    "# backtracking is a general algorithm for finding all solutions to some problems with constraints.\n",
    "import collections\n",
    "\n",
    "def permuteUnique(nums):\n",
    "    \n",
    "    def dfs(nums, path, res):\n",
    "        d = collections.Counter(nums)\n",
    "        \n",
    "        if not nums:\n",
    "            res.append(path)\n",
    "            \n",
    "        cand = [a for a in d.keys() if d[a] > 0]\n",
    "        \n",
    "        for i in cand:\n",
    "            c_nums = nums.copy()\n",
    "            c_nums.remove(i)\n",
    "            dfs(c_nums, path+[i], res)\n",
    "    \n",
    "    res = []\n",
    "    dfs(nums, [], res)\n",
    "    return res"
   ]
  },
  {
   "cell_type": "code",
   "execution_count": 91,
   "metadata": {},
   "outputs": [
    {
     "data": {
      "text/plain": [
       "[[1, 2, 1], [1, 1, 2], [2, 1, 1]]"
      ]
     },
     "execution_count": 91,
     "metadata": {},
     "output_type": "execute_result"
    }
   ],
   "source": [
    "nums = [1,2,1]\n",
    "permuteUnique(nums)"
   ]
  },
  {
   "cell_type": "markdown",
   "metadata": {},
   "source": [
    "#### There are 3 places for improvement: 1. use of collections 2. create of copy 3. dfs uses Counter every iteration"
   ]
  },
  {
   "cell_type": "code",
   "execution_count": 118,
   "metadata": {},
   "outputs": [],
   "source": [
    "# fix 3\n",
    "from collections import Counter\n",
    "\n",
    "def permuteUnique(nums):\n",
    "    def dfs(counter, path):\n",
    "        if len(path) == len(nums):\n",
    "            res.append(path[:])\n",
    "        \n",
    "        for i in counter:\n",
    "            if counter[i] > 0:\n",
    "                path.append(i)\n",
    "                counter[i] -= 1\n",
    "                dfs(counter, path)\n",
    "                path.pop()\n",
    "                counter[i] += 1\n",
    "    \n",
    "    res = []\n",
    "    dfs(Counter(nums), [])\n",
    "    return res"
   ]
  },
  {
   "cell_type": "code",
   "execution_count": 119,
   "metadata": {},
   "outputs": [
    {
     "data": {
      "text/plain": [
       "[[1, 1, 2], [1, 2, 1], [2, 1, 1]]"
      ]
     },
     "execution_count": 119,
     "metadata": {},
     "output_type": "execute_result"
    }
   ],
   "source": [
    "nums = [1,2,1]\n",
    "permuteUnique(nums)"
   ]
  },
  {
   "cell_type": "code",
   "execution_count": 120,
   "metadata": {},
   "outputs": [],
   "source": [
    "# deal with duplicates by sorting\n",
    "\n",
    "def permute(nums):\n",
    "    \n",
    "    def dfs(nums, path, res):\n",
    "        if not nums:\n",
    "            res.append(path)\n",
    "        for i in range(len(nums)):\n",
    "            if i>0 and nums[i]==nums[i-1]:\n",
    "                continue       \n",
    "            dfs(nums[:i]+nums[i+1:],path+[nums[i]], res)\n",
    "    \n",
    "    res = []\n",
    "    nums.sort()\n",
    "    dfs(nums, [], res)\n",
    "    return res"
   ]
  },
  {
   "cell_type": "code",
   "execution_count": 121,
   "metadata": {},
   "outputs": [
    {
     "data": {
      "text/plain": [
       "[[1, 1, 2], [1, 2, 1], [2, 1, 1]]"
      ]
     },
     "execution_count": 121,
     "metadata": {},
     "output_type": "execute_result"
    }
   ],
   "source": [
    "nums = [1,2,1]\n",
    "permuteUnique(nums)"
   ]
  },
  {
   "cell_type": "markdown",
   "metadata": {},
   "source": [
    "## 48. Rotate Image\n",
    "\n",
    "\n",
    "#### You are given an n x n 2D matrix representing an image, rotate the image by 90 degrees (clockwise).\n",
    "#### You have to rotate the image in-place, which means you have to modify the input 2D matrix directly. DO NOT allocate another 2D matrix and do the rotation."
   ]
  },
  {
   "cell_type": "code",
   "execution_count": 66,
   "metadata": {},
   "outputs": [],
   "source": [
    "def rotate(matrix):\n",
    "    n = len(matrix)\n",
    "    \n",
    "    for i in range(n//2):\n",
    "        for j in range(i, n-1-i):\n",
    "            matrix[i][j], matrix[j][n-i-1], matrix[n-i-1][n-j-1], matrix[n-j-1][i] = \\\n",
    "            matrix[n-j-1][i], matrix[i][j], matrix[j][n-i-1], matrix[n-i-1][n-j-1]"
   ]
  },
  {
   "cell_type": "code",
   "execution_count": 67,
   "metadata": {},
   "outputs": [
    {
     "data": {
      "text/plain": [
       "[[15, 13, 2, 5], [14, 3, 4, 1], [12, 6, 8, 9], [16, 7, 10, 11]]"
      ]
     },
     "execution_count": 67,
     "metadata": {},
     "output_type": "execute_result"
    }
   ],
   "source": [
    "matrix = [[5,1,9,11],[2,4,8,10],[13,3,6,7],[15,14,12,16]]\n",
    "rotate(matrix)\n",
    "matrix"
   ]
  },
  {
   "cell_type": "code",
   "execution_count": 79,
   "metadata": {},
   "outputs": [],
   "source": [
    "# some more tricks to use\n",
    "def rotate(A):\n",
    "    A[:] = map(list, zip(*A[::-1]))"
   ]
  },
  {
   "cell_type": "code",
   "execution_count": 80,
   "metadata": {},
   "outputs": [
    {
     "data": {
      "text/plain": [
       "[[15, 13, 2, 5], [14, 3, 4, 1], [12, 6, 8, 9], [16, 7, 10, 11]]"
      ]
     },
     "execution_count": 80,
     "metadata": {},
     "output_type": "execute_result"
    }
   ],
   "source": [
    "matrix = [[5,1,9,11],[2,4,8,10],[13,3,6,7],[15,14,12,16]]\n",
    "rotate(matrix)\n",
    "matrix"
   ]
  },
  {
   "cell_type": "markdown",
   "metadata": {},
   "source": [
    "#### The trick is to use zip function and use map to convert from tuple to list (* means all).\n",
    "\n",
    "#### Another way is to filp twice."
   ]
  },
  {
   "cell_type": "code",
   "execution_count": 82,
   "metadata": {},
   "outputs": [
    {
     "data": {
      "text/plain": [
       "[[15, 14, 12, 16], [13, 3, 6, 7], [2, 4, 8, 10], [5, 1, 9, 11]]"
      ]
     },
     "execution_count": 82,
     "metadata": {},
     "output_type": "execute_result"
    }
   ],
   "source": [
    "matrix = [[5,1,9,11],[2,4,8,10],[13,3,6,7],[15,14,12,16]]\n",
    "matrix.reverse()\n",
    "matrix"
   ]
  },
  {
   "cell_type": "code",
   "execution_count": 83,
   "metadata": {},
   "outputs": [
    {
     "data": {
      "text/plain": [
       "[[15, 14, 12, 16], [13, 3, 6, 7], [2, 4, 8, 10], [5, 1, 9, 11]]"
      ]
     },
     "execution_count": 83,
     "metadata": {},
     "output_type": "execute_result"
    }
   ],
   "source": [
    "matrix = [[5,1,9,11],[2,4,8,10],[13,3,6,7],[15,14,12,16]]\n",
    "matrix[::-1]"
   ]
  },
  {
   "cell_type": "code",
   "execution_count": 84,
   "metadata": {},
   "outputs": [],
   "source": [
    "def rotate(A):\n",
    "        A.reverse()\n",
    "        for i in range(len(A)):\n",
    "            for j in range(i):\n",
    "                A[i][j], A[j][i] = A[j][i], A[i][j]"
   ]
  },
  {
   "cell_type": "code",
   "execution_count": 85,
   "metadata": {},
   "outputs": [
    {
     "data": {
      "text/plain": [
       "[[15, 13, 2, 5], [14, 3, 4, 1], [12, 6, 8, 9], [16, 7, 10, 11]]"
      ]
     },
     "execution_count": 85,
     "metadata": {},
     "output_type": "execute_result"
    }
   ],
   "source": [
    "matrix = [[5,1,9,11],[2,4,8,10],[13,3,6,7],[15,14,12,16]]\n",
    "rotate(matrix)\n",
    "matrix"
   ]
  },
  {
   "cell_type": "markdown",
   "metadata": {},
   "source": [
    "## 54. Spiral Matrix\n",
    "\n",
    "#### Given an m x n matrix, return all elements of the matrix in spiral order."
   ]
  },
  {
   "cell_type": "code",
   "execution_count": 121,
   "metadata": {},
   "outputs": [],
   "source": [
    "# keep rotating the matrix and pop the first row\n",
    "def spiralOrder(matrix):\n",
    "    if matrix:\n",
    "        return [*matrix.pop(0)] + spiralOrder([*zip(*matrix)][::-1])\n",
    "    else:\n",
    "        return []"
   ]
  },
  {
   "cell_type": "code",
   "execution_count": 122,
   "metadata": {},
   "outputs": [
    {
     "data": {
      "text/plain": [
       "[1, 2, 3, 6, 9, 8, 7, 4, 5]"
      ]
     },
     "execution_count": 122,
     "metadata": {},
     "output_type": "execute_result"
    }
   ],
   "source": [
    "matrix = [[1,2,3],[4,5,6],[7,8,9]]\n",
    "spiralOrder(matrix)"
   ]
  },
  {
   "cell_type": "code",
   "execution_count": 126,
   "metadata": {},
   "outputs": [],
   "source": [
    "# trick to return only with non-empty input\n",
    "def test(m):\n",
    "    return m and m[0]"
   ]
  },
  {
   "cell_type": "code",
   "execution_count": 127,
   "metadata": {},
   "outputs": [
    {
     "data": {
      "text/plain": [
       "[1, 2, 3]"
      ]
     },
     "execution_count": 127,
     "metadata": {},
     "output_type": "execute_result"
    }
   ],
   "source": [
    "m = [[1,2,3],[4,5,6],[7,8,9]]\n",
    "test(m)"
   ]
  },
  {
   "cell_type": "code",
   "execution_count": 128,
   "metadata": {},
   "outputs": [
    {
     "data": {
      "text/plain": [
       "[]"
      ]
     },
     "execution_count": 128,
     "metadata": {},
     "output_type": "execute_result"
    }
   ],
   "source": [
    "m = []\n",
    "test(m)"
   ]
  },
  {
   "cell_type": "code",
   "execution_count": 129,
   "metadata": {},
   "outputs": [],
   "source": [
    "# we could also use simulation. With i, j for current position and di\n",
    "# for current direction and visit for denoting if we have visited the cell.\n"
   ]
  },
  {
   "cell_type": "code",
   "execution_count": 130,
   "metadata": {},
   "outputs": [],
   "source": [
    "# Another way is to use index for layer by layer movements."
   ]
  },
  {
   "cell_type": "markdown",
   "metadata": {},
   "source": [
    "## 55. Jump Game\n",
    "\n",
    "#### Given an array of non-negative integers nums, you are initially positioned at the first index of the array.\n",
    "\n",
    "#### Each element in the array represents your maximum jump length at that position.\n",
    "\n",
    "#### Determine if you are able to reach the last index."
   ]
  },
  {
   "cell_type": "code",
   "execution_count": 35,
   "metadata": {},
   "outputs": [],
   "source": [
    "# definitely dorable with bfs/backtrack, but since we do not need to\n",
    "# return the path, we may use a simpler method.\n",
    "# first do a recursive method\n",
    "def canJump(nums):\n",
    "    \n",
    "    # suppose canJump is able to find solution\n",
    "    n = len(nums)\n",
    "    if (n==1): return True\n",
    "    cand = [i for i in range(n-1) if i+nums[i] >= n-1]\n",
    "    if not cand:\n",
    "        return False\n",
    "    \n",
    "    # base case\n",
    "    if any([nums[0] >= c for c in cand]): \n",
    "        return True\n",
    "    else:\n",
    "        return any([canJump(nums[:c+1]) for c in cand])"
   ]
  },
  {
   "cell_type": "code",
   "execution_count": 36,
   "metadata": {},
   "outputs": [
    {
     "data": {
      "text/plain": [
       "True"
      ]
     },
     "execution_count": 36,
     "metadata": {},
     "output_type": "execute_result"
    }
   ],
   "source": [
    "nums = [2,3,1,1,4]\n",
    "canJump(nums)"
   ]
  },
  {
   "cell_type": "code",
   "execution_count": 37,
   "metadata": {},
   "outputs": [
    {
     "data": {
      "text/plain": [
       "False"
      ]
     },
     "execution_count": 37,
     "metadata": {},
     "output_type": "execute_result"
    }
   ],
   "source": [
    "nums = [3,2,1,0,4]\n",
    "canJump(nums)"
   ]
  },
  {
   "cell_type": "markdown",
   "metadata": {},
   "source": [
    "#### This method will run into overtime. One thing we could do is to record the catJump bool on each index and end recursion when reach the visited index.\n",
    "#### However, this is too complex and there must be simpler ways."
   ]
  },
  {
   "cell_type": "code",
   "execution_count": 57,
   "metadata": {},
   "outputs": [],
   "source": [
    "# one-pass method/ two pointers\n",
    "def canJump(nums):\n",
    "    if (len(nums)==1): return True\n",
    "    i, ceil = 0, nums[0]\n",
    "    \n",
    "    while (ceil < len(nums)-1):\n",
    "        larger = False\n",
    "        for j in range(i, ceil+1):\n",
    "            if j+nums[j] > ceil:\n",
    "                ceil = j+nums[j]\n",
    "                i = j+1\n",
    "                larger = True\n",
    "                break;\n",
    "        if not larger:\n",
    "            return False\n",
    "    return True"
   ]
  },
  {
   "cell_type": "code",
   "execution_count": 58,
   "metadata": {},
   "outputs": [
    {
     "data": {
      "text/plain": [
       "True"
      ]
     },
     "execution_count": 58,
     "metadata": {},
     "output_type": "execute_result"
    }
   ],
   "source": [
    "nums = [2,3,1,1,4]\n",
    "canJump(nums)"
   ]
  },
  {
   "cell_type": "markdown",
   "metadata": {},
   "source": [
    "#### Kinda improved; But still can be better."
   ]
  },
  {
   "cell_type": "code",
   "execution_count": 65,
   "metadata": {},
   "outputs": [],
   "source": [
    "# backward greedy alg\n",
    "def canJump(nums):\n",
    "    last = len(nums)-1\n",
    "    for i in range(last-1, -1, -1):\n",
    "        if i+nums[i] >= last:\n",
    "            last = i\n",
    "    return last == 0"
   ]
  },
  {
   "cell_type": "code",
   "execution_count": 66,
   "metadata": {},
   "outputs": [
    {
     "data": {
      "text/plain": [
       "True"
      ]
     },
     "execution_count": 66,
     "metadata": {},
     "output_type": "execute_result"
    }
   ],
   "source": [
    "nums = [2,3,1,1,4]\n",
    "canJump(nums)"
   ]
  },
  {
   "cell_type": "code",
   "execution_count": 67,
   "metadata": {},
   "outputs": [
    {
     "data": {
      "text/plain": [
       "False"
      ]
     },
     "execution_count": 67,
     "metadata": {},
     "output_type": "execute_result"
    }
   ],
   "source": [
    "nums = [3,2,1,0,4]\n",
    "canJump(nums)"
   ]
  },
  {
   "cell_type": "code",
   "execution_count": 68,
   "metadata": {},
   "outputs": [],
   "source": [
    "for i in range(-1,-1,-1):\n",
    "    print(i)"
   ]
  },
  {
   "cell_type": "markdown",
   "metadata": {},
   "source": [
    "## 57. Insert Interval\n",
    "#### Given a set of non-overlapping intervals, insert a new interval into the intervals (merge if necessary).\n",
    "\n",
    "#### You may assume that the intervals were initially sorted according to their start times."
   ]
  },
  {
   "cell_type": "code",
   "execution_count": 133,
   "metadata": {},
   "outputs": [],
   "source": [
    "def insert(intervals, newInterval):\n",
    "    if not intervals: return newInterval\n",
    "    ans = []\n",
    "    \n",
    "    def helper(nums, x):\n",
    "        # find index of x in ascending nums\n",
    "        l, r = 0, len(nums)-1\n",
    "        while l<=r:\n",
    "            mid = (l+r)//2\n",
    "            if x > nums[mid]:\n",
    "                l = mid+1\n",
    "            elif x <= nums[mid]:\n",
    "                r = mid-1\n",
    "        return l\n",
    "    \n",
    "    clone = list(zip(*intervals)) # zip is O(n)?\n",
    "    l_i, u_i = helper(clone[0], newInterval[0]), helper(clone[1], newInterval[1])\n",
    "    \n",
    "    mod = []\n",
    "    lb, up = 0, 0\n",
    "    if (l_i == 0):\n",
    "        print(1)\n",
    "        lb = 0\n",
    "        mod.append(newInterval[0])\n",
    "    elif (newInterval[0]<=clone[1][l_i-1]):\n",
    "        print(2)\n",
    "        lb = l_i-1\n",
    "        mod.append(clone[1][l_i-1])\n",
    "    elif (newInterval[0]>clone[1][l_i-1]):\n",
    "        print(3)\n",
    "        lb = l_i\n",
    "        mod.append(newInterval[0])\n",
    "    \n",
    "    if (u_i >= len(intervals)):\n",
    "        print(4)\n",
    "        ub = len(intervals)-1\n",
    "        mod.append(newInterval[1])\n",
    "    elif (newInterval[1]>=clone[0][u_i]):\n",
    "        print(5)\n",
    "        ub = u_i+1\n",
    "        mod.append(clone[1][u_i])\n",
    "    elif (newInterval[1]<clone[0][u_i]):\n",
    "        print(6)\n",
    "        ub = u_i\n",
    "        mod.append(newInterval[1])\n",
    "        \n",
    "    return intervals[:lb]+[mod]+intervals[ub:]   \n",
    "    "
   ]
  },
  {
   "cell_type": "markdown",
   "metadata": {},
   "source": [
    "#### The above logic is too complex for debugging."
   ]
  },
  {
   "cell_type": "code",
   "execution_count": 153,
   "metadata": {},
   "outputs": [],
   "source": [
    "def insert(intervals, newInterval):\n",
    "    s, e = newInterval[0], newInterval[1]\n",
    "    parts = merge, left, right = [], [], []\n",
    "    for i in intervals:\n",
    "        parts[(i[1] < s) - (i[0] > e)].append(i)\n",
    "    if merge:\n",
    "        s = min(s, merge[0][0])\n",
    "        e = max(e, merge[-1][1])\n",
    "    return left + [[s,e]] + right"
   ]
  },
  {
   "cell_type": "code",
   "execution_count": 154,
   "metadata": {},
   "outputs": [
    {
     "data": {
      "text/plain": [
       "[[1, 5], [6, 9]]"
      ]
     },
     "execution_count": 154,
     "metadata": {},
     "output_type": "execute_result"
    }
   ],
   "source": [
    "intervals = [[1,3],[6,9]]\n",
    "newInterval = [2,5]\n",
    "insert(intervals, newInterval)"
   ]
  },
  {
   "cell_type": "code",
   "execution_count": 151,
   "metadata": {},
   "outputs": [],
   "source": [
    "def insert(intervals, newInterval):\n",
    "    ans, new = [], newInterval\n",
    "    for i, I in enumerate(intervals):\n",
    "        if I[1] < new[0]:\n",
    "            ans.append(I)\n",
    "        elif I[0] > new[1]:\n",
    "            ans.append(new)\n",
    "            return ans+intervals[i:]\n",
    "        else:\n",
    "            new[0] = min(new[0], I[0])\n",
    "            new[1] = max(new[1], I[1])\n",
    "    ans.append(new)\n",
    "    return ans   "
   ]
  },
  {
   "cell_type": "code",
   "execution_count": 152,
   "metadata": {},
   "outputs": [
    {
     "data": {
      "text/plain": [
       "[[1, 5], [6, 9]]"
      ]
     },
     "execution_count": 152,
     "metadata": {},
     "output_type": "execute_result"
    }
   ],
   "source": [
    "intervals = [[1,3],[6,9]]\n",
    "newInterval = [2,5]\n",
    "insert(intervals, newInterval)"
   ]
  },
  {
   "cell_type": "markdown",
   "metadata": {},
   "source": [
    "## 61. Rotate List\n",
    "\n",
    "#### Given the head of a linked list, rotate the list to the right by k places."
   ]
  },
  {
   "cell_type": "code",
   "execution_count": 44,
   "metadata": {},
   "outputs": [],
   "source": [
    "class ListNode:\n",
    "    def __init__(self, val=0, next=None):\n",
    "        self.val = val\n",
    "        self.next = next\n",
    "    def __str__(self):\n",
    "        ans = []\n",
    "        while self:\n",
    "            ans.append(str(self.val))\n",
    "            self = self.next\n",
    "        return ' '.join(ans)\n",
    "\n",
    "def create_listnode(l):\n",
    "    ans = tail = ListNode(0)\n",
    "    for i in l:\n",
    "        tail.next = ListNode(i)\n",
    "        tail = tail.next\n",
    "    return ans.next"
   ]
  },
  {
   "cell_type": "markdown",
   "metadata": {},
   "source": [
    "#### This is similar to Q13 above."
   ]
  },
  {
   "cell_type": "code",
   "execution_count": 35,
   "metadata": {},
   "outputs": [],
   "source": [
    "## Definition for singly-linked list.\n",
    "# class ListNode:\n",
    "#     def __init__(self, val=0, next=None):\n",
    "#         self.val = val\n",
    "#         self.next = next\n",
    "\n",
    "def rotateRight(head, k):\n",
    "    ## create dummy\n",
    "    ans = tail = ListNode(0)\n",
    "    ans.next = r = head\n",
    "\n",
    "    ## get length of the listnode\n",
    "    length = 0\n",
    "    while r:\n",
    "        length+=1\n",
    "        r = r.next\n",
    "\n",
    "    ## rotate\n",
    "    for i in range(k):\n",
    "        ## take t to the last node\n",
    "        h = t = t_ahead = head\n",
    "        for i in range(length-1):\n",
    "            t_ahead=t_ahead.next\n",
    "            t = t.next\n",
    "        t = t.next\n",
    "        ## rotate once\n",
    "        t.next, t_ahead.next = h, None\n",
    "    return ans.next\n",
    "            "
   ]
  },
  {
   "cell_type": "code",
   "execution_count": 76,
   "metadata": {},
   "outputs": [],
   "source": [
    "## just transfer the value instead of modify the nodes directions\n",
    "def rotateRight(head, k):\n",
    "    if not head:\n",
    "        return\n",
    "    last = head\n",
    "    leng = 1\n",
    "    while head.next:\n",
    "        head = head.next\n",
    "        leng += 1\n",
    "    head.next = last\n",
    "    k = k % leng\n",
    "    cut = leng - k - 1\n",
    "    for _ in range(cut):\n",
    "        last = last.next\n",
    "    ans, last.next = last.next, None\n",
    "    return ans"
   ]
  },
  {
   "cell_type": "code",
   "execution_count": 77,
   "metadata": {},
   "outputs": [],
   "source": [
    "head = ListNode([1,2,3,4,5])\n",
    "k=3\n",
    "ans = rotateRight(head, k)"
   ]
  },
  {
   "cell_type": "code",
   "execution_count": 78,
   "metadata": {},
   "outputs": [
    {
     "name": "stdout",
     "output_type": "stream",
     "text": [
      "[1, 2, 3, 4, 5]\n"
     ]
    }
   ],
   "source": [
    "print(ans)"
   ]
  },
  {
   "cell_type": "markdown",
   "metadata": {},
   "source": [
    "## 63. Unique Path II\n",
    "\n",
    "#### A robot is located at the top-left corner of a m x n grid (marked 'Start' in the diagram below).\n",
    "\n",
    "#### The robot can only move either down or right at any point in time. The robot is trying to reach the bottom-right corner of the grid (marked 'Finish' in the diagram below).\n",
    "\n",
    "#### Now consider if some obstacles are added to the grids. How many unique paths would there be?\n",
    "\n",
    "#### An obstacle and space is marked as 1 and 0 respectively in the grid."
   ]
  },
  {
   "cell_type": "code",
   "execution_count": 1,
   "metadata": {},
   "outputs": [],
   "source": [
    "# dp\n",
    "def uniquePathsWithObstacles(obstacleGrid):\n",
    "    # base case\n",
    "    if obstacleGrid[0][0] == 1:\n",
    "        return 0\n",
    "    else:\n",
    "        obstacleGrid[0][0] = 1 # one way to this point\n",
    "    # create dp table; let the element in array be No. of ways from top-left \n",
    "    # to that point\n",
    "    \n",
    "    # fit the first col and row\n",
    "    for i in range(1, len(obstacleGrid)):\n",
    "        if obstacleGrid[i-1][0] == 1 and obstacleGrid[i][0] != 1:\n",
    "            obstacleGrid[i][0] = 1\n",
    "        else:\n",
    "            obstacleGrid[i][0] = 0\n",
    "    \n",
    "    for i in range(1, len(obstacleGrid[0])):\n",
    "        if obstacleGrid[0][i-1] == 1 and obstacleGrid[0][i] != 1:\n",
    "            obstacleGrid[0][i] = 1\n",
    "        else:\n",
    "            obstacleGrid[0][i] = 0\n",
    "    # fit dp table\n",
    "    for i in range(1, len(obstacleGrid)):\n",
    "        for j in range(1, len(obstacleGrid[0])):\n",
    "            if obstacleGrid[i][j] != 1:\n",
    "                obstacleGrid[i][j] = obstacleGrid[i-1][j] + obstacleGrid[i][j-1]\n",
    "            else:\n",
    "                obstacleGrid[i][j] = 0\n",
    "    return obstacleGrid[-1][-1]       "
   ]
  },
  {
   "cell_type": "code",
   "execution_count": 2,
   "metadata": {},
   "outputs": [
    {
     "data": {
      "text/plain": [
       "2"
      ]
     },
     "execution_count": 2,
     "metadata": {},
     "output_type": "execute_result"
    }
   ],
   "source": [
    "obstacleGrid = [[0,0,0],[0,1,0],[0,0,0]]\n",
    "uniquePathsWithObstacles(obstacleGrid)"
   ]
  },
  {
   "cell_type": "markdown",
   "metadata": {},
   "source": [
    "#### Time complexity O(mn), space complexity O(1)."
   ]
  },
  {
   "cell_type": "markdown",
   "metadata": {},
   "source": [
    "## 66. Plus One\n",
    "\n",
    "#### Given a non-empty array of decimal digits representing a non-negative integer, increment one to the integer.\n",
    "\n",
    "#### The digits are stored such that the most significant digit is at the head of the list, and each element in the array contains a single digit.\n",
    "\n",
    "#### You may assume the integer does not contain any leading zero, except the number 0 itself."
   ]
  },
  {
   "cell_type": "code",
   "execution_count": 28,
   "metadata": {},
   "outputs": [],
   "source": [
    "def plusOne(digits):\n",
    "    i = len(digits) - 1\n",
    "    while i >= 0:\n",
    "        if digits[i] == 9:\n",
    "            digits[i] = 0\n",
    "            i -= 1\n",
    "        else:\n",
    "            break\n",
    "    if i != -1:\n",
    "        digits[i] += 1\n",
    "    else:\n",
    "        digits = [1] + digits\n",
    "    return digits"
   ]
  },
  {
   "cell_type": "code",
   "execution_count": 31,
   "metadata": {},
   "outputs": [
    {
     "data": {
      "text/plain": [
       "[1]"
      ]
     },
     "execution_count": 31,
     "metadata": {},
     "output_type": "execute_result"
    }
   ],
   "source": [
    "digits = [0]\n",
    "plusOne(digits)"
   ]
  },
  {
   "cell_type": "markdown",
   "metadata": {},
   "source": [
    "## 67. Add Binary\n",
    "\n",
    "#### Given two binary strings a and b, return their sum as a binary string."
   ]
  },
  {
   "cell_type": "code",
   "execution_count": 50,
   "metadata": {},
   "outputs": [],
   "source": [
    "def addBinary(a, b):\n",
    "    if a == '0':\n",
    "        return b\n",
    "    if b == '0':\n",
    "        return a\n",
    "    \n",
    "    ans, carry = '', 0\n",
    "    i, j = len(a)-1, len(b)-1\n",
    "    while i >= 0 or j >= 0 or carry:\n",
    "        cur = (i >= 0 and a[i] == '1') + (j >= 0 and b[j] == '1')\n",
    "        carry, rem = divmod(cur + carry, 2)\n",
    "        ans = str(rem) + ans\n",
    "        i -= 1\n",
    "        j -= 1\n",
    "    return ans\n",
    "        "
   ]
  },
  {
   "cell_type": "code",
   "execution_count": 51,
   "metadata": {},
   "outputs": [
    {
     "data": {
      "text/plain": [
       "'100'"
      ]
     },
     "execution_count": 51,
     "metadata": {},
     "output_type": "execute_result"
    }
   ],
   "source": [
    "a = \"11\"\n",
    "b = \"1\"\n",
    "addBinary(a, b)"
   ]
  },
  {
   "cell_type": "markdown",
   "metadata": {},
   "source": [
    "## 73. Set Matrix Zeroes\n",
    "#### Given an m x n matrix. If an element is 0, set its entire row and column to 0. Do it in-place."
   ]
  },
  {
   "cell_type": "code",
   "execution_count": 61,
   "metadata": {},
   "outputs": [],
   "source": [
    "# O(mn) space is easy; lets do better\n",
    "def setZeroes(matrix):\n",
    "    n, m = len(matrix), len(matrix[0])\n",
    "    col_zero = False ## mark first col\n",
    "    \n",
    "    for i in range(n):\n",
    "        if matrix[i][0] == 0:\n",
    "            col_zero = True\n",
    "        for j in range(1, m):\n",
    "            if matrix[i][j] == 0:\n",
    "                matrix[i][0] = 0\n",
    "                matrix[0][j] = 0\n",
    "    for i in range(1, n):\n",
    "        for j in range(1, m):\n",
    "            if matrix[i][0] == 0 or matrix[0][j] == 0:\n",
    "                matrix[i][j] = 0\n",
    "    if matrix[0][0] == 0:\n",
    "        for j in range(m):\n",
    "            matrix[0][j] = 0\n",
    "    if col_zero:\n",
    "        for i in range(n):\n",
    "            matrix[i][0] = 0\n",
    "    return matrix "
   ]
  },
  {
   "cell_type": "code",
   "execution_count": 63,
   "metadata": {},
   "outputs": [
    {
     "data": {
      "text/plain": [
       "[[0, 0, 0, 0], [0, 4, 5, 2], [0, 3, 1, 5]]"
      ]
     },
     "execution_count": 63,
     "metadata": {},
     "output_type": "execute_result"
    }
   ],
   "source": [
    "matrix = [[0,1,2,3],[3,4,5,2],[1,3,1,5]]\n",
    "setZeroes(matrix)"
   ]
  },
  {
   "cell_type": "markdown",
   "metadata": {},
   "source": [
    "## 75. Sort Colors\n",
    "\n",
    "#### Given an array nums with n objects colored red, white, or blue, sort them in-place so that objects of the same color are adjacent, with the colors in the order red, white, and blue.\n",
    "\n",
    "#### We will use the integers 0, 1, and 2 to represent the color red, white, and blue, respectively."
   ]
  },
  {
   "cell_type": "code",
   "execution_count": 66,
   "metadata": {},
   "outputs": [],
   "source": [
    "# we could use two pointers\n",
    "def sortColors(nums):\n",
    "    a, b = 0, 0 # index smaller than a will be 0 on first sort\n",
    "    \n",
    "    while b < len(nums):\n",
    "        if nums[b] == 0:\n",
    "            nums[a], nums[b] = nums[b], nums[a]\n",
    "            a += 1\n",
    "        b += 1\n",
    "    b = a\n",
    "    while b < len(nums):\n",
    "        if nums[b] == 1:\n",
    "            nums[a], nums[b] = nums[b], nums[a]\n",
    "            a += 1\n",
    "        b += 1\n",
    "    return nums"
   ]
  },
  {
   "cell_type": "code",
   "execution_count": 71,
   "metadata": {},
   "outputs": [
    {
     "data": {
      "text/plain": [
       "[0, 0, 1, 1, 2, 2]"
      ]
     },
     "execution_count": 71,
     "metadata": {},
     "output_type": "execute_result"
    }
   ],
   "source": [
    "nums = [2,0,2,1,1,0]\n",
    "sortColors(nums)"
   ]
  },
  {
   "cell_type": "code",
   "execution_count": 73,
   "metadata": {},
   "outputs": [],
   "source": [
    "# Lamuto partition algorithm\n",
    "def sortColors(nums):\n",
    "    i = j = 0\n",
    "    for k in range(len(nums)):\n",
    "        v = nums[k]\n",
    "        nums[k] = 2\n",
    "        if v < 2:\n",
    "            nums[j] = 1\n",
    "            j += 1\n",
    "        if v == 0:\n",
    "            nums[i] = 0\n",
    "            i += 1\n",
    "    return nums"
   ]
  },
  {
   "cell_type": "code",
   "execution_count": 74,
   "metadata": {},
   "outputs": [
    {
     "data": {
      "text/plain": [
       "[0, 0, 1, 1, 2, 2]"
      ]
     },
     "execution_count": 74,
     "metadata": {},
     "output_type": "execute_result"
    }
   ],
   "source": [
    "nums = [2,0,2,1,1,0]\n",
    "sortColors(nums)"
   ]
  },
  {
   "cell_type": "markdown",
   "metadata": {},
   "source": [
    "## 77. Combinations\n",
    "#### Given two integers n and k, return all possible combinations of k numbers out of 1 ... n.\n",
    "\n",
    "#### You may return the answer in any order."
   ]
  },
  {
   "cell_type": "code",
   "execution_count": 1,
   "metadata": {},
   "outputs": [],
   "source": [
    "## combination is a common application for backtracking\n",
    "## ascending order for uniqueness of the combinations\n",
    "def combine(n, k):\n",
    "    ans = []\n",
    "    stack = []\n",
    "    x = 1\n",
    "    while True:\n",
    "        l = len(stack)\n",
    "        if l==k:\n",
    "            ans.append(stack[:])\n",
    "        if l==k or x > n:\n",
    "            if not stack:\n",
    "                return ans\n",
    "            x = stack.pop() + 1\n",
    "        else:\n",
    "            stack.append(x)\n",
    "            x += 1"
   ]
  },
  {
   "cell_type": "code",
   "execution_count": 2,
   "metadata": {},
   "outputs": [
    {
     "data": {
      "text/plain": [
       "[[1, 2], [1, 3], [1, 4], [2, 3], [2, 4], [3, 4]]"
      ]
     },
     "execution_count": 2,
     "metadata": {},
     "output_type": "execute_result"
    }
   ],
   "source": [
    "n = 4\n",
    "k = 2\n",
    "combine(n, k)"
   ]
  },
  {
   "cell_type": "code",
   "execution_count": 8,
   "metadata": {},
   "outputs": [],
   "source": [
    "def combine(n, k):\n",
    "    res = []\n",
    "    i = 0\n",
    "    p = [0]*k\n",
    "    \n",
    "    while i>=0:\n",
    "        p[i] += 1\n",
    "        if p[i] > n: \n",
    "            i -= 1\n",
    "        elif i == k-1:\n",
    "            res.append(p[:])\n",
    "        else:\n",
    "            i += 1\n",
    "            p[i] = p[i-1];\n",
    "    return res     "
   ]
  },
  {
   "cell_type": "code",
   "execution_count": 9,
   "metadata": {},
   "outputs": [
    {
     "data": {
      "text/plain": [
       "[[1, 2], [1, 3], [1, 4], [2, 3], [2, 4], [3, 4]]"
      ]
     },
     "execution_count": 9,
     "metadata": {},
     "output_type": "execute_result"
    }
   ],
   "source": [
    "n = 4\n",
    "k = 2\n",
    "combine(n, k)"
   ]
  },
  {
   "cell_type": "markdown",
   "metadata": {},
   "source": [
    "## 78. Subsets\n",
    "\n",
    "#### Given an integer array nums of unique elements, return all possible subsets (the power set).\n",
    "\n",
    "#### The solution set must not contain duplicate subsets. Return the solution in any order."
   ]
  },
  {
   "cell_type": "code",
   "execution_count": 61,
   "metadata": {},
   "outputs": [],
   "source": [
    "## time: O(n 2^n); space O(n 2^n)\n",
    "def subsets(nums):\n",
    "    res = [[]]\n",
    "    for num in nums:\n",
    "        res += [vec+[num] for vec in res]\n",
    "    return res"
   ]
  },
  {
   "cell_type": "code",
   "execution_count": 62,
   "metadata": {},
   "outputs": [
    {
     "data": {
      "text/plain": [
       "[[],\n",
       " [1],\n",
       " [2],\n",
       " [1, 2],\n",
       " [3],\n",
       " [1, 3],\n",
       " [2, 3],\n",
       " [1, 2, 3],\n",
       " [4],\n",
       " [1, 4],\n",
       " [2, 4],\n",
       " [1, 2, 4],\n",
       " [3, 4],\n",
       " [1, 3, 4],\n",
       " [2, 3, 4],\n",
       " [1, 2, 3, 4]]"
      ]
     },
     "execution_count": 62,
     "metadata": {},
     "output_type": "execute_result"
    }
   ],
   "source": [
    "nums = [1,2,3,4]\n",
    "subsets(nums)"
   ]
  },
  {
   "cell_type": "code",
   "execution_count": 69,
   "metadata": {},
   "outputs": [],
   "source": [
    "## backtrack\n",
    "## time: O(n 2^n); space: O(n 2^n)\n",
    "def subsets(nums):\n",
    "    def backtrack(first=0, curr=[]):\n",
    "        if len(curr) == k:\n",
    "            output.append(curr[:])\n",
    "            return\n",
    "        for i in range(first, n):\n",
    "            curr.append(nums[i])\n",
    "            backtrack(i+1, curr)\n",
    "            curr.pop()\n",
    "    output = []\n",
    "    n=len(nums)\n",
    "    for k in range(n+1):\n",
    "        backtrack()\n",
    "    return output"
   ]
  },
  {
   "cell_type": "code",
   "execution_count": 70,
   "metadata": {},
   "outputs": [
    {
     "data": {
      "text/plain": [
       "[[],\n",
       " [1],\n",
       " [2],\n",
       " [3],\n",
       " [4],\n",
       " [1, 2],\n",
       " [1, 3],\n",
       " [1, 4],\n",
       " [2, 3],\n",
       " [2, 4],\n",
       " [3, 4],\n",
       " [1, 2, 3],\n",
       " [1, 2, 4],\n",
       " [1, 3, 4],\n",
       " [2, 3, 4],\n",
       " [1, 2, 3, 4]]"
      ]
     },
     "execution_count": 70,
     "metadata": {},
     "output_type": "execute_result"
    }
   ],
   "source": [
    "nums = [1,2,3,4]\n",
    "subsets(nums)"
   ]
  },
  {
   "cell_type": "markdown",
   "metadata": {},
   "source": [
    "## 79. Word Search\n",
    "#### Given an m x n board and a word, find if the word exists in the grid.\n",
    "\n",
    "#### The word can be constructed from letters of sequentially adjacent cells, where \"adjacent\" cells are horizontally or vertically neighboring. The same letter cell may not be used more than once."
   ]
  },
  {
   "cell_type": "code",
   "execution_count": 40,
   "metadata": {},
   "outputs": [],
   "source": [
    "## simplest idea is to check each of the letter and see if it links to accepted neighbors\n",
    "## this will have time: O(nms), space:O(mns)\n",
    "## This question searches for one solution and we may use dfs\n",
    "def exist(board, word):\n",
    "    n, m = len(board), len(board[0])\n",
    "    ## if we can find word starting from board[i][j]\n",
    "    def dfs(board, i, j, word):\n",
    "        if not word:\n",
    "            return True\n",
    "        if i<0 or i>=n or j<0 or j>=m or word[0]!=board[i][j]:\n",
    "            return False\n",
    "        tmp = board[i][j]\n",
    "        board[i][j] = \"@\"\n",
    "        res = dfs(board, i+1, j, word[1:]) or dfs(board, i, j+1, word[1:]) or dfs(board, i-1, j, word[1:]) or dfs(board, i, j-1, word[1:])    \n",
    "        board[i][j] = tmp\n",
    "        \n",
    "        return res\n",
    "    \n",
    "    if not board:\n",
    "        return False\n",
    "    for i in range(n):\n",
    "        for j in range(m):\n",
    "            if board[i][j] == word[0]:\n",
    "                if dfs(board, i, j, word):\n",
    "                    return True\n",
    "    return False"
   ]
  },
  {
   "cell_type": "code",
   "execution_count": 41,
   "metadata": {},
   "outputs": [
    {
     "data": {
      "text/plain": [
       "True"
      ]
     },
     "execution_count": 41,
     "metadata": {},
     "output_type": "execute_result"
    }
   ],
   "source": [
    "board = [[\"A\",\"B\",\"C\",\"E\"],[\"S\",\"F\",\"C\",\"S\"],[\"A\",\"D\",\"E\",\"E\"]]\n",
    "word = \"ABCCED\"\n",
    "exist(board, word)"
   ]
  },
  {
   "cell_type": "code",
   "execution_count": 42,
   "metadata": {},
   "outputs": [],
   "source": [
    "## add precheck if the letters in board is enough for word\n",
    "def exist(board, word):\n",
    "    def precheck():\n",
    "        check = {}\n",
    "        for w in word:\n",
    "            if w in check:\n",
    "                check[w] += 1\n",
    "            else:\n",
    "                check[w] = 1\n",
    "        for i in board:\n",
    "            for j in i:\n",
    "                if j in check and check[j] > 0: check[j] -= 1\n",
    "        for i in check.values():\n",
    "            if i>0:\n",
    "                return False\n",
    "        return True\n",
    "    \n",
    "    n, m = len(board), len(board[0])\n",
    "    ## if we can find word starting from board[i][j]\n",
    "    def dfs(board, i, j, word):\n",
    "        if not word:\n",
    "            return True\n",
    "        if i<0 or i>=n or j<0 or j>=m or word[0]!=board[i][j]:\n",
    "            return False\n",
    "        tmp = board[i][j]\n",
    "        board[i][j] = \"@\"\n",
    "        res = dfs(board, i+1, j, word[1:]) or dfs(board, i, j+1, word[1:]) or dfs(board, i-1, j, word[1:]) or dfs(board, i, j-1, word[1:])    \n",
    "        board[i][j] = tmp\n",
    "        \n",
    "        return res\n",
    "    if not precheck:\n",
    "        return false\n",
    "    \n",
    "    if not board:\n",
    "        return False\n",
    "    for i in range(n):\n",
    "        for j in range(m):\n",
    "            if board[i][j] == word[0]:\n",
    "                if dfs(board, i, j, word):\n",
    "                    return True\n",
    "    return False"
   ]
  },
  {
   "cell_type": "code",
   "execution_count": 43,
   "metadata": {},
   "outputs": [
    {
     "data": {
      "text/plain": [
       "True"
      ]
     },
     "execution_count": 43,
     "metadata": {},
     "output_type": "execute_result"
    }
   ],
   "source": [
    "board = [[\"A\",\"B\",\"C\",\"E\"],[\"S\",\"F\",\"C\",\"S\"],[\"A\",\"D\",\"E\",\"E\"]]\n",
    "word = \"ABCCED\"\n",
    "exist(board, word)"
   ]
  },
  {
   "cell_type": "markdown",
   "metadata": {},
   "source": [
    "## 80. Remove Duplicates from Sorted Array II\n",
    "\n",
    "#### Given a sorted array nums, remove the duplicates in-place such that duplicates appeared at most twice and return the new length.\n",
    "\n",
    "#### Do not allocate extra space for another array; you must do this by modifying the input array in-place with O(1) extra memory."
   ]
  },
  {
   "cell_type": "code",
   "execution_count": 48,
   "metadata": {},
   "outputs": [],
   "source": [
    "## The key is that nums[i-2] < nums[i] for sure in the final output\n",
    "## time: O(n); space(O(1))\n",
    "def removeDuplicates(nums):\n",
    "    if len(nums) < 2:\n",
    "        return len(nums)\n",
    "    \n",
    "    i = 2\n",
    "    for n in nums[2:]:\n",
    "        if n > nums[i-2]:\n",
    "            nums[i] = n\n",
    "            i += 1\n",
    "    return i"
   ]
  },
  {
   "cell_type": "code",
   "execution_count": 49,
   "metadata": {},
   "outputs": [
    {
     "data": {
      "text/plain": [
       "5"
      ]
     },
     "execution_count": 49,
     "metadata": {},
     "output_type": "execute_result"
    }
   ],
   "source": [
    "nums = [1,1,1,2,2,3]\n",
    "removeDuplicates(nums)"
   ]
  },
  {
   "cell_type": "code",
   "execution_count": 50,
   "metadata": {},
   "outputs": [],
   "source": [
    "## two pointers\n",
    "def removeDuplicates(nums):\n",
    "    if len(nums) < 2:\n",
    "        return len(nums)\n",
    "    slow, fast = 2, 2\n",
    "    \n",
    "    while fast < len(nums):\n",
    "        if nums[slow-2] < nums[fast]:\n",
    "            nums[slow] = nums[fast]\n",
    "            slow += 1\n",
    "        fast += 1\n",
    "    return slow"
   ]
  },
  {
   "cell_type": "code",
   "execution_count": 51,
   "metadata": {},
   "outputs": [
    {
     "data": {
      "text/plain": [
       "5"
      ]
     },
     "execution_count": 51,
     "metadata": {},
     "output_type": "execute_result"
    }
   ],
   "source": [
    "nums = [1,1,1,2,2,3]\n",
    "removeDuplicates(nums)"
   ]
  },
  {
   "cell_type": "markdown",
   "metadata": {},
   "source": [
    "#### For this problem, we need to first notice the relation of the elements; Then hold 2 pointers: slow one for the replace position and fast one for seaching candidates"
   ]
  },
  {
   "cell_type": "markdown",
   "metadata": {},
   "source": [
    "## 81. Search in Rotated Sorted Array II\n",
    "#### You are given an integer array nums sorted in ascending order (not necessarily distinct values), and an integer target.\n",
    "\n",
    "#### Suppose that nums is rotated at some pivot unknown to you beforehand (i.e., [0,1,2,4,4,4,5,6,6,7] might become [4,5,6,6,7,0,1,2,4,4]).\n",
    "\n",
    "#### If target is found in the array return its index, otherwise, return -1."
   ]
  },
  {
   "cell_type": "code",
   "execution_count": null,
   "metadata": {},
   "outputs": [],
   "source": []
  },
  {
   "cell_type": "code",
   "execution_count": null,
   "metadata": {},
   "outputs": [],
   "source": []
  },
  {
   "cell_type": "code",
   "execution_count": null,
   "metadata": {},
   "outputs": [],
   "source": []
  }
 ],
 "metadata": {
  "kernelspec": {
   "display_name": "Python 3",
   "language": "python",
   "name": "python3"
  },
  "language_info": {
   "codemirror_mode": {
    "name": "ipython",
    "version": 3
   },
   "file_extension": ".py",
   "mimetype": "text/x-python",
   "name": "python",
   "nbconvert_exporter": "python",
   "pygments_lexer": "ipython3",
   "version": "3.7.6"
  }
 },
 "nbformat": 4,
 "nbformat_minor": 4
}
