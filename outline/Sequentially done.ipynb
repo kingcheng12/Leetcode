{
 "cells": [
  {
   "cell_type": "markdown",
   "metadata": {},
   "source": [
    "# 1. Add Two Numbers\n",
    "\n",
    "You are given two non-empty linked lists representing two non-negative integers. The digits are stored in reverse order, and each of their nodes contains a single digit. Add the two numbers and return the sum as a linked list.\n",
    "\n",
    "You may assume the two numbers do not contain any leading zero, except the number 0 itself."
   ]
  },
  {
   "cell_type": "code",
   "execution_count": 38,
   "metadata": {},
   "outputs": [],
   "source": [
    "class ListNode:\n",
    "    def __init__(self, val=0, next=None):\n",
    "        self.val = val\n",
    "        self.next = next"
   ]
  },
  {
   "cell_type": "code",
   "execution_count": 39,
   "metadata": {},
   "outputs": [],
   "source": [
    "def addTwoNumbers(l1, l2):\n",
    "    ans = ListNode(0)\n",
    "    tail = ans\n",
    "    carry = 0\n",
    "    \n",
    "    while l1 or l2 or carry:\n",
    "        val1 = l1.val if l1 else 0\n",
    "        val2 = l2.val if l2 else 0\n",
    "        su = val1 + val2 + carry\n",
    "        out = su % 10\n",
    "        carry = su // 10\n",
    "        \n",
    "        tail.next = ListNode(out)\n",
    "        tail = tail.next\n",
    "        \n",
    "        l1 = l1.next if l1 else None\n",
    "        l2 = l2.next if l2 else None\n",
    "        \n",
    "    return ans.next"
   ]
  },
  {
   "cell_type": "markdown",
   "metadata": {},
   "source": [
    "#### standard work that move along l1 and l2."
   ]
  },
  {
   "cell_type": "code",
   "execution_count": 41,
   "metadata": {},
   "outputs": [],
   "source": [
    "def addTwoNumbers(l1, l2):\n",
    "    carry = 0 \n",
    "    ans = tail = ListNode(0)\n",
    "    while l1 or l2 or carry:\n",
    "        if l1:\n",
    "            carry += l1.val\n",
    "            l1 =l1.next\n",
    "        if l2:\n",
    "            carry += l2.val\n",
    "            l2 = l2.next\n",
    "        tail.next = ListNode(carry%10)\n",
    "        tail = tail.next\n",
    "        carry = carry//10\n",
    "        \n",
    "    return ans.next"
   ]
  },
  {
   "cell_type": "markdown",
   "metadata": {},
   "source": [
    "# 2. Median of Two Sorted Arrays\n",
    "\n",
    "#### Given two sorted arrays nums1 and nums2 of size m and n respectively, return the median of the two sorted arrays."
   ]
  },
  {
   "cell_type": "code",
   "execution_count": 86,
   "metadata": {},
   "outputs": [],
   "source": [
    "def findMedianSortedArrays(nums1, nums2):\n",
    "    m, n = len(nums1), len(nums2)\n",
    "    if m > n:\n",
    "        nums1, nums2, m, n = nums2, nums1, n, m \n",
    "    \n",
    "    # binary search on short list\n",
    "    imin, imax, half = 0, m-1, (m+n+1)//2\n",
    "    while imin <= imax:\n",
    "        i = (imin+imax)//2\n",
    "        # j for condition 1\n",
    "        j = half - i\n",
    "        \n",
    "        # check cases\n",
    "        if nums2[j-1] > nums1[i] and i < m:\n",
    "            print('c1')\n",
    "            imin = i+1\n",
    "        elif nums1[i-1] > nums2[j] and i > 0:\n",
    "            print('c2')\n",
    "            imax = i-1\n",
    "        # find optimal i\n",
    "        else:\n",
    "            print('else')\n",
    "            if i==0:\n",
    "                max_l = nums2[j-1]\n",
    "            elif j ==0:\n",
    "                max_l = nums1[i-1]\n",
    "            else:\n",
    "                max_l = max(nums2[j-1], nums1[i-1])\n",
    "                \n",
    "            if (m+n)%2==1:\n",
    "                return max_l\n",
    "            \n",
    "            if i==m:\n",
    "                min_r = nums2[j]\n",
    "            elif j==n:\n",
    "                min_r = nums1[i]\n",
    "            else:\n",
    "                min_r = min(nums2[j], nums1[i])\n",
    "                \n",
    "            return (max_l+min_r)/2 \n"
   ]
  },
  {
   "cell_type": "code",
   "execution_count": 87,
   "metadata": {},
   "outputs": [],
   "source": [
    "nums1 = [1]\n",
    "nums2 = [2,3]"
   ]
  },
  {
   "cell_type": "code",
   "execution_count": 88,
   "metadata": {},
   "outputs": [
    {
     "name": "stdout",
     "output_type": "stream",
     "text": [
      "c1\n"
     ]
    }
   ],
   "source": [
    "findMedianSortedArrays(nums1, nums2)"
   ]
  },
  {
   "cell_type": "code",
   "execution_count": 80,
   "metadata": {},
   "outputs": [],
   "source": [
    "def findMedianSortedArrays(nums1, nums2):\n",
    "        if len(nums1) <= len(nums2):\n",
    "            L, S = nums2, nums1\n",
    "        else:\n",
    "            L, S = nums1, nums2\n",
    "        n, m = len(L), len(S)\n",
    "\n",
    "        # binary search on short list\n",
    "        imin, imax, half = 0, m-1, (m+n+1)//2\n",
    "        while imin <= imax:\n",
    "            i = (imin+imax+1)//2\n",
    "            # j for condition 1\n",
    "            j = half - i\n",
    "\n",
    "            # check cases\n",
    "            if L[j-1] > S[i] and i<m:\n",
    "                imin = i+1\n",
    "            elif S[i-1] > L[j] and i>0:\n",
    "                imax = i-1\n",
    "            else:\n",
    "                break\n",
    "                \n",
    "        # optimal i, j obtained\n",
    "        max_l = max(S[i-1], L[j-1])\n",
    "        if (n+m+1)%2 == 0:\n",
    "            return max_l\n",
    "        else:\n",
    "            min_r = min(S[i], L[j])\n",
    "            return (max_l+min_r)/2"
   ]
  },
  {
   "cell_type": "code",
   "execution_count": 81,
   "metadata": {},
   "outputs": [],
   "source": [
    "nums1 = [4]\n",
    "nums2 = [2,3]"
   ]
  },
  {
   "cell_type": "code",
   "execution_count": 82,
   "metadata": {},
   "outputs": [
    {
     "ename": "IndexError",
     "evalue": "list index out of range",
     "output_type": "error",
     "traceback": [
      "\u001b[1;31m---------------------------------------------------------------------------\u001b[0m",
      "\u001b[1;31mIndexError\u001b[0m                                Traceback (most recent call last)",
      "\u001b[1;32m<ipython-input-82-621349e80d58>\u001b[0m in \u001b[0;36m<module>\u001b[1;34m\u001b[0m\n\u001b[1;32m----> 1\u001b[1;33m \u001b[0mfindMedianSortedArrays\u001b[0m\u001b[1;33m(\u001b[0m\u001b[0mnums1\u001b[0m\u001b[1;33m,\u001b[0m \u001b[0mnums2\u001b[0m\u001b[1;33m)\u001b[0m\u001b[1;33m\u001b[0m\u001b[1;33m\u001b[0m\u001b[0m\n\u001b[0m",
      "\u001b[1;32m<ipython-input-80-a18215966fdc>\u001b[0m in \u001b[0;36mfindMedianSortedArrays\u001b[1;34m(nums1, nums2)\u001b[0m\n\u001b[0;32m     16\u001b[0m             \u001b[1;32mif\u001b[0m \u001b[0mL\u001b[0m\u001b[1;33m[\u001b[0m\u001b[0mj\u001b[0m\u001b[1;33m-\u001b[0m\u001b[1;36m1\u001b[0m\u001b[1;33m]\u001b[0m \u001b[1;33m>\u001b[0m \u001b[0mS\u001b[0m\u001b[1;33m[\u001b[0m\u001b[0mi\u001b[0m\u001b[1;33m]\u001b[0m \u001b[1;32mand\u001b[0m \u001b[0mi\u001b[0m\u001b[1;33m<\u001b[0m\u001b[0mm\u001b[0m\u001b[1;33m:\u001b[0m\u001b[1;33m\u001b[0m\u001b[1;33m\u001b[0m\u001b[0m\n\u001b[0;32m     17\u001b[0m                 \u001b[0mimin\u001b[0m \u001b[1;33m=\u001b[0m \u001b[0mi\u001b[0m\u001b[1;33m+\u001b[0m\u001b[1;36m1\u001b[0m\u001b[1;33m\u001b[0m\u001b[1;33m\u001b[0m\u001b[0m\n\u001b[1;32m---> 18\u001b[1;33m             \u001b[1;32melif\u001b[0m \u001b[0mS\u001b[0m\u001b[1;33m[\u001b[0m\u001b[0mi\u001b[0m\u001b[1;33m-\u001b[0m\u001b[1;36m1\u001b[0m\u001b[1;33m]\u001b[0m \u001b[1;33m>\u001b[0m \u001b[0mL\u001b[0m\u001b[1;33m[\u001b[0m\u001b[0mj\u001b[0m\u001b[1;33m]\u001b[0m \u001b[1;32mand\u001b[0m \u001b[0mi\u001b[0m\u001b[1;33m>\u001b[0m\u001b[1;36m0\u001b[0m\u001b[1;33m:\u001b[0m\u001b[1;33m\u001b[0m\u001b[1;33m\u001b[0m\u001b[0m\n\u001b[0m\u001b[0;32m     19\u001b[0m                 \u001b[0mimax\u001b[0m \u001b[1;33m=\u001b[0m \u001b[0mi\u001b[0m\u001b[1;33m-\u001b[0m\u001b[1;36m1\u001b[0m\u001b[1;33m\u001b[0m\u001b[1;33m\u001b[0m\u001b[0m\n\u001b[0;32m     20\u001b[0m             \u001b[1;32melse\u001b[0m\u001b[1;33m:\u001b[0m\u001b[1;33m\u001b[0m\u001b[1;33m\u001b[0m\u001b[0m\n",
      "\u001b[1;31mIndexError\u001b[0m: list index out of range"
     ]
    }
   ],
   "source": [
    "findMedianSortedArrays(nums1, nums2)"
   ]
  },
  {
   "cell_type": "markdown",
   "metadata": {},
   "source": [
    "# 3. ZigZag Conversion\n",
    "\n",
    "#### The string \"PAYPALISHIRING\" is written in a zigzag pattern on a given number of rows like this: (you may want to display this pattern in a fixed font for better legibility) And then read line by line: \"PAHNAPLSIIGYIR\". Write the code that will take a string and make this conversion given a number of rows:"
   ]
  },
  {
   "cell_type": "code",
   "execution_count": 54,
   "metadata": {},
   "outputs": [],
   "source": [
    "# based on numR compute the index of the resulting str\n",
    "def convert(s, numRows):\n",
    "    \n",
    "    # edge case\n",
    "    if numRows==1:\n",
    "        return s\n",
    "    \n",
    "    # create each row\n",
    "    row_list = ['']*min(numRows, len(s))\n",
    "    \n",
    "    current_row, current_direct = 0, 1\n",
    "    for c in s:\n",
    "        row_list[current_row] = row_list[current_row]+c\n",
    "        current_row = current_row+current_direct\n",
    "        if current_row+1 > numRows:\n",
    "            current_row = current_row-2\n",
    "            current_direct=-1\n",
    "        elif current_row < 0:\n",
    "            current_row = current_row+2\n",
    "            current_direct=1\n",
    "        \n",
    "    return ''.join(row_list)\n"
   ]
  },
  {
   "cell_type": "code",
   "execution_count": 58,
   "metadata": {},
   "outputs": [
    {
     "data": {
      "text/plain": [
       "'PAHNAPLSIIGYIR'"
      ]
     },
     "execution_count": 58,
     "metadata": {},
     "output_type": "execute_result"
    }
   ],
   "source": [
    "s = 'PAYPALISHIRING'\n",
    "numRows = 3\n",
    "convert(s, numRows)"
   ]
  },
  {
   "cell_type": "markdown",
   "metadata": {},
   "source": [
    "## The key is to track the current position and the direction in order to determine the position of next element."
   ]
  },
  {
   "cell_type": "code",
   "execution_count": 60,
   "metadata": {},
   "outputs": [],
   "source": [
    "def convert(s, numRows):\n",
    "    \n",
    "    # edge case\n",
    "    if numRows==1:\n",
    "        return s\n",
    "    \n",
    "    # create each row\n",
    "    row_list = ['']*min(numRows, len(s))\n",
    "    \n",
    "    current_row, current_direct = 0, 1\n",
    "    for c in s:\n",
    "        row_list[current_row] += c # inplace append of the string\n",
    "        current_row = current_row+current_direct\n",
    "        if current_row+1 > numRows:\n",
    "            current_row = current_row-2\n",
    "            current_direct=-1\n",
    "        elif current_row < 0:\n",
    "            current_row = current_row+2\n",
    "            current_direct=1\n",
    "        \n",
    "    return ''.join(row_list)"
   ]
  },
  {
   "cell_type": "code",
   "execution_count": 61,
   "metadata": {},
   "outputs": [
    {
     "data": {
      "text/plain": [
       "'PAHNAPLSIIGYIR'"
      ]
     },
     "execution_count": 61,
     "metadata": {},
     "output_type": "execute_result"
    }
   ],
   "source": [
    "s = 'PAYPALISHIRING'\n",
    "numRows = 3\n",
    "convert(s, numRows)"
   ]
  },
  {
   "cell_type": "markdown",
   "metadata": {},
   "source": [
    "# 4. Reverse Integer\n",
    "\n",
    "#### Given a 32-bit signed integer, reverse digits of an integer."
   ]
  },
  {
   "cell_type": "code",
   "execution_count": 71,
   "metadata": {},
   "outputs": [],
   "source": [
    "def reverse(x):\n",
    "    if x == 0:\n",
    "        return 0\n",
    "    while x%10==0:\n",
    "        x = x/10\n",
    "        \n",
    "    return int(str(a)[::-1])"
   ]
  },
  {
   "cell_type": "code",
   "execution_count": 73,
   "metadata": {},
   "outputs": [
    {
     "data": {
      "text/plain": [
       "4321"
      ]
     },
     "execution_count": 73,
     "metadata": {},
     "output_type": "execute_result"
    }
   ],
   "source": [
    "x = 123400\n",
    "reverse(x)"
   ]
  },
  {
   "cell_type": "markdown",
   "metadata": {},
   "source": [
    "### The above will not handle huge number."
   ]
  },
  {
   "cell_type": "code",
   "execution_count": 112,
   "metadata": {},
   "outputs": [],
   "source": [
    "def reverse(x):\n",
    "    ans = 0\n",
    "    is_neg = x < 0\n",
    "    x = abs(x)\n",
    "\n",
    "    while x!=0:\n",
    "        pop = x%10\n",
    "        x //=10\n",
    "\n",
    "        # check overflow\n",
    "        limit = 2147483648\n",
    "        if (ans > limit/10): return 0\n",
    "\n",
    "        ans *= 10\n",
    "        ans += pop\n",
    "\n",
    "    if is_neg:\n",
    "        return -ans\n",
    "    else:\n",
    "        return ans"
   ]
  },
  {
   "cell_type": "code",
   "execution_count": 113,
   "metadata": {},
   "outputs": [
    {
     "data": {
      "text/plain": [
       "-321"
      ]
     },
     "execution_count": 113,
     "metadata": {},
     "output_type": "execute_result"
    }
   ],
   "source": [
    "x = -123\n",
    "reverse(x)"
   ]
  },
  {
   "cell_type": "markdown",
   "metadata": {},
   "source": [
    "### The key is to understand the boundary of int types."
   ]
  },
  {
   "cell_type": "markdown",
   "metadata": {},
   "source": [
    "## 5. Palindrome Number\n",
    "\n",
    "#### Determine whether an integer is a palindrome. An integer is a palindrome when it reads the same backward as forward."
   ]
  },
  {
   "cell_type": "code",
   "execution_count": 110,
   "metadata": {},
   "outputs": [],
   "source": [
    "# would be easy if convert to string, use int type\n",
    "# this is just reverse the number and compare\n",
    "def isPalindrome(x):\n",
    "    \n",
    "    # edge case\n",
    "    if x < 0:\n",
    "        return False\n",
    "    \n",
    "    p, res = x, 0\n",
    "    while p:\n",
    "        res = res*10 + p%10\n",
    "        p //= 10\n",
    "    return res == x\n",
    "    "
   ]
  },
  {
   "cell_type": "code",
   "execution_count": 111,
   "metadata": {},
   "outputs": [
    {
     "data": {
      "text/plain": [
       "False"
      ]
     },
     "execution_count": 111,
     "metadata": {},
     "output_type": "execute_result"
    }
   ],
   "source": [
    "x = 16621\n",
    "isPalindrome(x)"
   ]
  },
  {
   "cell_type": "code",
   "execution_count": 116,
   "metadata": {},
   "outputs": [],
   "source": [
    "# check from both sides\n",
    "def isPalindrome(x):\n",
    "    # edge case\n",
    "    if x < 0:\n",
    "        return False\n",
    "    \n",
    "    # compute the range of the number\n",
    "    ranger = 1\n",
    "    while x /ranger >=10:\n",
    "        ranger *= 10\n",
    "        \n",
    "    while x:\n",
    "        left = x//ranger\n",
    "        right = x % 10\n",
    "        if left != right:\n",
    "            return False\n",
    "        \n",
    "        x = (x%ranger)//10\n",
    "        ranger //= 100\n",
    "        \n",
    "    return True"
   ]
  },
  {
   "cell_type": "code",
   "execution_count": 118,
   "metadata": {},
   "outputs": [
    {
     "data": {
      "text/plain": [
       "True"
      ]
     },
     "execution_count": 118,
     "metadata": {},
     "output_type": "execute_result"
    }
   ],
   "source": [
    "x = 121\n",
    "isPalindrome(x)"
   ]
  },
  {
   "cell_type": "code",
   "execution_count": 119,
   "metadata": {},
   "outputs": [],
   "source": [
    "# str\n",
    "def isPalindrome(x):\n",
    "    # edge case\n",
    "    if x < 0:\n",
    "        return False\n",
    "    copy = str(x)\n",
    "    rev = copy[::-1]\n",
    "    \n",
    "    return copy == rev"
   ]
  },
  {
   "cell_type": "code",
   "execution_count": 121,
   "metadata": {},
   "outputs": [
    {
     "data": {
      "text/plain": [
       "False"
      ]
     },
     "execution_count": 121,
     "metadata": {},
     "output_type": "execute_result"
    }
   ],
   "source": [
    "x = 1231\n",
    "isPalindrome(x)"
   ]
  },
  {
   "cell_type": "markdown",
   "metadata": {},
   "source": [
    "## 6. Regular Expression Matching\n",
    "\n",
    "Given an input string (s) and a pattern (p), implement regular expression matching with support for '.' and '*' where: \n",
    "\n",
    "'.' Matches any single character.​​​​\n",
    "'*' Matches zero or more of the preceding element.\n",
    "The matching should cover the entire input string (not partial)."
   ]
  },
  {
   "cell_type": "code",
   "execution_count": 138,
   "metadata": {},
   "outputs": [],
   "source": [
    "# This is clearly a DP problem\n",
    "def isMatch(s, p):\n",
    "    # create dp table \n",
    "    table = {}\n",
    "    def dp(i, j):\n",
    "        if (i, j) not in table:\n",
    "            # if j == len(p), p[j:] is empty, s[i:] also need to be empty\n",
    "            # base case\n",
    "            if j == len(p):\n",
    "                sol = i == len(s)\n",
    "            else:\n",
    "                # first match if s[i:] is not empty and s[i] matches p[j]\n",
    "                match_1 = i<len(s) and p[j] in {'.', s[i]}\n",
    "                if j+1<len(p) and p[j+1]=='*':\n",
    "                    sol = (match_1 and dp(i+1, j)) or dp(i, j+2)\n",
    "                else:\n",
    "                    sol = match_1 and dp(i+1, j+1)\n",
    "            table[i,j] = sol\n",
    "        return table[i,j]\n",
    "    return dp(0,0)\n"
   ]
  },
  {
   "cell_type": "code",
   "execution_count": 139,
   "metadata": {},
   "outputs": [
    {
     "data": {
      "text/plain": [
       "True"
      ]
     },
     "execution_count": 139,
     "metadata": {},
     "output_type": "execute_result"
    }
   ],
   "source": [
    "s = \"aab\"\n",
    "p = \"c*a*b\"\n",
    "isMatch(s, p)"
   ]
  },
  {
   "cell_type": "markdown",
   "metadata": {},
   "source": [
    "### Use dictionary for table keeping might be more efficient than filling in the whole table."
   ]
  },
  {
   "cell_type": "markdown",
   "metadata": {},
   "source": [
    "## 7. Roman to Integer\n",
    "#### Roman numerals are represented by seven different symbols: I, V, X, L, C, D and M. \n",
    "\n",
    "#### For example, 2 is written as II in Roman numeral, just two one's added together. 12 is written as XII, which is simply X + II. The number 27 is written as XXVII, which is XX + V + II.\n",
    "\n",
    "#### Roman numerals are usually written largest to smallest from left to right. However, the numeral for four is not IIII. Instead, the number four is written as IV. Because the one is before the five we subtract it making four. The same principle applies to the number nine, which is written as IX. There are six instances where subtraction is used:\n",
    "\n",
    "#### I can be placed before V (5) and X (10) to make 4 and 9. \n",
    "#### X can be placed before L (50) and C (100) to make 40 and 90. \n",
    "#### C can be placed before D (500) and M (1000) to make 400 and 900.\n",
    "#### Given a roman numeral, convert it to an integer."
   ]
  },
  {
   "cell_type": "code",
   "execution_count": 21,
   "metadata": {},
   "outputs": [],
   "source": [
    "def romanToInt(s):\n",
    "    dic = {'I':1,\n",
    "          'V':5,\n",
    "          'X':10,\n",
    "          'L':50,\n",
    "          'C':100,\n",
    "          'D':500,\n",
    "          'M':1000,\n",
    "          'IV':4,\n",
    "          'IX':9,\n",
    "          'XL':40,\n",
    "          'XC':90,\n",
    "          'CD':400,\n",
    "          'CM':900}\n",
    "    \n",
    "    ans = 0\n",
    "    i = 1\n",
    "    while i < len(s)+1:\n",
    "        if s[i-1:i+1] in dic:\n",
    "            ans += dic[s[i-1:i+1]]\n",
    "            i += 2\n",
    "        else:\n",
    "            ans += dic[s[i-1]]\n",
    "            i += 1\n",
    "    return ans\n",
    "        "
   ]
  },
  {
   "cell_type": "code",
   "execution_count": 24,
   "metadata": {},
   "outputs": [
    {
     "data": {
      "text/plain": [
       "1994"
      ]
     },
     "execution_count": 24,
     "metadata": {},
     "output_type": "execute_result"
    }
   ],
   "source": [
    "s = 'MCMXCIV'\n",
    "romanToInt(s)"
   ]
  },
  {
   "cell_type": "code",
   "execution_count": 27,
   "metadata": {},
   "outputs": [],
   "source": [
    "# not encode into 2 roman\n",
    "def romanToInt(s):\n",
    "    dic = {'I':1,\n",
    "          'V':5,\n",
    "          'X':10,\n",
    "          'L':50,\n",
    "          'C':100,\n",
    "          'D':500,\n",
    "          'M':1000}\n",
    "    \n",
    "    ans = 0\n",
    "    \n",
    "    for i in range(len(s)-1):\n",
    "        if dic[s[i]]<dic[s[i+1]]:\n",
    "            ans -= dic[s[i]]\n",
    "        else:\n",
    "            ans += dic[s[i]]\n",
    "    return ans + dic[s[-1]]"
   ]
  },
  {
   "cell_type": "code",
   "execution_count": 28,
   "metadata": {},
   "outputs": [
    {
     "data": {
      "text/plain": [
       "1994"
      ]
     },
     "execution_count": 28,
     "metadata": {},
     "output_type": "execute_result"
    }
   ],
   "source": [
    "s = 'MCMXCIV'\n",
    "romanToInt(s)"
   ]
  },
  {
   "cell_type": "code",
   "execution_count": 29,
   "metadata": {},
   "outputs": [],
   "source": [
    "# reduce memory\n",
    "def romanToInt(s):\n",
    "    dic = {'I':1,\n",
    "          'V':5,\n",
    "          'X':10,\n",
    "          'L':50,\n",
    "          'C':100,\n",
    "          'D':500,\n",
    "          'M':1000}\n",
    "    \n",
    "    res, prev = 0, 0\n",
    "    \n",
    "    for i in s[::-1]:\n",
    "        if dic[i] >= prev:\n",
    "            res += dic[i]\n",
    "        else:\n",
    "            res -= dic[i]\n",
    "        prev = dic[i]\n",
    "    \n",
    "    return res"
   ]
  },
  {
   "cell_type": "code",
   "execution_count": 30,
   "metadata": {},
   "outputs": [
    {
     "data": {
      "text/plain": [
       "1994"
      ]
     },
     "execution_count": 30,
     "metadata": {},
     "output_type": "execute_result"
    }
   ],
   "source": [
    "s = 'MCMXCIV'\n",
    "romanToInt(s)"
   ]
  },
  {
   "cell_type": "markdown",
   "metadata": {},
   "source": [
    "## 8. 3Sum Closest\n",
    "#### Given an array nums of n integers and an integer target, find three integers in nums such that the sum is closest to target. Return the sum of the three integers. You may assume that each input would have exactly one solution."
   ]
  },
  {
   "cell_type": "code",
   "execution_count": 38,
   "metadata": {},
   "outputs": [],
   "source": [
    "# two pointers\n",
    "def threeSumClosest(nums, target):\n",
    "    # sort \n",
    "    nums.sort()\n",
    "    \n",
    "    diff = float('inf')\n",
    "    \n",
    "    for i in range(len(nums)):\n",
    "        l, h = i+1, len(nums)-1\n",
    "        while l < h:\n",
    "            sum3 = nums[i]+nums[l]+nums[h]\n",
    "            if sum3 == target:\n",
    "                return target\n",
    "            if abs(target - sum3) < abs(diff):\n",
    "                diff = target - sum3\n",
    "            if sum3 < target:\n",
    "                l += 1\n",
    "            else:\n",
    "                h -= 1\n",
    "    return target - diff      "
   ]
  },
  {
   "cell_type": "code",
   "execution_count": 39,
   "metadata": {},
   "outputs": [
    {
     "data": {
      "text/plain": [
       "2"
      ]
     },
     "execution_count": 39,
     "metadata": {},
     "output_type": "execute_result"
    }
   ],
   "source": [
    "nums = [-1,2,1,-4]\n",
    "target = 1\n",
    "threeSumClosest(nums, target)"
   ]
  },
  {
   "cell_type": "markdown",
   "metadata": {},
   "source": [
    "### With two pointers, need to track what you want to track."
   ]
  },
  {
   "cell_type": "markdown",
   "metadata": {},
   "source": [
    "## 9. Remove Nth Node From End of List\n",
    "#### Given the head of a linked list, remove the nth node from the end of the list and return its head."
   ]
  },
  {
   "cell_type": "code",
   "execution_count": 40,
   "metadata": {},
   "outputs": [],
   "source": [
    "class ListNode:\n",
    "    def __init__(self, val=0, next=None):\n",
    "        self.val = val\n",
    "        self.next = next"
   ]
  },
  {
   "cell_type": "code",
   "execution_count": 53,
   "metadata": {},
   "outputs": [],
   "source": [
    "# no dummy, 2 pointer, 1 pass\n",
    "def removeNthFromEnd(head, n):\n",
    "    fast = slow = head\n",
    "    for _ in range(n):\n",
    "        fast = fast.next\n",
    "    if not fast:\n",
    "        return head.next\n",
    "    while fast.next:\n",
    "        fast = fast.next\n",
    "        slow = slow.next\n",
    "    slow.next = slow.next.next\n",
    "    return head   "
   ]
  },
  {
   "cell_type": "markdown",
   "metadata": {},
   "source": [
    "#### The idea is to keep the n-th gap between two pointers and track till the end for the fast pointer."
   ]
  },
  {
   "cell_type": "markdown",
   "metadata": {},
   "source": [
    "## 10. Merge Two Sorted Lists\n",
    "\n",
    "#### Merge two sorted linked lists and return it as a new sorted list. The new list should be made by splicing together the nodes of the first two lists."
   ]
  },
  {
   "cell_type": "code",
   "execution_count": 1,
   "metadata": {},
   "outputs": [],
   "source": [
    "class ListNode:\n",
    "    def __init__(self, val=0, next=None):\n",
    "        self.val = val\n",
    "        self.next = next"
   ]
  },
  {
   "cell_type": "code",
   "execution_count": 2,
   "metadata": {},
   "outputs": [],
   "source": [
    "def mergeTwoLists(l1, l2):\n",
    "    # create dummy\n",
    "    ans = tail = ListNode(0)\n",
    "    \n",
    "    while l1 and l2:\n",
    "        if l1.val <= l2.val:\n",
    "            tail.next = l1\n",
    "            l1 = l1.next\n",
    "        else:\n",
    "            tail.next = l2\n",
    "            l2 = l2.next\n",
    "        tail = tail.next\n",
    "    tail.next = l1 or l2\n",
    "      \n",
    "    return ans.next"
   ]
  },
  {
   "cell_type": "markdown",
   "metadata": {},
   "source": [
    "## 11. Merge k Sorted Lists\n",
    "\n",
    "#### You are given an array of k linked-lists lists, each linked-list is sorted in ascending order.\n",
    "\n",
    "#### Merge all the linked-lists into one sorted linked-list and return it."
   ]
  },
  {
   "cell_type": "code",
   "execution_count": 7,
   "metadata": {},
   "outputs": [],
   "source": [
    "# basic idea, sort for every input\n",
    "def mergeKLists(lists):\n",
    "    # dummy \n",
    "    ans = tail = ListNode(0)\n",
    "    \n",
    "    nodes = []\n",
    "    \n",
    "    # take out all values\n",
    "    for l in lists:\n",
    "        while l:\n",
    "            nodes.append(l.val)\n",
    "            l = l.next\n",
    "    # sort and create answer  \n",
    "    for x in sorted(nodes):\n",
    "        tail.next = ListNode(x)\n",
    "        tail = tail.next\n",
    "    return head.next"
   ]
  },
  {
   "cell_type": "markdown",
   "metadata": {},
   "source": [
    "#### This is the most intuitive and basic algorithm. \n",
    "\n",
    "#### Another method is to sort for every k vals and append to the ListNode accoringly."
   ]
  },
  {
   "cell_type": "code",
   "execution_count": 13,
   "metadata": {},
   "outputs": [],
   "source": [
    "from queue import PriorityQueue\n",
    "\n",
    "# priority queue\n",
    "def mergeKLists(lists):\n",
    "    # dummy \n",
    "    ans = tail = ListNode(0)\n",
    "    \n",
    "    q = PriorityQueue()\n",
    "    for l in lists:\n",
    "        if l:\n",
    "            q.put((l.val, l))\n",
    "    while not q.empty():\n",
    "        val, node = q.get()\n",
    "        tail.next = ListNode(val)\n",
    "        tail = tail.next\n",
    "        node = node.next\n",
    "        if node:\n",
    "            q.put((node.val, node))\n",
    "    return ans.next"
   ]
  },
  {
   "cell_type": "code",
   "execution_count": 14,
   "metadata": {},
   "outputs": [],
   "source": [
    "# devide and conquer\n",
    "# repeatedly merge two ListNode\n",
    "def mergeKLists(lists):\n",
    "    def mergeTwoLists(l1, l2):\n",
    "        # create dummy\n",
    "        ans = tail = ListNode(0)\n",
    "\n",
    "        while l1 and l2:\n",
    "            if l1.val <= l2.val:\n",
    "                tail.next = l1\n",
    "                l1 = l1.next\n",
    "            else:\n",
    "                tail.next = l2\n",
    "                l2 = l2.next\n",
    "            tail = tail.next\n",
    "        tail.next = l1 or l2  \n",
    "        return ans.next\n",
    "    \n",
    "    n = len(lists)\n",
    "    interval = 1\n",
    "    while interval < n:\n",
    "        for i in range(0, n - interval, interval*2):\n",
    "            lists[i] = mergeTwoLists(lists[i], lists[i+interval])\n",
    "        interval *= 2\n",
    "    return lists[0] if n>0 else None"
   ]
  },
  {
   "cell_type": "markdown",
   "metadata": {},
   "source": [
    "## 12. Swap Nodes in Pairs\n",
    "\n",
    "#### Given a linked list, swap every two adjacent nodes and return its head. You may not modify the values in the list's nodes. Only nodes itself may be changed."
   ]
  },
  {
   "cell_type": "code",
   "execution_count": 33,
   "metadata": {},
   "outputs": [],
   "source": [
    "def create_listnode(l):\n",
    "    ans = tail = ListNode(0)\n",
    "    for i in l:\n",
    "        tail.next = ListNode(i)\n",
    "        tail = tail.next\n",
    "    return ans.next"
   ]
  },
  {
   "cell_type": "code",
   "execution_count": 34,
   "metadata": {},
   "outputs": [],
   "source": [
    "head = create_listnode([1,2,3,4])"
   ]
  },
  {
   "cell_type": "code",
   "execution_count": 39,
   "metadata": {},
   "outputs": [],
   "source": [
    "# create new ListNode with modified values\n",
    "def swapPairs(head):\n",
    "    ans = tail = ListNode(0)\n",
    "    \n",
    "    while head and head.next:\n",
    "        tail.next = ListNode(head.next.val)\n",
    "        tail = tail.next\n",
    "        tail.next = ListNode(head.val)\n",
    "        tail = tail.next\n",
    "        head = head.next.next\n",
    "        \n",
    "    tail.next = head\n",
    "    \n",
    "    return ans.next"
   ]
  },
  {
   "cell_type": "code",
   "execution_count": 40,
   "metadata": {},
   "outputs": [],
   "source": [
    "# do inplace change\n",
    "def swapPairs(head):\n",
    "    ans = tail = ListNode(0)\n",
    "    \n",
    "    tail.next = head\n",
    "    while tail.next and tail.next.next:\n",
    "        a = tail.next\n",
    "        b = a.next\n",
    "        \n",
    "        # switch without inter impact\n",
    "        tail.next, b.next, a.next = b, a, b.next\n",
    "        tail = a\n",
    "    return ans.next\n",
    "        "
   ]
  },
  {
   "cell_type": "markdown",
   "metadata": {},
   "source": [
    "## 13. Reverse Nodes in k-Group\n",
    "\n",
    "#### Given a linked list, reverse the nodes of a linked list k at a time and return its modified list. k is a positive integer and is less than or equal to the length of the linked list. If the number of nodes is not a multiple of k then left-out nodes, in the end, should remain as it is."
   ]
  },
  {
   "cell_type": "code",
   "execution_count": 23,
   "metadata": {},
   "outputs": [],
   "source": [
    "class ListNode:\n",
    "    def __init__(self, val=0, next=None):\n",
    "        self.val = val\n",
    "        self.next = next\n",
    "    def __str__(self):\n",
    "        ans = []\n",
    "        while self:\n",
    "            ans.append(str(self.val))\n",
    "            self = self.next\n",
    "        return ' '.join(ans)"
   ]
  },
  {
   "cell_type": "code",
   "execution_count": 24,
   "metadata": {},
   "outputs": [],
   "source": [
    "def create_listnode(l):\n",
    "    ans = tail = ListNode(0)\n",
    "    for i in l:\n",
    "        tail.next = ListNode(i)\n",
    "        tail = tail.next\n",
    "    return ans.next"
   ]
  },
  {
   "cell_type": "markdown",
   "metadata": {},
   "source": [
    "#### It will be intuitive to store all the value and relink the whole listnode. But it will not be O(1) in memory."
   ]
  },
  {
   "cell_type": "code",
   "execution_count": 290,
   "metadata": {},
   "outputs": [],
   "source": [
    "def reverseKGroup(head, k):\n",
    "    if k == 1:\n",
    "        return head\n",
    "    \n",
    "    ans = tail = ListNode(0)\n",
    "    \n",
    "    def k_step(l, k):\n",
    "        for i in range(k):\n",
    "            if l:\n",
    "                l = l.next\n",
    "            else:\n",
    "                return False\n",
    "        return True\n",
    "    \n",
    "    while k_step(head, k):\n",
    "        temp = []\n",
    "        for i in range(k):\n",
    "            if head:\n",
    "                temp.append(head.val)\n",
    "                head = head.next\n",
    "            else:\n",
    "                break\n",
    "        while temp:\n",
    "            tail.next = ListNode(temp.pop())\n",
    "            tail = tail.next\n",
    "    tail.next = head\n",
    "    \n",
    "    return ans.next"
   ]
  },
  {
   "cell_type": "code",
   "execution_count": 291,
   "metadata": {},
   "outputs": [],
   "source": [
    "l = create_listnode([1,2])\n",
    "k=2"
   ]
  },
  {
   "cell_type": "code",
   "execution_count": 292,
   "metadata": {},
   "outputs": [
    {
     "name": "stdout",
     "output_type": "stream",
     "text": [
      "2 1\n"
     ]
    }
   ],
   "source": [
    "print(reverseKGroup(l, k))"
   ]
  },
  {
   "cell_type": "code",
   "execution_count": null,
   "metadata": {},
   "outputs": [],
   "source": [
    "# O(1) memory\n",
    "def reverseKGroup(head, k):\n",
    "    ans = tail = ListNode(0)\n",
    "    ans.next = l = r = head\n",
    "    \n",
    "    while True:\n",
    "        count = 0\n",
    "        while r and count < k:\n",
    "            r = r.next\n",
    "            count += 1\n",
    "            \n",
    "        if count == k:\n",
    "            pre, cur = r, l\n",
    "            for _ in range(k):\n",
    "                cur.next, cur, pre = pre, cur.next, cur\n",
    "            tail.next, tail, l = pre, l ,r\n",
    "        else:\n",
    "            return ans.next"
   ]
  },
  {
   "cell_type": "markdown",
   "metadata": {},
   "source": [
    "#### Know how to reverse the linked list."
   ]
  },
  {
   "cell_type": "markdown",
   "metadata": {},
   "source": [
    "## 13. Remove Duplicates from Sorted Array\n",
    "#### Given a sorted array nums, remove the duplicates in-place such that each element appears only once and returns the new length.\n",
    "\n",
    "#### Do not allocate extra space for another array, you must do this by modifying the input array in-place with O(1) extra memory."
   ]
  },
  {
   "cell_type": "code",
   "execution_count": 296,
   "metadata": {},
   "outputs": [],
   "source": [
    "# two pointer\n",
    "def removeDuplicates(nums):\n",
    "    if len(nums) == 0:\n",
    "        return 0\n",
    "    \n",
    "    i = 0\n",
    "    for j in range(1,len(nums)):\n",
    "        if nums[j] != nums[i]:\n",
    "            i += 1\n",
    "            nums[i] = nums[j]\n",
    "    return i+1"
   ]
  },
  {
   "cell_type": "code",
   "execution_count": 297,
   "metadata": {},
   "outputs": [
    {
     "data": {
      "text/plain": [
       "4"
      ]
     },
     "execution_count": 297,
     "metadata": {},
     "output_type": "execute_result"
    }
   ],
   "source": [
    "nums = [1,2,3,3,4]\n",
    "removeDuplicates(nums)"
   ]
  },
  {
   "cell_type": "markdown",
   "metadata": {},
   "source": [
    "## 14. Implement strStr()\n",
    "\n",
    "#### Implement strStr(). Return the index of the first occurrence of needle in haystack, or -1 if needle is not part of haystack."
   ]
  },
  {
   "cell_type": "code",
   "execution_count": 306,
   "metadata": {},
   "outputs": [],
   "source": [
    "# two pointers\n",
    "def strStr(haystack, needle):\n",
    "    n, m = len(haystack), len(needle)\n",
    "    if needle == '':\n",
    "        return 0\n",
    "    elif haystack == '':\n",
    "        return -1\n",
    "    \n",
    "    for i in range(n-m+1):\n",
    "        count = 0\n",
    "        for j in range(m):\n",
    "            if haystack[i+count]==needle[j]:\n",
    "                count += 1\n",
    "            else:\n",
    "                break\n",
    "        if count == m:\n",
    "            return i\n",
    "    return -1"
   ]
  },
  {
   "cell_type": "code",
   "execution_count": 308,
   "metadata": {},
   "outputs": [
    {
     "data": {
      "text/plain": [
       "2"
      ]
     },
     "execution_count": 308,
     "metadata": {},
     "output_type": "execute_result"
    }
   ],
   "source": [
    "haystack = \"hell\"\n",
    "needle = \"ll\"\n",
    "strStr(haystack, needle)"
   ]
  },
  {
   "cell_type": "markdown",
   "metadata": {},
   "source": [
    "#### Instead of 2 pointers for checking single letters, could just check the whole chuck of letters."
   ]
  },
  {
   "cell_type": "markdown",
   "metadata": {},
   "source": [
    "## 15. Divide Two Integers\n",
    "\n",
    "#### Given two integers dividend and divisor, divide two integers without using multiplication, division, and mod operator.\n",
    "\n",
    "#### Return the quotient after dividing dividend by divisor.\n",
    "\n",
    "#### The integer division should truncate toward zero, which means losing its fractional part. For example, truncate(8.345) = 8 and truncate(-2.7335) = -2."
   ]
  },
  {
   "cell_type": "code",
   "execution_count": 315,
   "metadata": {},
   "outputs": [],
   "source": [
    "def divide(dividend, divisor):\n",
    "    is_neg = False\n",
    "    if (dividend>0 and divisor<0) or (dividend<0 and divisor>0):\n",
    "        is_neg = True\n",
    "    dividend, divisor = abs(dividend), abs(divisor)\n",
    "    \n",
    "    count = 0\n",
    "    while divisor <= dividend:\n",
    "        dividend -= divisor\n",
    "        count +=1\n",
    "    return -count if is_neg else count"
   ]
  },
  {
   "cell_type": "code",
   "execution_count": 316,
   "metadata": {},
   "outputs": [
    {
     "data": {
      "text/plain": [
       "1"
      ]
     },
     "execution_count": 316,
     "metadata": {},
     "output_type": "execute_result"
    }
   ],
   "source": [
    "dividend = 1\n",
    "divisor =  1\n",
    "divide(dividend, divisor)"
   ]
  },
  {
   "cell_type": "markdown",
   "metadata": {},
   "source": [
    "#### need to deal with overflow (2147483647)."
   ]
  },
  {
   "cell_type": "code",
   "execution_count": 325,
   "metadata": {},
   "outputs": [],
   "source": [
    "def divide(dividend, divisor):\n",
    "    is_neg = (dividend<0) != (divisor<0)\n",
    "    dividend = abs(dividend)\n",
    "    divisor = div = abs(divisor)\n",
    "    \n",
    "    Q = 1\n",
    "    ans =0\n",
    "    \n",
    "    while dividend >= divisor:\n",
    "        dividend -= div\n",
    "        ans += Q\n",
    "        Q += Q\n",
    "        div += div\n",
    "        if dividend < div:\n",
    "            div = divisor\n",
    "            Q = 1\n",
    "    return max(-ans, -2147483648) if is_neg else min(ans, 2147483647)"
   ]
  },
  {
   "cell_type": "code",
   "execution_count": 326,
   "metadata": {},
   "outputs": [
    {
     "data": {
      "text/plain": [
       "-2"
      ]
     },
     "execution_count": 326,
     "metadata": {},
     "output_type": "execute_result"
    }
   ],
   "source": [
    "dividend = 7\n",
    "divisor =  -3\n",
    "divide(dividend, divisor)"
   ]
  },
  {
   "cell_type": "markdown",
   "metadata": {},
   "source": [
    "#### Everytime we double the div."
   ]
  },
  {
   "cell_type": "markdown",
   "metadata": {},
   "source": [
    "## 16. Substring with Concatenation of All Words\n",
    "\n",
    "#### You are given a string s and an array of strings words of the same length. Return all starting indices of substring(s) in s that is a concatenation of each word in words exactly once, in any order, and without any intervening characters.\n",
    "\n",
    "#### You can return the answer in any order."
   ]
  },
  {
   "cell_type": "code",
   "execution_count": 35,
   "metadata": {},
   "outputs": [],
   "source": [
    "# use stack\n",
    "# sequential search\n",
    "# word in words can be repeatedly use\n",
    "def findSubstring(s, words):\n",
    "    if not words:\n",
    "        return []\n",
    "    \n",
    "    # length of each words\n",
    "    ans = []\n",
    "    l = len(words[0])\n",
    "    m = len(words)\n",
    "    n = len(s)\n",
    "    \n",
    "    for i in range(n-l*m+1):\n",
    "        w = words.copy()\n",
    "        temp = []\n",
    "        for j in range(m):\n",
    "            sub = s[i+j*l:i+(j+1)*l]\n",
    "            if sub in w:\n",
    "                temp.append(sub)\n",
    "                w.remove(sub)\n",
    "            else:\n",
    "                break\n",
    "        if len(temp) == m:\n",
    "            ans.append(i)\n",
    "            \n",
    "    return ans"
   ]
  },
  {
   "cell_type": "code",
   "execution_count": 36,
   "metadata": {},
   "outputs": [
    {
     "data": {
      "text/plain": [
       "[6, 9, 12]"
      ]
     },
     "execution_count": 36,
     "metadata": {},
     "output_type": "execute_result"
    }
   ],
   "source": [
    "s = \"barfoofoobarthefoobarman\"\n",
    "words = [\"bar\",\"foo\",\"the\"]\n",
    "findSubstring(s, words)"
   ]
  },
  {
   "cell_type": "markdown",
   "metadata": {},
   "source": [
    "### The above is the intuitive method and we want to improve it. Note that we have repeatedly read the string, let's try to read it less frequently."
   ]
  },
  {
   "cell_type": "code",
   "execution_count": 3,
   "metadata": {},
   "outputs": [],
   "source": [
    "# hash table and two pointers\n",
    "def findSubstring(s, words):\n",
    "    import collections\n",
    "    if not s or not words:\n",
    "        return []\n",
    "    ans = []\n",
    "    word_len = len(words[0])\n",
    "    sentence_len = word_len * len(words)\n",
    "    s_len = len(s)\n",
    "    dic = collections.Counter(words)\n",
    "    \n",
    "    for i in range(word_len):\n",
    "        d = collections.Counter()\n",
    "        left, right = i, i\n",
    "        while right < s_len-word_len+1:\n",
    "            word = s[right:right+word_len]\n",
    "            right += word_len\n",
    "            if word not in dic:\n",
    "                d.clear()\n",
    "                left = right\n",
    "                continue\n",
    "            d[word] += 1\n",
    "            while d[word] > dic[word]:\n",
    "                d[s[left:left+word_len]] -= 1\n",
    "                left += word_len\n",
    "            if left + sentence_len == right:\n",
    "                ans.append(left)\n",
    "    return ans\n",
    "    "
   ]
  },
  {
   "cell_type": "code",
   "execution_count": 4,
   "metadata": {},
   "outputs": [
    {
     "data": {
      "text/plain": [
       "[0, 9]"
      ]
     },
     "execution_count": 4,
     "metadata": {},
     "output_type": "execute_result"
    }
   ],
   "source": [
    "s = \"barfoothefoobarman\"\n",
    "words = [\"bar\",\"foo\"]\n",
    "findSubstring(s, words)"
   ]
  },
  {
   "cell_type": "markdown",
   "metadata": {},
   "source": [
    "## 17. Next Permutation\n",
    "\n",
    "#### Implement next permutation, which rearranges numbers into the lexicographically next greater permutation of numbers.\n",
    "\n",
    "#### If such an arrangement is not possible, it must rearrange it as the lowest possible order (i.e., sorted in ascending order).\n",
    "\n",
    "#### The replacement must be in place and use only constant extra memory."
   ]
  },
  {
   "cell_type": "code",
   "execution_count": 5,
   "metadata": {},
   "outputs": [],
   "source": [
    "def nextPermutation(nums):\n",
    "    if len(nums) <= 1:\n",
    "        return nums\n",
    "    \n",
    "    "
   ]
  },
  {
   "cell_type": "code",
   "execution_count": null,
   "metadata": {},
   "outputs": [],
   "source": []
  },
  {
   "cell_type": "code",
   "execution_count": null,
   "metadata": {},
   "outputs": [],
   "source": []
  },
  {
   "cell_type": "code",
   "execution_count": null,
   "metadata": {},
   "outputs": [],
   "source": []
  },
  {
   "cell_type": "code",
   "execution_count": null,
   "metadata": {},
   "outputs": [],
   "source": []
  },
  {
   "cell_type": "code",
   "execution_count": null,
   "metadata": {},
   "outputs": [],
   "source": []
  },
  {
   "cell_type": "code",
   "execution_count": null,
   "metadata": {},
   "outputs": [],
   "source": []
  }
 ],
 "metadata": {
  "kernelspec": {
   "display_name": "Python 3",
   "language": "python",
   "name": "python3"
  },
  "language_info": {
   "codemirror_mode": {
    "name": "ipython",
    "version": 3
   },
   "file_extension": ".py",
   "mimetype": "text/x-python",
   "name": "python",
   "nbconvert_exporter": "python",
   "pygments_lexer": "ipython3",
   "version": "3.7.6"
  }
 },
 "nbformat": 4,
 "nbformat_minor": 4
}
