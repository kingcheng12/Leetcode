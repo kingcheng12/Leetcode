{
 "cells": [
  {
   "cell_type": "markdown",
   "metadata": {},
   "source": [
    "# 1. Add Two Numbers\n",
    "\n",
    "You are given two non-empty linked lists representing two non-negative integers. The digits are stored in reverse order, and each of their nodes contains a single digit. Add the two numbers and return the sum as a linked list.\n",
    "\n",
    "You may assume the two numbers do not contain any leading zero, except the number 0 itself."
   ]
  },
  {
   "cell_type": "code",
   "execution_count": 38,
   "metadata": {},
   "outputs": [],
   "source": [
    "class ListNode:\n",
    "    def __init__(self, val=0, next=None):\n",
    "        self.val = val\n",
    "        self.next = next"
   ]
  },
  {
   "cell_type": "code",
   "execution_count": 39,
   "metadata": {},
   "outputs": [],
   "source": [
    "def addTwoNumbers(l1, l2):\n",
    "    ans = ListNode(0)\n",
    "    tail = ans\n",
    "    carry = 0\n",
    "    \n",
    "    while l1 or l2 or carry:\n",
    "        val1 = l1.val if l1 else 0\n",
    "        val2 = l2.val if l2 else 0\n",
    "        su = val1 + val2 + carry\n",
    "        out = su % 10\n",
    "        carry = su // 10\n",
    "        \n",
    "        tail.next = ListNode(out)\n",
    "        tail = tail.next\n",
    "        \n",
    "        l1 = l1.next if l1 else None\n",
    "        l2 = l2.next if l2 else None\n",
    "        \n",
    "    return ans.next"
   ]
  },
  {
   "cell_type": "markdown",
   "metadata": {},
   "source": [
    "#### standard work that move along l1 and l2."
   ]
  },
  {
   "cell_type": "code",
   "execution_count": 41,
   "metadata": {},
   "outputs": [],
   "source": [
    "def addTwoNumbers(l1, l2):\n",
    "    carry = 0 \n",
    "    ans = tail = ListNode(0)\n",
    "    while l1 or l2 or carry:\n",
    "        if l1:\n",
    "            carry += l1.val\n",
    "            l1 =l1.next\n",
    "        if l2:\n",
    "            carry += l2.val\n",
    "            l2 = l2.next\n",
    "        tail.next = ListNode(carry%10)\n",
    "        tail = tail.next\n",
    "        carry = carry//10\n",
    "        \n",
    "    return ans.next"
   ]
  },
  {
   "cell_type": "markdown",
   "metadata": {},
   "source": [
    "# 2. Median of Two Sorted Arrays\n",
    "\n",
    "#### Given two sorted arrays nums1 and nums2 of size m and n respectively, return the median of the two sorted arrays."
   ]
  },
  {
   "cell_type": "code",
   "execution_count": 86,
   "metadata": {},
   "outputs": [],
   "source": [
    "def findMedianSortedArrays(nums1, nums2):\n",
    "    m, n = len(nums1), len(nums2)\n",
    "    if m > n:\n",
    "        nums1, nums2, m, n = nums2, nums1, n, m \n",
    "    \n",
    "    # binary search on short list\n",
    "    imin, imax, half = 0, m-1, (m+n+1)//2\n",
    "    while imin <= imax:\n",
    "        i = (imin+imax)//2\n",
    "        # j for condition 1\n",
    "        j = half - i\n",
    "        \n",
    "        # check cases\n",
    "        if nums2[j-1] > nums1[i] and i < m:\n",
    "            print('c1')\n",
    "            imin = i+1\n",
    "        elif nums1[i-1] > nums2[j] and i > 0:\n",
    "            print('c2')\n",
    "            imax = i-1\n",
    "        # find optimal i\n",
    "        else:\n",
    "            print('else')\n",
    "            if i==0:\n",
    "                max_l = nums2[j-1]\n",
    "            elif j ==0:\n",
    "                max_l = nums1[i-1]\n",
    "            else:\n",
    "                max_l = max(nums2[j-1], nums1[i-1])\n",
    "                \n",
    "            if (m+n)%2==1:\n",
    "                return max_l\n",
    "            \n",
    "            if i==m:\n",
    "                min_r = nums2[j]\n",
    "            elif j==n:\n",
    "                min_r = nums1[i]\n",
    "            else:\n",
    "                min_r = min(nums2[j], nums1[i])\n",
    "                \n",
    "            return (max_l+min_r)/2 \n"
   ]
  },
  {
   "cell_type": "code",
   "execution_count": 87,
   "metadata": {},
   "outputs": [],
   "source": [
    "nums1 = [1]\n",
    "nums2 = [2,3]"
   ]
  },
  {
   "cell_type": "code",
   "execution_count": 88,
   "metadata": {},
   "outputs": [
    {
     "name": "stdout",
     "output_type": "stream",
     "text": [
      "c1\n"
     ]
    }
   ],
   "source": [
    "findMedianSortedArrays(nums1, nums2)"
   ]
  },
  {
   "cell_type": "code",
   "execution_count": 80,
   "metadata": {},
   "outputs": [],
   "source": [
    "def findMedianSortedArrays(nums1, nums2):\n",
    "        if len(nums1) <= len(nums2):\n",
    "            L, S = nums2, nums1\n",
    "        else:\n",
    "            L, S = nums1, nums2\n",
    "        n, m = len(L), len(S)\n",
    "\n",
    "        # binary search on short list\n",
    "        imin, imax, half = 0, m-1, (m+n+1)//2\n",
    "        while imin <= imax:\n",
    "            i = (imin+imax+1)//2\n",
    "            # j for condition 1\n",
    "            j = half - i\n",
    "\n",
    "            # check cases\n",
    "            if L[j-1] > S[i] and i<m:\n",
    "                imin = i+1\n",
    "            elif S[i-1] > L[j] and i>0:\n",
    "                imax = i-1\n",
    "            else:\n",
    "                break\n",
    "                \n",
    "        # optimal i, j obtained\n",
    "        max_l = max(S[i-1], L[j-1])\n",
    "        if (n+m+1)%2 == 0:\n",
    "            return max_l\n",
    "        else:\n",
    "            min_r = min(S[i], L[j])\n",
    "            return (max_l+min_r)/2"
   ]
  },
  {
   "cell_type": "code",
   "execution_count": 81,
   "metadata": {},
   "outputs": [],
   "source": [
    "nums1 = [4]\n",
    "nums2 = [2,3]"
   ]
  },
  {
   "cell_type": "code",
   "execution_count": 82,
   "metadata": {},
   "outputs": [
    {
     "ename": "IndexError",
     "evalue": "list index out of range",
     "output_type": "error",
     "traceback": [
      "\u001b[1;31m---------------------------------------------------------------------------\u001b[0m",
      "\u001b[1;31mIndexError\u001b[0m                                Traceback (most recent call last)",
      "\u001b[1;32m<ipython-input-82-621349e80d58>\u001b[0m in \u001b[0;36m<module>\u001b[1;34m\u001b[0m\n\u001b[1;32m----> 1\u001b[1;33m \u001b[0mfindMedianSortedArrays\u001b[0m\u001b[1;33m(\u001b[0m\u001b[0mnums1\u001b[0m\u001b[1;33m,\u001b[0m \u001b[0mnums2\u001b[0m\u001b[1;33m)\u001b[0m\u001b[1;33m\u001b[0m\u001b[1;33m\u001b[0m\u001b[0m\n\u001b[0m",
      "\u001b[1;32m<ipython-input-80-a18215966fdc>\u001b[0m in \u001b[0;36mfindMedianSortedArrays\u001b[1;34m(nums1, nums2)\u001b[0m\n\u001b[0;32m     16\u001b[0m             \u001b[1;32mif\u001b[0m \u001b[0mL\u001b[0m\u001b[1;33m[\u001b[0m\u001b[0mj\u001b[0m\u001b[1;33m-\u001b[0m\u001b[1;36m1\u001b[0m\u001b[1;33m]\u001b[0m \u001b[1;33m>\u001b[0m \u001b[0mS\u001b[0m\u001b[1;33m[\u001b[0m\u001b[0mi\u001b[0m\u001b[1;33m]\u001b[0m \u001b[1;32mand\u001b[0m \u001b[0mi\u001b[0m\u001b[1;33m<\u001b[0m\u001b[0mm\u001b[0m\u001b[1;33m:\u001b[0m\u001b[1;33m\u001b[0m\u001b[1;33m\u001b[0m\u001b[0m\n\u001b[0;32m     17\u001b[0m                 \u001b[0mimin\u001b[0m \u001b[1;33m=\u001b[0m \u001b[0mi\u001b[0m\u001b[1;33m+\u001b[0m\u001b[1;36m1\u001b[0m\u001b[1;33m\u001b[0m\u001b[1;33m\u001b[0m\u001b[0m\n\u001b[1;32m---> 18\u001b[1;33m             \u001b[1;32melif\u001b[0m \u001b[0mS\u001b[0m\u001b[1;33m[\u001b[0m\u001b[0mi\u001b[0m\u001b[1;33m-\u001b[0m\u001b[1;36m1\u001b[0m\u001b[1;33m]\u001b[0m \u001b[1;33m>\u001b[0m \u001b[0mL\u001b[0m\u001b[1;33m[\u001b[0m\u001b[0mj\u001b[0m\u001b[1;33m]\u001b[0m \u001b[1;32mand\u001b[0m \u001b[0mi\u001b[0m\u001b[1;33m>\u001b[0m\u001b[1;36m0\u001b[0m\u001b[1;33m:\u001b[0m\u001b[1;33m\u001b[0m\u001b[1;33m\u001b[0m\u001b[0m\n\u001b[0m\u001b[0;32m     19\u001b[0m                 \u001b[0mimax\u001b[0m \u001b[1;33m=\u001b[0m \u001b[0mi\u001b[0m\u001b[1;33m-\u001b[0m\u001b[1;36m1\u001b[0m\u001b[1;33m\u001b[0m\u001b[1;33m\u001b[0m\u001b[0m\n\u001b[0;32m     20\u001b[0m             \u001b[1;32melse\u001b[0m\u001b[1;33m:\u001b[0m\u001b[1;33m\u001b[0m\u001b[1;33m\u001b[0m\u001b[0m\n",
      "\u001b[1;31mIndexError\u001b[0m: list index out of range"
     ]
    }
   ],
   "source": [
    "findMedianSortedArrays(nums1, nums2)"
   ]
  },
  {
   "cell_type": "markdown",
   "metadata": {},
   "source": [
    "# 3. ZigZag Conversion\n",
    "\n",
    "#### The string \"PAYPALISHIRING\" is written in a zigzag pattern on a given number of rows like this: (you may want to display this pattern in a fixed font for better legibility) And then read line by line: \"PAHNAPLSIIGYIR\". Write the code that will take a string and make this conversion given a number of rows:"
   ]
  },
  {
   "cell_type": "code",
   "execution_count": 54,
   "metadata": {},
   "outputs": [],
   "source": [
    "# based on numR compute the index of the resulting str\n",
    "def convert(s, numRows):\n",
    "    \n",
    "    # edge case\n",
    "    if numRows==1:\n",
    "        return s\n",
    "    \n",
    "    # create each row\n",
    "    row_list = ['']*min(numRows, len(s))\n",
    "    \n",
    "    current_row, current_direct = 0, 1\n",
    "    for c in s:\n",
    "        row_list[current_row] = row_list[current_row]+c\n",
    "        current_row = current_row+current_direct\n",
    "        if current_row+1 > numRows:\n",
    "            current_row = current_row-2\n",
    "            current_direct=-1\n",
    "        elif current_row < 0:\n",
    "            current_row = current_row+2\n",
    "            current_direct=1\n",
    "        \n",
    "    return ''.join(row_list)\n"
   ]
  },
  {
   "cell_type": "code",
   "execution_count": 58,
   "metadata": {},
   "outputs": [
    {
     "data": {
      "text/plain": [
       "'PAHNAPLSIIGYIR'"
      ]
     },
     "execution_count": 58,
     "metadata": {},
     "output_type": "execute_result"
    }
   ],
   "source": [
    "s = 'PAYPALISHIRING'\n",
    "numRows = 3\n",
    "convert(s, numRows)"
   ]
  },
  {
   "cell_type": "markdown",
   "metadata": {},
   "source": [
    "## The key is to track the current position and the direction in order to determine the position of next element."
   ]
  },
  {
   "cell_type": "code",
   "execution_count": 60,
   "metadata": {},
   "outputs": [],
   "source": [
    "def convert(s, numRows):\n",
    "    \n",
    "    # edge case\n",
    "    if numRows==1:\n",
    "        return s\n",
    "    \n",
    "    # create each row\n",
    "    row_list = ['']*min(numRows, len(s))\n",
    "    \n",
    "    current_row, current_direct = 0, 1\n",
    "    for c in s:\n",
    "        row_list[current_row] += c # inplace append of the string\n",
    "        current_row = current_row+current_direct\n",
    "        if current_row+1 > numRows:\n",
    "            current_row = current_row-2\n",
    "            current_direct=-1\n",
    "        elif current_row < 0:\n",
    "            current_row = current_row+2\n",
    "            current_direct=1\n",
    "        \n",
    "    return ''.join(row_list)"
   ]
  },
  {
   "cell_type": "code",
   "execution_count": 61,
   "metadata": {},
   "outputs": [
    {
     "data": {
      "text/plain": [
       "'PAHNAPLSIIGYIR'"
      ]
     },
     "execution_count": 61,
     "metadata": {},
     "output_type": "execute_result"
    }
   ],
   "source": [
    "s = 'PAYPALISHIRING'\n",
    "numRows = 3\n",
    "convert(s, numRows)"
   ]
  },
  {
   "cell_type": "markdown",
   "metadata": {},
   "source": [
    "# 4. Reverse Integer\n",
    "\n",
    "#### Given a 32-bit signed integer, reverse digits of an integer."
   ]
  },
  {
   "cell_type": "code",
   "execution_count": 71,
   "metadata": {},
   "outputs": [],
   "source": [
    "def reverse(x):\n",
    "    if x == 0:\n",
    "        return 0\n",
    "    while x%10==0:\n",
    "        x = x/10\n",
    "        \n",
    "    return int(str(a)[::-1])"
   ]
  },
  {
   "cell_type": "code",
   "execution_count": 73,
   "metadata": {},
   "outputs": [
    {
     "data": {
      "text/plain": [
       "4321"
      ]
     },
     "execution_count": 73,
     "metadata": {},
     "output_type": "execute_result"
    }
   ],
   "source": [
    "x = 123400\n",
    "reverse(x)"
   ]
  },
  {
   "cell_type": "markdown",
   "metadata": {},
   "source": [
    "### The above will not handle huge number."
   ]
  },
  {
   "cell_type": "code",
   "execution_count": 112,
   "metadata": {},
   "outputs": [],
   "source": [
    "def reverse(x):\n",
    "    ans = 0\n",
    "    is_neg = x < 0\n",
    "    x = abs(x)\n",
    "\n",
    "    while x!=0:\n",
    "        pop = x%10\n",
    "        x //=10\n",
    "\n",
    "        # check overflow\n",
    "        limit = 2147483648\n",
    "        if (ans > limit/10): return 0\n",
    "\n",
    "        ans *= 10\n",
    "        ans += pop\n",
    "\n",
    "    if is_neg:\n",
    "        return -ans\n",
    "    else:\n",
    "        return ans"
   ]
  },
  {
   "cell_type": "code",
   "execution_count": 113,
   "metadata": {},
   "outputs": [
    {
     "data": {
      "text/plain": [
       "-321"
      ]
     },
     "execution_count": 113,
     "metadata": {},
     "output_type": "execute_result"
    }
   ],
   "source": [
    "x = -123\n",
    "reverse(x)"
   ]
  },
  {
   "cell_type": "markdown",
   "metadata": {},
   "source": [
    "### The key is to understand the boundary of int types."
   ]
  },
  {
   "cell_type": "markdown",
   "metadata": {},
   "source": [
    "## 5. Palindrome Number\n",
    "\n",
    "#### Determine whether an integer is a palindrome. An integer is a palindrome when it reads the same backward as forward."
   ]
  },
  {
   "cell_type": "code",
   "execution_count": 110,
   "metadata": {},
   "outputs": [],
   "source": [
    "# would be easy if convert to string, use int type\n",
    "# this is just reverse the number and compare\n",
    "def isPalindrome(x):\n",
    "    \n",
    "    # edge case\n",
    "    if x < 0:\n",
    "        return False\n",
    "    \n",
    "    p, res = x, 0\n",
    "    while p:\n",
    "        res = res*10 + p%10\n",
    "        p //= 10\n",
    "    return res == x\n",
    "    "
   ]
  },
  {
   "cell_type": "code",
   "execution_count": 111,
   "metadata": {},
   "outputs": [
    {
     "data": {
      "text/plain": [
       "False"
      ]
     },
     "execution_count": 111,
     "metadata": {},
     "output_type": "execute_result"
    }
   ],
   "source": [
    "x = 16621\n",
    "isPalindrome(x)"
   ]
  },
  {
   "cell_type": "code",
   "execution_count": 116,
   "metadata": {},
   "outputs": [],
   "source": [
    "# check from both sides\n",
    "def isPalindrome(x):\n",
    "    # edge case\n",
    "    if x < 0:\n",
    "        return False\n",
    "    \n",
    "    # compute the range of the number\n",
    "    ranger = 1\n",
    "    while x /ranger >=10:\n",
    "        ranger *= 10\n",
    "        \n",
    "    while x:\n",
    "        left = x//ranger\n",
    "        right = x % 10\n",
    "        if left != right:\n",
    "            return False\n",
    "        \n",
    "        x = (x%ranger)//10\n",
    "        ranger //= 100\n",
    "        \n",
    "    return True"
   ]
  },
  {
   "cell_type": "code",
   "execution_count": 118,
   "metadata": {},
   "outputs": [
    {
     "data": {
      "text/plain": [
       "True"
      ]
     },
     "execution_count": 118,
     "metadata": {},
     "output_type": "execute_result"
    }
   ],
   "source": [
    "x = 121\n",
    "isPalindrome(x)"
   ]
  },
  {
   "cell_type": "code",
   "execution_count": 119,
   "metadata": {},
   "outputs": [],
   "source": [
    "# str\n",
    "def isPalindrome(x):\n",
    "    # edge case\n",
    "    if x < 0:\n",
    "        return False\n",
    "    copy = str(x)\n",
    "    rev = copy[::-1]\n",
    "    \n",
    "    return copy == rev"
   ]
  },
  {
   "cell_type": "code",
   "execution_count": 121,
   "metadata": {},
   "outputs": [
    {
     "data": {
      "text/plain": [
       "False"
      ]
     },
     "execution_count": 121,
     "metadata": {},
     "output_type": "execute_result"
    }
   ],
   "source": [
    "x = 1231\n",
    "isPalindrome(x)"
   ]
  },
  {
   "cell_type": "markdown",
   "metadata": {},
   "source": [
    "## 6. Regular Expression Matching\n",
    "\n",
    "Given an input string (s) and a pattern (p), implement regular expression matching with support for '.' and '*' where: \n",
    "\n",
    "'.' Matches any single character.​​​​\n",
    "'*' Matches zero or more of the preceding element.\n",
    "The matching should cover the entire input string (not partial)."
   ]
  },
  {
   "cell_type": "code",
   "execution_count": 138,
   "metadata": {},
   "outputs": [],
   "source": [
    "# This is clearly a DP problem\n",
    "def isMatch(s, p):\n",
    "    # create dp table \n",
    "    table = {}\n",
    "    def dp(i, j):\n",
    "        if (i, j) not in table:\n",
    "            # if j == len(p), p[j:] is empty, s[i:] also need to be empty\n",
    "            # base case\n",
    "            if j == len(p):\n",
    "                sol = i == len(s)\n",
    "            else:\n",
    "                # first match if s[i:] is not empty and s[i] matches p[j]\n",
    "                match_1 = i<len(s) and p[j] in {'.', s[i]}\n",
    "                if j+1<len(p) and p[j+1]=='*':\n",
    "                    sol = (match_1 and dp(i+1, j)) or dp(i, j+2)\n",
    "                else:\n",
    "                    sol = match_1 and dp(i+1, j+1)\n",
    "            table[i,j] = sol\n",
    "        return table[i,j]\n",
    "    return dp(0,0)\n"
   ]
  },
  {
   "cell_type": "code",
   "execution_count": 139,
   "metadata": {},
   "outputs": [
    {
     "data": {
      "text/plain": [
       "True"
      ]
     },
     "execution_count": 139,
     "metadata": {},
     "output_type": "execute_result"
    }
   ],
   "source": [
    "s = \"aab\"\n",
    "p = \"c*a*b\"\n",
    "isMatch(s, p)"
   ]
  },
  {
   "cell_type": "markdown",
   "metadata": {},
   "source": [
    "### Use dictionary for table keeping might be more efficient than filling in the whole table."
   ]
  },
  {
   "cell_type": "markdown",
   "metadata": {},
   "source": [
    "## 7. Roman to Integer\n",
    "#### Roman numerals are represented by seven different symbols: I, V, X, L, C, D and M. \n",
    "\n",
    "#### For example, 2 is written as II in Roman numeral, just two one's added together. 12 is written as XII, which is simply X + II. The number 27 is written as XXVII, which is XX + V + II.\n",
    "\n",
    "#### Roman numerals are usually written largest to smallest from left to right. However, the numeral for four is not IIII. Instead, the number four is written as IV. Because the one is before the five we subtract it making four. The same principle applies to the number nine, which is written as IX. There are six instances where subtraction is used:\n",
    "\n",
    "#### I can be placed before V (5) and X (10) to make 4 and 9. \n",
    "#### X can be placed before L (50) and C (100) to make 40 and 90. \n",
    "#### C can be placed before D (500) and M (1000) to make 400 and 900.\n",
    "#### Given a roman numeral, convert it to an integer."
   ]
  },
  {
   "cell_type": "code",
   "execution_count": 21,
   "metadata": {},
   "outputs": [],
   "source": [
    "def romanToInt(s):\n",
    "    dic = {'I':1,\n",
    "          'V':5,\n",
    "          'X':10,\n",
    "          'L':50,\n",
    "          'C':100,\n",
    "          'D':500,\n",
    "          'M':1000,\n",
    "          'IV':4,\n",
    "          'IX':9,\n",
    "          'XL':40,\n",
    "          'XC':90,\n",
    "          'CD':400,\n",
    "          'CM':900}\n",
    "    \n",
    "    ans = 0\n",
    "    i = 1\n",
    "    while i < len(s)+1:\n",
    "        if s[i-1:i+1] in dic:\n",
    "            ans += dic[s[i-1:i+1]]\n",
    "            i += 2\n",
    "        else:\n",
    "            ans += dic[s[i-1]]\n",
    "            i += 1\n",
    "    return ans\n",
    "        "
   ]
  },
  {
   "cell_type": "code",
   "execution_count": 24,
   "metadata": {},
   "outputs": [
    {
     "data": {
      "text/plain": [
       "1994"
      ]
     },
     "execution_count": 24,
     "metadata": {},
     "output_type": "execute_result"
    }
   ],
   "source": [
    "s = 'MCMXCIV'\n",
    "romanToInt(s)"
   ]
  },
  {
   "cell_type": "code",
   "execution_count": 27,
   "metadata": {},
   "outputs": [],
   "source": [
    "# not encode into 2 roman\n",
    "def romanToInt(s):\n",
    "    dic = {'I':1,\n",
    "          'V':5,\n",
    "          'X':10,\n",
    "          'L':50,\n",
    "          'C':100,\n",
    "          'D':500,\n",
    "          'M':1000}\n",
    "    \n",
    "    ans = 0\n",
    "    \n",
    "    for i in range(len(s)-1):\n",
    "        if dic[s[i]]<dic[s[i+1]]:\n",
    "            ans -= dic[s[i]]\n",
    "        else:\n",
    "            ans += dic[s[i]]\n",
    "    return ans + dic[s[-1]]"
   ]
  },
  {
   "cell_type": "code",
   "execution_count": 28,
   "metadata": {},
   "outputs": [
    {
     "data": {
      "text/plain": [
       "1994"
      ]
     },
     "execution_count": 28,
     "metadata": {},
     "output_type": "execute_result"
    }
   ],
   "source": [
    "s = 'MCMXCIV'\n",
    "romanToInt(s)"
   ]
  },
  {
   "cell_type": "code",
   "execution_count": 29,
   "metadata": {},
   "outputs": [],
   "source": [
    "# reduce memory\n",
    "def romanToInt(s):\n",
    "    dic = {'I':1,\n",
    "          'V':5,\n",
    "          'X':10,\n",
    "          'L':50,\n",
    "          'C':100,\n",
    "          'D':500,\n",
    "          'M':1000}\n",
    "    \n",
    "    res, prev = 0, 0\n",
    "    \n",
    "    for i in s[::-1]:\n",
    "        if dic[i] >= prev:\n",
    "            res += dic[i]\n",
    "        else:\n",
    "            res -= dic[i]\n",
    "        prev = dic[i]\n",
    "    \n",
    "    return res"
   ]
  },
  {
   "cell_type": "code",
   "execution_count": 30,
   "metadata": {},
   "outputs": [
    {
     "data": {
      "text/plain": [
       "1994"
      ]
     },
     "execution_count": 30,
     "metadata": {},
     "output_type": "execute_result"
    }
   ],
   "source": [
    "s = 'MCMXCIV'\n",
    "romanToInt(s)"
   ]
  },
  {
   "cell_type": "markdown",
   "metadata": {},
   "source": [
    "## 8. 3Sum Closest\n",
    "#### Given an array nums of n integers and an integer target, find three integers in nums such that the sum is closest to target. Return the sum of the three integers. You may assume that each input would have exactly one solution."
   ]
  },
  {
   "cell_type": "code",
   "execution_count": 38,
   "metadata": {},
   "outputs": [],
   "source": [
    "# two pointers\n",
    "def threeSumClosest(nums, target):\n",
    "    # sort \n",
    "    nums.sort()\n",
    "    \n",
    "    diff = float('inf')\n",
    "    \n",
    "    for i in range(len(nums)):\n",
    "        l, h = i+1, len(nums)-1\n",
    "        while l < h:\n",
    "            sum3 = nums[i]+nums[l]+nums[h]\n",
    "            if sum3 == target:\n",
    "                return target\n",
    "            if abs(target - sum3) < abs(diff):\n",
    "                diff = target - sum3\n",
    "            if sum3 < target:\n",
    "                l += 1\n",
    "            else:\n",
    "                h -= 1\n",
    "    return target - diff      "
   ]
  },
  {
   "cell_type": "code",
   "execution_count": 39,
   "metadata": {},
   "outputs": [
    {
     "data": {
      "text/plain": [
       "2"
      ]
     },
     "execution_count": 39,
     "metadata": {},
     "output_type": "execute_result"
    }
   ],
   "source": [
    "nums = [-1,2,1,-4]\n",
    "target = 1\n",
    "threeSumClosest(nums, target)"
   ]
  },
  {
   "cell_type": "markdown",
   "metadata": {},
   "source": [
    "### With two pointers, need to track what you want to track."
   ]
  },
  {
   "cell_type": "markdown",
   "metadata": {},
   "source": [
    "## 9. Remove Nth Node From End of List\n",
    "#### Given the head of a linked list, remove the nth node from the end of the list and return its head."
   ]
  },
  {
   "cell_type": "code",
   "execution_count": 40,
   "metadata": {},
   "outputs": [],
   "source": [
    "class ListNode:\n",
    "    def __init__(self, val=0, next=None):\n",
    "        self.val = val\n",
    "        self.next = next"
   ]
  },
  {
   "cell_type": "code",
   "execution_count": 53,
   "metadata": {},
   "outputs": [],
   "source": [
    "# no dummy, 2 pointer, 1 pass\n",
    "def removeNthFromEnd(head, n):\n",
    "    fast = slow = head\n",
    "    for _ in range(n):\n",
    "        fast = fast.next\n",
    "    if not fast:\n",
    "        return head.next\n",
    "    while fast.next:\n",
    "        fast = fast.next\n",
    "        slow = slow.next\n",
    "    slow.next = slow.next.next\n",
    "    return head   "
   ]
  },
  {
   "cell_type": "markdown",
   "metadata": {},
   "source": [
    "#### The idea is to keep the n-th gap between two pointers and track till the end for the fast pointer."
   ]
  },
  {
   "cell_type": "code",
   "execution_count": null,
   "metadata": {},
   "outputs": [],
   "source": []
  }
 ],
 "metadata": {
  "kernelspec": {
   "display_name": "Python 3",
   "language": "python",
   "name": "python3"
  },
  "language_info": {
   "codemirror_mode": {
    "name": "ipython",
    "version": 3
   },
   "file_extension": ".py",
   "mimetype": "text/x-python",
   "name": "python",
   "nbconvert_exporter": "python",
   "pygments_lexer": "ipython3",
   "version": "3.7.6"
  }
 },
 "nbformat": 4,
 "nbformat_minor": 4
}
