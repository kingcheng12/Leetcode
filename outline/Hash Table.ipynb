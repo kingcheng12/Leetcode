{
 "cells": [
  {
   "cell_type": "markdown",
   "metadata": {},
   "source": [
    "## 1. Valid Sudoku:\n",
    "\n",
    "Determine if a 9x9 Sudoku board is valid. Only the filled cells need to be validated according to the following rules:\n",
    "\n",
    "- Each row must contain the digits 1-9 without repetition.\n",
    "- Each column must contain the digits 1-9 without repetition.\n",
    "- Each of the 9 3x3 sub-boxes of the grid must contain the digits 1-9 without repetition.\n",
    "\n",
    "The Sudoku board could be partially filled, where empty cells are filled with the character '.'."
   ]
  },
  {
   "cell_type": "code",
   "execution_count": 14,
   "metadata": {},
   "outputs": [],
   "source": [
    "def isValidSudoku(board):\n",
    "    valid = set()\n",
    "    \n",
    "    for i in range(9):\n",
    "        for j in range(9):\n",
    "            if board[i][j] != '.':\n",
    "                c = board[i][j]\n",
    "                if (i, c) in valid or (c, j) in valid or (i//3, j//3, c) in valid:\n",
    "                    return False\n",
    "                valid.add((i, c))\n",
    "                valid.add((c, j))\n",
    "                valid.add((i//3, j//3, c))\n",
    "    return True"
   ]
  },
  {
   "cell_type": "code",
   "execution_count": 15,
   "metadata": {},
   "outputs": [
    {
     "data": {
      "text/plain": [
       "True"
      ]
     },
     "execution_count": 15,
     "metadata": {},
     "output_type": "execute_result"
    }
   ],
   "source": [
    "board = [\n",
    "  [\"5\",\"3\",\".\",\".\",\"7\",\".\",\".\",\".\",\".\"],\n",
    "  [\"6\",\".\",\".\",\"1\",\"9\",\"5\",\".\",\".\",\".\"],\n",
    "  [\".\",\"9\",\"8\",\".\",\".\",\".\",\".\",\"6\",\".\"],\n",
    "  [\"8\",\".\",\".\",\".\",\"6\",\".\",\".\",\".\",\"3\"],\n",
    "  [\"4\",\".\",\".\",\"8\",\".\",\"3\",\".\",\".\",\"1\"],\n",
    "  [\"7\",\".\",\".\",\".\",\"2\",\".\",\".\",\".\",\"6\"],\n",
    "  [\".\",\"6\",\".\",\".\",\".\",\".\",\"2\",\"8\",\".\"],\n",
    "  [\".\",\".\",\".\",\"4\",\"1\",\"9\",\".\",\".\",\"5\"],\n",
    "  [\".\",\".\",\".\",\".\",\"8\",\".\",\".\",\"7\",\"9\"]\n",
    "]\n",
    "isValidSudoku(board)"
   ]
  },
  {
   "cell_type": "markdown",
   "metadata": {},
   "source": [
    "## 2. Max Points on a Line\n",
    "\n",
    "Given n points on a 2D plane, find the maximum number of points that lie on the same straight line."
   ]
  },
  {
   "cell_type": "code",
   "execution_count": 38,
   "metadata": {},
   "outputs": [],
   "source": [
    "# first attempt\n",
    "def maxPoints(points):\n",
    "    L = len(points)\n",
    "    m = 0\n",
    "    for i in range(L):\n",
    "        dic = {'i':1}\n",
    "        eq = 0\n",
    "        for j in range(i+1, L):\n",
    "            x, y = points[j][0], points[j][1]\n",
    "            if (x, y) == (points[i][0], points[i][1]):\n",
    "                eq += 1\n",
    "                continue\n",
    "            if x == points[i][0]: \n",
    "                slp = 'i' #to compensate undefined slope\n",
    "            else:\n",
    "                slp = (points[i][1] - y) * 1.0/(points[i][0] - x)\n",
    "            if slp not in dic:\n",
    "                dic[slp] = 1\n",
    "            dic[slp] += 1\n",
    "        m = max(m, max(dic.values()) + eq)\n",
    "            \n",
    "    return m"
   ]
  },
  {
   "cell_type": "code",
   "execution_count": 39,
   "metadata": {},
   "outputs": [
    {
     "data": {
      "text/plain": [
       "4"
      ]
     },
     "execution_count": 39,
     "metadata": {},
     "output_type": "execute_result"
    }
   ],
   "source": [
    "points = [[1,1],[3,2],[5,3],[4,1],[2,3],[1,4]]\n",
    "maxPoints(points)"
   ]
  },
  {
   "cell_type": "code",
   "execution_count": 47,
   "metadata": {},
   "outputs": [],
   "source": [
    "# optimize speed by skipping computed points\n",
    "def maxPoints(points):\n",
    "    L = len(points)\n",
    "    m = 0\n",
    "    used = []\n",
    "    for i in range(L):\n",
    "        if points[i] not in used:\n",
    "            used.append(points[i])\n",
    "        else:\n",
    "            continue\n",
    "        dic = {'i':1}\n",
    "        eq = 0\n",
    "        for j in range(i+1, L):\n",
    "            x, y = points[j][0], points[j][1]\n",
    "            if (x, y) == (points[i][0], points[i][1]):\n",
    "                eq += 1\n",
    "                continue\n",
    "            if x == points[i][0]: \n",
    "                slp = 'i' #to compensate undefined slope\n",
    "            else:\n",
    "                slp = (points[i][1] - y) * 1.0/(points[i][0] - x)\n",
    "            if slp not in dic:\n",
    "                dic[slp] = 1\n",
    "            dic[slp] += 1\n",
    "        m = max(m, max(dic.values()) + eq)\n",
    "\n",
    "    return m"
   ]
  },
  {
   "cell_type": "code",
   "execution_count": 48,
   "metadata": {},
   "outputs": [
    {
     "data": {
      "text/plain": [
       "4"
      ]
     },
     "execution_count": 48,
     "metadata": {},
     "output_type": "execute_result"
    }
   ],
   "source": [
    "points = [[1,1],[3,2],[5,3],[4,1],[2,3],[1,4]]\n",
    "maxPoints(points)"
   ]
  },
  {
   "cell_type": "code",
   "execution_count": null,
   "metadata": {},
   "outputs": [],
   "source": []
  },
  {
   "cell_type": "code",
   "execution_count": null,
   "metadata": {},
   "outputs": [],
   "source": []
  },
  {
   "cell_type": "code",
   "execution_count": null,
   "metadata": {},
   "outputs": [],
   "source": []
  },
  {
   "cell_type": "code",
   "execution_count": null,
   "metadata": {},
   "outputs": [],
   "source": []
  },
  {
   "cell_type": "code",
   "execution_count": null,
   "metadata": {},
   "outputs": [],
   "source": []
  },
  {
   "cell_type": "code",
   "execution_count": null,
   "metadata": {},
   "outputs": [],
   "source": []
  },
  {
   "cell_type": "code",
   "execution_count": null,
   "metadata": {},
   "outputs": [],
   "source": []
  }
 ],
 "metadata": {
  "kernelspec": {
   "display_name": "Python 3",
   "language": "python",
   "name": "python3"
  },
  "language_info": {
   "codemirror_mode": {
    "name": "ipython",
    "version": 3
   },
   "file_extension": ".py",
   "mimetype": "text/x-python",
   "name": "python",
   "nbconvert_exporter": "python",
   "pygments_lexer": "ipython3",
   "version": "3.7.6"
  }
 },
 "nbformat": 4,
 "nbformat_minor": 4
}
