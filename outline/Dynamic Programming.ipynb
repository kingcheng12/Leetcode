{
 "cells": [
  {
   "cell_type": "markdown",
   "metadata": {},
   "source": [
    "## 1. Longest Palindromic Substring\n",
    "\n",
    "Given a string s, find the longest palindromic substring in s. You may assume that the maximum length of s is 1000."
   ]
  },
  {
   "cell_type": "code",
   "execution_count": 1,
   "metadata": {},
   "outputs": [],
   "source": [
    "# one solution is to reverse the string and find the longest common string\n",
    "# which has the correpsonding index"
   ]
  },
  {
   "cell_type": "code",
   "execution_count": 16,
   "metadata": {},
   "outputs": [],
   "source": [
    "# this attempt starts from the left of the str and add one character each time\n",
    "# and check if it is a new palindrome with 1 or 2 more characters\n",
    "def longestPalindrome(s):\n",
    "    if len(s) == 0:\n",
    "        return \"\"\n",
    "    maxL = 0\n",
    "    start = 0\n",
    "    for i in range(len(s)):\n",
    "        if i - maxL >= 1 and s[i-maxL-1:i+1] == s[i-maxL-1:i+1][::-1]:\n",
    "            start = i-maxL-1\n",
    "            maxL += 2\n",
    "            continue\n",
    "        if i - maxL >= 0 and s[i-maxL:i+1] == s[i-maxL:i+1][::-1]:\n",
    "            start = i-maxL\n",
    "            maxL += 1\n",
    "    return s[start:start+maxL]"
   ]
  },
  {
   "cell_type": "code",
   "execution_count": 17,
   "metadata": {},
   "outputs": [
    {
     "data": {
      "text/plain": [
       "'ababa'"
      ]
     },
     "execution_count": 17,
     "metadata": {},
     "output_type": "execute_result"
    }
   ],
   "source": [
    "s = 'ababakk'\n",
    "longestPalindrome(s)"
   ]
  },
  {
   "cell_type": "markdown",
   "metadata": {},
   "source": [
    "## 2. Minimum Path Sum\n",
    "\n",
    "Given a m x n grid filled with non-negative numbers, find a path from top left to bottom right which minimizes the sum of all numbers along its path."
   ]
  },
  {
   "cell_type": "code",
   "execution_count": 22,
   "metadata": {},
   "outputs": [],
   "source": [
    "def minPathSum(grid):\n",
    "\n",
    "    m, n = len(grid), len(grid[0])\n",
    "\n",
    "    for i in range(1,n):\n",
    "        grid[0][i] += grid[0][i-1]\n",
    "    for i in range(1,m):\n",
    "        grid[i][0] += grid[i-1][0]\n",
    "    for i in range(1,m):\n",
    "        for j in range(1,n):\n",
    "            grid[i][j] += min(grid[i-1][j], grid[i][j-1])\n",
    "    return grid[-1][-1]                   "
   ]
  },
  {
   "cell_type": "code",
   "execution_count": 24,
   "metadata": {},
   "outputs": [
    {
     "data": {
      "text/plain": [
       "5"
      ]
     },
     "execution_count": 24,
     "metadata": {},
     "output_type": "execute_result"
    }
   ],
   "source": [
    "grid = [[1,3,1],\n",
    "        [1,1,1],\n",
    "        [4,2,1]]\n",
    "minPathSum(grid)"
   ]
  },
  {
   "cell_type": "markdown",
   "metadata": {},
   "source": [
    "## 3. Edit Distance\n",
    "\n",
    "Given two words word1 and word2, find the minimum number of operations required to convert word1 to word2.\n",
    "\n",
    "You have the following 3 operations permitted on a word:\n",
    "\n",
    "Insert a character\n",
    "\n",
    "Delete a character\n",
    "\n",
    "Replace a character"
   ]
  },
  {
   "cell_type": "code",
   "execution_count": 27,
   "metadata": {},
   "outputs": [],
   "source": [
    "def minDistance(word1, word2):\n",
    "    m = len(word1)\n",
    "    n = len(word2)\n",
    "    table = [[0] * (n + 1) for _ in range(m + 1)]\n",
    "\n",
    "    for i in range(m + 1):\n",
    "        table[i][0] = i\n",
    "    for j in range(n + 1):\n",
    "        table[0][j] = j\n",
    "\n",
    "    for i in range(1, m + 1):\n",
    "        for j in range(1, n + 1):\n",
    "            if word1[i - 1] == word2[j - 1]:\n",
    "                table[i][j] = table[i - 1][j - 1]\n",
    "            else:\n",
    "                table[i][j] = 1 + min(table[i - 1][j], table[i][j - 1], table[i - 1][j - 1])\n",
    "    return table[-1][-1]"
   ]
  },
  {
   "cell_type": "code",
   "execution_count": 29,
   "metadata": {},
   "outputs": [
    {
     "data": {
      "text/plain": [
       "6"
      ]
     },
     "execution_count": 29,
     "metadata": {},
     "output_type": "execute_result"
    }
   ],
   "source": [
    "word1 = 'horse'\n",
    "word2 = 'rossdgfa'\n",
    "minDistance(word1, word2)"
   ]
  },
  {
   "cell_type": "markdown",
   "metadata": {},
   "source": [
    "Consider the DP and recursive solutions:\n",
    "https://leetcode.com/problems/edit-distance/discuss/159295/Python-solutions-and-intuition"
   ]
  },
  {
   "cell_type": "markdown",
   "metadata": {},
   "source": [
    "## 4. Maximal Rectangle\n",
    "\n",
    "Given a 2D binary matrix filled with 0's and 1's, find the largest rectangle containing only 1's and return its area."
   ]
  },
  {
   "cell_type": "code",
   "execution_count": 21,
   "metadata": {},
   "outputs": [],
   "source": [
    "# failed attempt that computes areas of all rectangles\n",
    "def maximalRectangle(matrix):\n",
    "    if not matrix:\n",
    "        return 0\n",
    "    \n",
    "    m, n = len(matrix), len(matrix[0])\n",
    "    areaM = matrix\n",
    "    maxA = 0\n",
    "    \n",
    "    if matrix[0][0] == 1:\n",
    "        areaM[0][0] = [1,1]\n",
    "        maxA = 0\n",
    "    elif matrix[0][0] == 0:\n",
    "        areaM[0][0] = [0,0]\n",
    "    \n",
    "    for i in range(1,n):\n",
    "        if matrix[0][i] == 1:\n",
    "            areaM[0][i] == [1,1+areaM[0][i-1][0]]\n",
    "            maxA = max(maxA, 1+areaM[0][i-1][0])\n",
    "        elif matrix[0][i] == 0:\n",
    "            areaM[0][i] == [0,0]\n",
    "            \n",
    "    for j in range(1,m):\n",
    "        if matrix[j][0] == 1:\n",
    "            areaM[j][0] == [1+areaM[j-1][0][1],1]\n",
    "            maxA = max(maxA, 1+areaM[j-1][0][1])\n",
    "        elif matrix[j][0] == 0:\n",
    "            areaM[j][0] == [0,0]\n",
    "            \n",
    "    for j in range(1,m):\n",
    "        for i in range(1,n):\n",
    "            if matrix[j][i] == 1:\n",
    "                areaM[j][i] = [1+areaM[j][i-1][0], 1+areaM[j-1][i][1]]\n",
    "                maxA = max(maxA, areaM[j][i][0] * areaM[j][i][1])\n",
    "    \n",
    "    return maxA "
   ]
  },
  {
   "cell_type": "code",
   "execution_count": 38,
   "metadata": {},
   "outputs": [],
   "source": [
    "# largest rectangle in histogram\n",
    "def maximalRectangle(matrix):\n",
    "    if not matrix or not matrix[0]:\n",
    "        return 0\n",
    "    n = len(matrix[0])\n",
    "    \n",
    "    height = [0] * (n+1)\n",
    "    ans = 0\n",
    "    for row in matrix:\n",
    "        for i in range(n):\n",
    "            height[i] = height[i] + 1 if row[i] == '1' else 0\n",
    "        stack = [-1]\n",
    "        for i in range(n+1):\n",
    "            while height[i] < height[stack[-1]]:\n",
    "                h = height[stack.pop()]\n",
    "                w = i - 1 - stack[-1]\n",
    "                ans = max(ans, h * w)\n",
    "            stack.append(i)\n",
    "    return ans     "
   ]
  },
  {
   "cell_type": "code",
   "execution_count": 39,
   "metadata": {},
   "outputs": [
    {
     "data": {
      "text/plain": [
       "6"
      ]
     },
     "execution_count": 39,
     "metadata": {},
     "output_type": "execute_result"
    }
   ],
   "source": [
    "matrix = [\n",
    "  [\"1\",\"0\",\"1\",\"0\",\"0\"],\n",
    "  [\"1\",\"0\",\"1\",\"1\",\"1\"],\n",
    "  [\"1\",\"1\",\"1\",\"1\",\"1\"],\n",
    "  [\"1\",\"0\",\"0\",\"1\",\"0\"]\n",
    "]\n",
    "maximalRectangle(matrix)"
   ]
  },
  {
   "cell_type": "markdown",
   "metadata": {},
   "source": [
    "About stack https://www.cnblogs.com/2Bthebest1/category/1452000.html"
   ]
  },
  {
   "cell_type": "markdown",
   "metadata": {},
   "source": [
    "## 5. Decode Ways\n",
    "\n",
    "A message containing letters from A-Z is being encoded to numbers using the following mapping:\n",
    "\n",
    "'A' -> 1\n",
    "\n",
    "'B' -> 2\n",
    "\n",
    "...\n",
    "\n",
    "'Z' -> 26\n",
    "\n",
    "Given a non-empty string containing only digits, determine the total number of ways to decode it."
   ]
  },
  {
   "cell_type": "code",
   "execution_count": 82,
   "metadata": {},
   "outputs": [],
   "source": [
    "# first attempt, fix 0\n",
    "# false with str somparasion\n",
    "def numDecodings(s):\n",
    "    if s[0] == '0':\n",
    "        s = s[1::]\n",
    "    if len(s) == 0 or (len(s)==1 and s[0] == '0'):\n",
    "        return 0\n",
    "\n",
    "    count = 1\n",
    "    pre = s[0]\n",
    "\n",
    "    for num in s[1::]:\n",
    "        if num == '0':\n",
    "            continue\n",
    "        if '0'< pre+num <= '26':\n",
    "            count += 1\n",
    "            pre = num\n",
    "    return count"
   ]
  },
  {
   "cell_type": "code",
   "execution_count": 83,
   "metadata": {},
   "outputs": [
    {
     "data": {
      "text/plain": [
       "1"
      ]
     },
     "execution_count": 83,
     "metadata": {},
     "output_type": "execute_result"
    }
   ],
   "source": [
    "s = '01'\n",
    "numDecodings(s)"
   ]
  },
  {
   "cell_type": "code",
   "execution_count": 106,
   "metadata": {},
   "outputs": [],
   "source": [
    "# second attempt accoding to test results\n",
    "def numDecodings(s):\n",
    "    if not s:\n",
    "        return 0\n",
    "    \n",
    "    dp = [0 for x in range(len(s)+1)]\n",
    "    \n",
    "    dp[0] = 1\n",
    "    dp[1] = 0 if s[0] == '0' else 1\n",
    "    \n",
    "    for i in range(2, len(s)+1):\n",
    "        if int(s[i-1]) != 0:\n",
    "            dp[i] += dp[i-1]\n",
    "        if 10 <= int(s[i-2:i]) <= 26:\n",
    "            dp[i] += dp[i-2]\n",
    "            \n",
    "    return dp[len(s)]"
   ]
  },
  {
   "cell_type": "code",
   "execution_count": 107,
   "metadata": {},
   "outputs": [
    {
     "data": {
      "text/plain": [
       "0"
      ]
     },
     "execution_count": 107,
     "metadata": {},
     "output_type": "execute_result"
    }
   ],
   "source": [
    "s = '001'\n",
    "numDecodings(s)"
   ]
  },
  {
   "cell_type": "code",
   "execution_count": 108,
   "metadata": {},
   "outputs": [
    {
     "data": {
      "text/plain": [
       "1"
      ]
     },
     "execution_count": 108,
     "metadata": {},
     "output_type": "execute_result"
    }
   ],
   "source": [
    "s = '1201'\n",
    "numDecodings(s)"
   ]
  },
  {
   "cell_type": "code",
   "execution_count": 112,
   "metadata": {},
   "outputs": [
    {
     "data": {
      "text/plain": [
       "0"
      ]
     },
     "execution_count": 112,
     "metadata": {},
     "output_type": "execute_result"
    }
   ],
   "source": [
    "s = '12001'\n",
    "numDecodings(s)"
   ]
  },
  {
   "cell_type": "code",
   "execution_count": 113,
   "metadata": {},
   "outputs": [
    {
     "data": {
      "text/plain": [
       "'12'"
      ]
     },
     "execution_count": 113,
     "metadata": {},
     "output_type": "execute_result"
    }
   ],
   "source": [
    "s = '1234'\n",
    "s[0:2]"
   ]
  },
  {
   "cell_type": "markdown",
   "metadata": {},
   "source": [
    "## 6. Triangle\n",
    "\n",
    "Given a triangle, find the minimum path sum from top to bottom. Each step you may move to adjacent numbers on the row below.\n",
    "\n",
    "For example, given the following triangle\n",
    "\n",
    "[\n",
    "[2],\n",
    "     \n",
    "[3,4],\n",
    "    \n",
    "[6,5,7],\n",
    "   \n",
    "[4,1,8,3]\n",
    "]\n",
    "\n",
    "The minimum path sum from top to bottom is 11 (i.e., 2 + 3 + 5 + 1 = 11)."
   ]
  },
  {
   "cell_type": "code",
   "execution_count": 3,
   "metadata": {},
   "outputs": [],
   "source": [
    "def minimumTotal(triangle):\n",
    "    n = len(triangle)\n",
    "    \n",
    "    if n==1:\n",
    "        return triangle[0][0]\n",
    "    \n",
    "    for i in range(1,n):\n",
    "        triangle[i][0] += triangle[i-1][0]\n",
    "        triangle[i][-1] += triangle[i-1][-1]\n",
    "        \n",
    "    for j in range(2,n):\n",
    "        row = triangle[j]\n",
    "        for i in range(1,len(row)-1):\n",
    "            triangle[j][i] += min(triangle[j-1][i-1], triangle[j-1][i])\n",
    "    return min(triangle[-1])"
   ]
  },
  {
   "cell_type": "code",
   "execution_count": 4,
   "metadata": {},
   "outputs": [
    {
     "data": {
      "text/plain": [
       "11"
      ]
     },
     "execution_count": 4,
     "metadata": {},
     "output_type": "execute_result"
    }
   ],
   "source": [
    "triangle = [\n",
    "     [2],\n",
    "    [3,4],\n",
    "   [6,5,7],\n",
    "  [4,1,8,3]\n",
    "]\n",
    "minimumTotal(triangle)"
   ]
  },
  {
   "cell_type": "markdown",
   "metadata": {},
   "source": [
    "## 7. Maximum Subarray\n",
    "\n",
    "Given an integer array nums, find the contiguous subarray (containing at least one number) which has the largest sum and return its sum."
   ]
  },
  {
   "cell_type": "code",
   "execution_count": 5,
   "metadata": {},
   "outputs": [],
   "source": [
    "def maxSubArray(nums):\n",
    "    for i in range(1,len(nums)):\n",
    "        if nums[i-1] > 0:\n",
    "            nums[i] += nums[i-1]\n",
    "\n",
    "    return max(nums)"
   ]
  },
  {
   "cell_type": "code",
   "execution_count": 6,
   "metadata": {},
   "outputs": [
    {
     "data": {
      "text/plain": [
       "6"
      ]
     },
     "execution_count": 6,
     "metadata": {},
     "output_type": "execute_result"
    }
   ],
   "source": [
    "nums = [-2,1,-3,4,-1,2,1,-5,4]\n",
    "maxSubArray(nums)"
   ]
  },
  {
   "cell_type": "markdown",
   "metadata": {},
   "source": [
    "## 8. Word Break\n",
    "\n",
    "Given a non-empty string s and a dictionary wordDict containing a list of non-empty words, determine if s can be segmented into a space-separated sequence of one or more dictionary words."
   ]
  },
  {
   "cell_type": "code",
   "execution_count": 30,
   "metadata": {},
   "outputs": [],
   "source": [
    "def wordBreak(s,wordDict):\n",
    "    inside = [True]\n",
    "    for i in range(1, len(s)+1):\n",
    "        inside += any(inside[j] and s[j:i] in wordDict for j in range(i)),\n",
    "    return inside[-1]"
   ]
  },
  {
   "cell_type": "code",
   "execution_count": 31,
   "metadata": {},
   "outputs": [
    {
     "data": {
      "text/plain": [
       "True"
      ]
     },
     "execution_count": 31,
     "metadata": {},
     "output_type": "execute_result"
    }
   ],
   "source": [
    "s = \"applepenapple\"\n",
    "wordDict = [\"apple\", \"pen\"]\n",
    "wordBreak(s,wordDict)"
   ]
  },
  {
   "cell_type": "code",
   "execution_count": 32,
   "metadata": {},
   "outputs": [
    {
     "data": {
      "text/plain": [
       "False"
      ]
     },
     "execution_count": 32,
     "metadata": {},
     "output_type": "execute_result"
    }
   ],
   "source": [
    "s = \"catsandog\"\n",
    "wordDict = [\"cats\", \"dog\", \"sand\", \"and\", \"cat\"]\n",
    "wordBreak(s,wordDict)"
   ]
  },
  {
   "cell_type": "code",
   "execution_count": 33,
   "metadata": {},
   "outputs": [],
   "source": [
    "## optimize\n",
    "def wordBreak(s,wordDict):\n",
    "    inside = [True]\n",
    "    maxL = max(map(len, wordDict+['']))\n",
    "    wordDict = set(wordDict)\n",
    "    for i in range(1, len(s)+1):\n",
    "        inside += any(inside[j] and s[j:i] in wordDict for j in range(max(0, i-maxL), i)),\n",
    "    return inside[-1]"
   ]
  },
  {
   "cell_type": "code",
   "execution_count": 34,
   "metadata": {},
   "outputs": [
    {
     "data": {
      "text/plain": [
       "True"
      ]
     },
     "execution_count": 34,
     "metadata": {},
     "output_type": "execute_result"
    }
   ],
   "source": [
    "s = \"applepenapple\"\n",
    "wordDict = [\"apple\", \"pen\"]\n",
    "wordBreak(s,wordDict)"
   ]
  },
  {
   "cell_type": "code",
   "execution_count": 35,
   "metadata": {},
   "outputs": [
    {
     "data": {
      "text/plain": [
       "False"
      ]
     },
     "execution_count": 35,
     "metadata": {},
     "output_type": "execute_result"
    }
   ],
   "source": [
    "s = \"catsandog\"\n",
    "wordDict = [\"cats\", \"dog\", \"sand\", \"and\", \"cat\"]\n",
    "wordBreak(s,wordDict)"
   ]
  },
  {
   "cell_type": "code",
   "execution_count": null,
   "metadata": {},
   "outputs": [],
   "source": []
  },
  {
   "cell_type": "code",
   "execution_count": null,
   "metadata": {},
   "outputs": [],
   "source": []
  }
 ],
 "metadata": {
  "kernelspec": {
   "display_name": "Python 3",
   "language": "python",
   "name": "python3"
  },
  "language_info": {
   "codemirror_mode": {
    "name": "ipython",
    "version": 3
   },
   "file_extension": ".py",
   "mimetype": "text/x-python",
   "name": "python",
   "nbconvert_exporter": "python",
   "pygments_lexer": "ipython3",
   "version": "3.7.6"
  }
 },
 "nbformat": 4,
 "nbformat_minor": 4
}
