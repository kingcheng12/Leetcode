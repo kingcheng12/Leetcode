{
 "cells": [
  {
   "cell_type": "markdown",
   "metadata": {},
   "source": [
    "## 1. Longest Palindromic Substring\n",
    "\n",
    "Given a string s, find the longest palindromic substring in s. You may assume that the maximum length of s is 1000."
   ]
  },
  {
   "cell_type": "code",
   "execution_count": 1,
   "metadata": {},
   "outputs": [],
   "source": [
    "# one solution is to reverse the string and find the longest common string\n",
    "# which has the correpsonding index"
   ]
  },
  {
   "cell_type": "code",
   "execution_count": 16,
   "metadata": {},
   "outputs": [],
   "source": [
    "# this attempt starts from the left of the str and add one character each time\n",
    "# and check if it is a new palindrome with 1 or 2 more characters\n",
    "def longestPalindrome(s):\n",
    "    if len(s) == 0:\n",
    "        return \"\"\n",
    "    maxL = 0\n",
    "    start = 0\n",
    "    for i in range(len(s)):\n",
    "        if i - maxL >= 1 and s[i-maxL-1:i+1] == s[i-maxL-1:i+1][::-1]:\n",
    "            start = i-maxL-1\n",
    "            maxL += 2\n",
    "            continue\n",
    "        if i - maxL >= 0 and s[i-maxL:i+1] == s[i-maxL:i+1][::-1]:\n",
    "            start = i-maxL\n",
    "            maxL += 1\n",
    "    return s[start:start+maxL]"
   ]
  },
  {
   "cell_type": "code",
   "execution_count": 17,
   "metadata": {},
   "outputs": [
    {
     "data": {
      "text/plain": [
       "'ababa'"
      ]
     },
     "execution_count": 17,
     "metadata": {},
     "output_type": "execute_result"
    }
   ],
   "source": [
    "s = 'ababakk'\n",
    "longestPalindrome(s)"
   ]
  },
  {
   "cell_type": "markdown",
   "metadata": {},
   "source": [
    "## 2. Minimum Path Sum\n",
    "\n",
    "Given a m x n grid filled with non-negative numbers, find a path from top left to bottom right which minimizes the sum of all numbers along its path."
   ]
  },
  {
   "cell_type": "code",
   "execution_count": 22,
   "metadata": {},
   "outputs": [],
   "source": [
    "def minPathSum(grid):\n",
    "\n",
    "    m, n = len(grid), len(grid[0])\n",
    "\n",
    "    for i in range(1,n):\n",
    "        grid[0][i] += grid[0][i-1]\n",
    "    for i in range(1,m):\n",
    "        grid[i][0] += grid[i-1][0]\n",
    "    for i in range(1,m):\n",
    "        for j in range(1,n):\n",
    "            grid[i][j] += min(grid[i-1][j], grid[i][j-1])\n",
    "    return grid[-1][-1]                   "
   ]
  },
  {
   "cell_type": "code",
   "execution_count": 24,
   "metadata": {},
   "outputs": [
    {
     "data": {
      "text/plain": [
       "5"
      ]
     },
     "execution_count": 24,
     "metadata": {},
     "output_type": "execute_result"
    }
   ],
   "source": [
    "grid = [[1,3,1],\n",
    "        [1,1,1],\n",
    "        [4,2,1]]\n",
    "minPathSum(grid)"
   ]
  },
  {
   "cell_type": "markdown",
   "metadata": {},
   "source": [
    "## 3. Edit Distance\n",
    "\n",
    "Given two words word1 and word2, find the minimum number of operations required to convert word1 to word2.\n",
    "\n",
    "You have the following 3 operations permitted on a word:\n",
    "\n",
    "Insert a character\n",
    "\n",
    "Delete a character\n",
    "\n",
    "Replace a character"
   ]
  },
  {
   "cell_type": "code",
   "execution_count": 27,
   "metadata": {},
   "outputs": [],
   "source": [
    "def minDistance(word1, word2):\n",
    "    m = len(word1)\n",
    "    n = len(word2)\n",
    "    table = [[0] * (n + 1) for _ in range(m + 1)]\n",
    "\n",
    "    for i in range(m + 1):\n",
    "        table[i][0] = i\n",
    "    for j in range(n + 1):\n",
    "        table[0][j] = j\n",
    "\n",
    "    for i in range(1, m + 1):\n",
    "        for j in range(1, n + 1):\n",
    "            if word1[i - 1] == word2[j - 1]:\n",
    "                table[i][j] = table[i - 1][j - 1]\n",
    "            else:\n",
    "                table[i][j] = 1 + min(table[i - 1][j], table[i][j - 1], table[i - 1][j - 1])\n",
    "    return table[-1][-1]"
   ]
  },
  {
   "cell_type": "code",
   "execution_count": 29,
   "metadata": {},
   "outputs": [
    {
     "data": {
      "text/plain": [
       "6"
      ]
     },
     "execution_count": 29,
     "metadata": {},
     "output_type": "execute_result"
    }
   ],
   "source": [
    "word1 = 'horse'\n",
    "word2 = 'rossdgfa'\n",
    "minDistance(word1, word2)"
   ]
  },
  {
   "cell_type": "markdown",
   "metadata": {},
   "source": [
    "Consider the DP and recursive solutions:\n",
    "https://leetcode.com/problems/edit-distance/discuss/159295/Python-solutions-and-intuition"
   ]
  },
  {
   "cell_type": "code",
   "execution_count": null,
   "metadata": {},
   "outputs": [],
   "source": []
  },
  {
   "cell_type": "code",
   "execution_count": null,
   "metadata": {},
   "outputs": [],
   "source": []
  },
  {
   "cell_type": "code",
   "execution_count": null,
   "metadata": {},
   "outputs": [],
   "source": []
  },
  {
   "cell_type": "code",
   "execution_count": null,
   "metadata": {},
   "outputs": [],
   "source": []
  },
  {
   "cell_type": "code",
   "execution_count": null,
   "metadata": {},
   "outputs": [],
   "source": []
  },
  {
   "cell_type": "code",
   "execution_count": null,
   "metadata": {},
   "outputs": [],
   "source": []
  },
  {
   "cell_type": "code",
   "execution_count": null,
   "metadata": {},
   "outputs": [],
   "source": []
  },
  {
   "cell_type": "code",
   "execution_count": null,
   "metadata": {},
   "outputs": [],
   "source": []
  },
  {
   "cell_type": "code",
   "execution_count": null,
   "metadata": {},
   "outputs": [],
   "source": []
  },
  {
   "cell_type": "code",
   "execution_count": null,
   "metadata": {},
   "outputs": [],
   "source": []
  },
  {
   "cell_type": "code",
   "execution_count": null,
   "metadata": {},
   "outputs": [],
   "source": []
  },
  {
   "cell_type": "code",
   "execution_count": null,
   "metadata": {},
   "outputs": [],
   "source": []
  }
 ],
 "metadata": {
  "kernelspec": {
   "display_name": "Python 3",
   "language": "python",
   "name": "python3"
  },
  "language_info": {
   "codemirror_mode": {
    "name": "ipython",
    "version": 3
   },
   "file_extension": ".py",
   "mimetype": "text/x-python",
   "name": "python",
   "nbconvert_exporter": "python",
   "pygments_lexer": "ipython3",
   "version": "3.7.6"
  }
 },
 "nbformat": 4,
 "nbformat_minor": 4
}
