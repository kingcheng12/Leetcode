{
 "cells": [
  {
   "cell_type": "markdown",
   "metadata": {},
   "source": [
    "## 1. TWO SUM: \n",
    "\n",
    "Given an array of integers, return indices of the two numbers such that they add up to a specific target.\n",
    "\n",
    "You may assume that each input would have exactly one solution, and you may not use the same element twice."
   ]
  },
  {
   "cell_type": "code",
   "execution_count": 7,
   "metadata": {},
   "outputs": [],
   "source": [
    "# first attempt\n",
    "def twoSum(nums, target):\n",
    "    n = len(nums)\n",
    "    \n",
    "    for i in range(n):\n",
    "        for j in range(i+1,n):\n",
    "            if nums[i]+nums[j] == target:\n",
    "                return [i, j]"
   ]
  },
  {
   "cell_type": "code",
   "execution_count": 8,
   "metadata": {},
   "outputs": [
    {
     "data": {
      "text/plain": [
       "[0, 1]"
      ]
     },
     "execution_count": 8,
     "metadata": {},
     "output_type": "execute_result"
    }
   ],
   "source": [
    "twoSum([1,2,3,4], 3)"
   ]
  },
  {
   "cell_type": "code",
   "execution_count": 10,
   "metadata": {},
   "outputs": [],
   "source": [
    "# insert num's index into hash table while checking if we find the target\n",
    "def twoSum(nums, target):\n",
    "    hash_table = {}\n",
    "    for i, num in enumerate(nums):\n",
    "        if target - num in hash_table:\n",
    "            return([hash_table[target - num], i])\n",
    "            break   \n",
    "        hash_table[num] = i\n",
    "    return []"
   ]
  },
  {
   "cell_type": "code",
   "execution_count": 11,
   "metadata": {},
   "outputs": [
    {
     "data": {
      "text/plain": [
       "[0, 1]"
      ]
     },
     "execution_count": 11,
     "metadata": {},
     "output_type": "execute_result"
    }
   ],
   "source": [
    "twoSum([1,2,3,4], 3)"
   ]
  },
  {
   "cell_type": "markdown",
   "metadata": {},
   "source": [
    "## 2. Median of Two Sorted Arrays"
   ]
  },
  {
   "cell_type": "markdown",
   "metadata": {},
   "source": [
    "There are two sorted arrays nums1 and nums2 of size m and n respectively.\n",
    "\n",
    "Find the median of the two sorted arrays. The overall run time complexity should be O(log (m+n)).\n",
    "\n",
    "You may assume nums1 and nums2 cannot be both empty."
   ]
  },
  {
   "cell_type": "code",
   "execution_count": 9,
   "metadata": {},
   "outputs": [],
   "source": [
    "# iteratively compare medians\n",
    "def findMedianSortedArrays(A, B):\n",
    "    m, n = len(A), len(B)\n",
    "    if m > n:\n",
    "        A, B, m, n = B, A, n, m\n",
    "    if n == 0:\n",
    "        raise ValueError\n",
    "\n",
    "    imin, imax, half_len = 0, m, (m + n + 1) // 2\n",
    "    while imin <= imax:\n",
    "        i = (imin + imax) // 2\n",
    "        j = half_len - i\n",
    "        if i < m and B[j-1] > A[i]:\n",
    "            imin = i + 1\n",
    "        elif i > 0 and A[i-1] > B[j]:\n",
    "            imax = i - 1\n",
    "        else:\n",
    "            if i == 0: max_of_left = B[j-1]\n",
    "            elif j == 0: max_of_left = A[i-1]\n",
    "            else: max_of_left = max(A[i-1], B[j-1])\n",
    "\n",
    "            if (m + n) % 2 == 1:\n",
    "                return max_of_left\n",
    "\n",
    "            if i == m: min_of_right = B[j]\n",
    "            elif j == n: min_of_right = A[i]\n",
    "            else: min_of_right = min(A[i], B[j])\n",
    "\n",
    "            return (max_of_left + min_of_right) / 2.0\n",
    "    "
   ]
  },
  {
   "cell_type": "code",
   "execution_count": 12,
   "metadata": {},
   "outputs": [],
   "source": [
    "A = [1, 3, 4, 5]\n",
    "B = [2,8]"
   ]
  },
  {
   "cell_type": "code",
   "execution_count": 13,
   "metadata": {},
   "outputs": [
    {
     "data": {
      "text/plain": [
       "3.5"
      ]
     },
     "execution_count": 13,
     "metadata": {},
     "output_type": "execute_result"
    }
   ],
   "source": [
    "findMedianSortedArrays(A, B)"
   ]
  },
  {
   "cell_type": "markdown",
   "metadata": {},
   "source": [
    "## 3. Container With Most Water\n",
    "\n",
    "Given n non-negative integers a1, a2, ..., an , where each represents a point at coordinate (i, ai). n vertical lines are drawn such that the two endpoints of line i is at (i, ai) and (i, 0). Find two lines, which together with x-axis forms a container, such that the container contains the most water."
   ]
  },
  {
   "cell_type": "code",
   "execution_count": 44,
   "metadata": {},
   "outputs": [],
   "source": [
    "# two pointers attempt\n",
    "def maxArea(height):\n",
    "    n = len(height)\n",
    "    i, j = 0, n-1\n",
    "    maxA = (j-i) * min(height[i], height[j])\n",
    "\n",
    "    while i != j:\n",
    "        if height[i] > height[j]:\n",
    "            j -= 1\n",
    "            maxA = max(maxA, (j-i) * min(height[i], height[j]))\n",
    "        else:\n",
    "            i += 1\n",
    "            maxA = max(maxA, (j-i) * min(height[i], height[j]))\n",
    "\n",
    "    return maxA"
   ]
  },
  {
   "cell_type": "code",
   "execution_count": 45,
   "metadata": {},
   "outputs": [
    {
     "data": {
      "text/plain": [
       "49"
      ]
     },
     "execution_count": 45,
     "metadata": {},
     "output_type": "execute_result"
    }
   ],
   "source": [
    "height = [1,8,6,2,5,4,8,3,7]\n",
    "maxArea(height)"
   ]
  },
  {
   "cell_type": "code",
   "execution_count": 46,
   "metadata": {},
   "outputs": [],
   "source": [
    "# optimize\n",
    "def maxArea(height):\n",
    "    l, r, w, area = 0, len(height)-1, len(height)-1, 0\n",
    "    \n",
    "    for i in range(w, 0, -1):\n",
    "        if height[l] > height[r]:\n",
    "            area, r = max(area, height[r]*i), r-1\n",
    "        else:\n",
    "            area, l = max(area, height[l]*i), l+1\n",
    "    return area"
   ]
  },
  {
   "cell_type": "code",
   "execution_count": 47,
   "metadata": {},
   "outputs": [
    {
     "data": {
      "text/plain": [
       "49"
      ]
     },
     "execution_count": 47,
     "metadata": {},
     "output_type": "execute_result"
    }
   ],
   "source": [
    "height = [1,8,6,2,5,4,8,3,7]\n",
    "maxArea(height)"
   ]
  },
  {
   "cell_type": "markdown",
   "metadata": {},
   "source": [
    "## 4. 3SUM\n",
    "\n",
    "Given an array nums of n integers, are there elements a, b, c in nums such that a + b + c = 0? \n",
    "\n",
    "Find all unique triplets in the array which gives the sum of zero."
   ]
  },
  {
   "cell_type": "code",
   "execution_count": 65,
   "metadata": {},
   "outputs": [],
   "source": [
    "def threeSum(nums):\n",
    "        ans = []\n",
    "        nums.sort()\n",
    "        \n",
    "        for i in range(len(nums)-2):\n",
    "            if nums[i] > 0:\n",
    "                break\n",
    "            if i>0 and nums[i]==nums[i-1]: \n",
    "                continue\n",
    "            l, r = i+1, len(nums)-1\n",
    "            while l < r:\n",
    "                t = nums[i] + nums[l] + nums[r]\n",
    "                \n",
    "                if t < 0:\n",
    "                    l += 1\n",
    "                elif t > 0:\n",
    "                    r -= 1\n",
    "                else:\n",
    "                    ans.append([nums[i], nums[l], nums[r]])\n",
    "                    while l<r and nums[l]==nums[l+1]: #[6]\n",
    "                        l+=1\n",
    "                    while l<r and nums[r]==nums[r-1]:\n",
    "                        r -=1\n",
    "                    l+=1\n",
    "                    r-=1\n",
    "            \n",
    "        return ans"
   ]
  },
  {
   "cell_type": "code",
   "execution_count": 66,
   "metadata": {},
   "outputs": [
    {
     "data": {
      "text/plain": [
       "[[-2, 0, 2]]"
      ]
     },
     "execution_count": 66,
     "metadata": {},
     "output_type": "execute_result"
    }
   ],
   "source": [
    "nums = [-2,0,0,2,2]\n",
    "threeSum(nums)"
   ]
  },
  {
   "cell_type": "markdown",
   "metadata": {},
   "source": [
    " Note the difference of '&' and 'and'."
   ]
  },
  {
   "cell_type": "code",
   "execution_count": 68,
   "metadata": {},
   "outputs": [
    {
     "name": "stdout",
     "output_type": "stream",
     "text": [
      "2\n",
      "0\n"
     ]
    }
   ],
   "source": [
    "a, b = 1, 2\n",
    "print(a and b)\n",
    "print(a & b)"
   ]
  },
  {
   "cell_type": "markdown",
   "metadata": {},
   "source": [
    "## 5. combinationSum\n",
    "\n",
    "Given a set of candidate numbers (candidates) (without duplicates) and a target number (target), find all unique combinations in candidates where the candidate numbers sums to target.\n",
    "\n",
    "The same repeated number may be chosen from candidates unlimited number of times."
   ]
  },
  {
   "cell_type": "code",
   "execution_count": 17,
   "metadata": {},
   "outputs": [],
   "source": [
    "# search recursively\n",
    "def combinationSum(candidates, target):\n",
    "        candidates.sort()\n",
    "        ans = []\n",
    "        \n",
    "        def helper(candidates,target, t):\n",
    "            if target == 0:\n",
    "                ans.append(t)\n",
    "            for i, num in enumerate(candidates):\n",
    "                if target >= num:\n",
    "                    helper(candidates[i:], target - num, t+[num])\n",
    "                else:\n",
    "                    break\n",
    "        helper(candidates, target, [])\n",
    "            \n",
    "        return ans     "
   ]
  },
  {
   "cell_type": "code",
   "execution_count": 18,
   "metadata": {},
   "outputs": [
    {
     "data": {
      "text/plain": [
       "[[2, 2, 3], [7]]"
      ]
     },
     "execution_count": 18,
     "metadata": {},
     "output_type": "execute_result"
    }
   ],
   "source": [
    "candidates = [2,3,6,7]\n",
    "target = 7\n",
    "combinationSum(candidates, target)"
   ]
  },
  {
   "cell_type": "markdown",
   "metadata": {},
   "source": [
    "## 6. Jump Game\n",
    "\n",
    "Given an array of non-negative integers, you are initially positioned at the first index of the array.\n",
    "\n",
    "Each element in the array represents your maximum jump length at that position.\n",
    "\n",
    "Your goal is to reach the last index in the minimum number of jumps."
   ]
  },
  {
   "cell_type": "code",
   "execution_count": 1,
   "metadata": {},
   "outputs": [],
   "source": [
    "def jump(nums):\n",
    "        if len(nums) <= 1:\n",
    "            return 0\n",
    "        \n",
    "        l, r = 0, nums[0]\n",
    "        count = 1\n",
    "        \n",
    "        while r < len(nums) - 1:\n",
    "            count += 1\n",
    "            l, r = r, max([i+nums[i] for i in range(l, r+1)])\n",
    "        \n",
    "        return count"
   ]
  },
  {
   "cell_type": "code",
   "execution_count": 2,
   "metadata": {},
   "outputs": [
    {
     "data": {
      "text/plain": [
       "3"
      ]
     },
     "execution_count": 2,
     "metadata": {},
     "output_type": "execute_result"
    }
   ],
   "source": [
    "nums = [2,3,1,1,4,4,4,5,1]\n",
    "jump(nums)"
   ]
  },
  {
   "cell_type": "markdown",
   "metadata": {},
   "source": [
    "##### consider BFS"
   ]
  },
  {
   "cell_type": "code",
   "execution_count": 5,
   "metadata": {},
   "outputs": [],
   "source": [
    "def jump(nums):\n",
    "    pre, cur, jump = 0, 0, 0\n",
    "    \n",
    "    for i in range(len(nums)):\n",
    "        if i>pre:\n",
    "            jump += 1\n",
    "            pre = cur\n",
    "        cur = max(cur, i+nums[i])\n",
    "    return jump"
   ]
  },
  {
   "cell_type": "code",
   "execution_count": 6,
   "metadata": {},
   "outputs": [
    {
     "data": {
      "text/plain": [
       "3"
      ]
     },
     "execution_count": 6,
     "metadata": {},
     "output_type": "execute_result"
    }
   ],
   "source": [
    "nums = [2,3,1,1,4,4,4,5,1]\n",
    "jump(nums)"
   ]
  },
  {
   "cell_type": "markdown",
   "metadata": {},
   "source": [
    "## 7. Merge Intervals\n",
    "\n",
    "Given a collection of intervals, merge all overlapping intervals."
   ]
  },
  {
   "cell_type": "code",
   "execution_count": 11,
   "metadata": {},
   "outputs": [],
   "source": [
    "# first attempt\n",
    "def merge(intervals):\n",
    "    intervals.sort(key=lambda x:x[0])\n",
    "\n",
    "    ans = []\n",
    "    for i in intervals:\n",
    "        if not ans or ans[-1][1] < i[0]:\n",
    "            ans.append(i)\n",
    "        else:\n",
    "            ans[-1] = [min(ans[-1][0], i[0]), max(ans[-1][1],i[1])]\n",
    "    return ans"
   ]
  },
  {
   "cell_type": "code",
   "execution_count": 10,
   "metadata": {},
   "outputs": [
    {
     "data": {
      "text/plain": [
       "[[1, 6], [8, 10], [15, 18]]"
      ]
     },
     "execution_count": 10,
     "metadata": {},
     "output_type": "execute_result"
    }
   ],
   "source": [
    "intervals=[[1,3],[2,6],[8,10],[15,18]]\n",
    "merge(intervals)"
   ]
  },
  {
   "cell_type": "markdown",
   "metadata": {},
   "source": [
    "## 8. Unique Paths:\n",
    "\n",
    "A robot is located at the top-left corner of a m x n grid (marked 'Start' in the diagram below).\n",
    "\n",
    "The robot can only move either down or right at any point in time. The robot is trying to reach the bottom-right corner of the grid (marked 'Finish' in the diagram below).\n",
    "\n",
    "How many possible unique paths are there?"
   ]
  },
  {
   "cell_type": "code",
   "execution_count": 14,
   "metadata": {},
   "outputs": [],
   "source": [
    "from functools import reduce"
   ]
  },
  {
   "cell_type": "code",
   "execution_count": 15,
   "metadata": {},
   "outputs": [],
   "source": [
    "# combinatoric solution\n",
    "def uniquePaths(m,n):\n",
    "    if 1 in [n, m]: \n",
    "        return 1\n",
    "    return int(reduce(lambda x, y: x*y, range(n, n + m - 1)) / reduce(lambda x, y: x*y, range(1, m)))"
   ]
  },
  {
   "cell_type": "code",
   "execution_count": 16,
   "metadata": {},
   "outputs": [
    {
     "data": {
      "text/plain": [
       "56"
      ]
     },
     "execution_count": 16,
     "metadata": {},
     "output_type": "execute_result"
    }
   ],
   "source": [
    "uniquePaths(56,2)"
   ]
  },
  {
   "cell_type": "code",
   "execution_count": 29,
   "metadata": {},
   "outputs": [],
   "source": [
    "# dynamic programming\n",
    "def uniquePaths(m,n):\n",
    "        cur = [1]*n\n",
    "        for i in range(1,m):\n",
    "            for j in range(1,n):\n",
    "                cur[j] += cur[j-1]\n",
    "                \n",
    "        return cur[-1] if m and n else 0"
   ]
  },
  {
   "cell_type": "code",
   "execution_count": 30,
   "metadata": {},
   "outputs": [
    {
     "data": {
      "text/plain": [
       "56"
      ]
     },
     "execution_count": 30,
     "metadata": {},
     "output_type": "execute_result"
    }
   ],
   "source": [
    "uniquePaths(56,2)"
   ]
  },
  {
   "cell_type": "markdown",
   "metadata": {},
   "source": [
    "## 9. Largest Rectangle in Histogram\n",
    "\n",
    "Given n non-negative integers representing the histogram's bar height where the width of each bar is 1, find the area of largest rectangle in the histogram."
   ]
  },
  {
   "cell_type": "code",
   "execution_count": 50,
   "metadata": {},
   "outputs": [],
   "source": [
    "def largestRectangleArea(heights):\n",
    "    n = len(heights)\n",
    "    \n",
    "    l, r, maxA = [1]*n, [1]*n, 0\n",
    "    \n",
    "    for i in range(n):\n",
    "        j = i-1\n",
    "        while j >= 0:\n",
    "            if heights[j] >= heights[i]:\n",
    "                l[i] += l[j]\n",
    "                j -= l[j]\n",
    "            else:\n",
    "                break\n",
    "                \n",
    "    for i in range(n-1, -1, -1):\n",
    "        j = i+1\n",
    "        while j < n:\n",
    "            if heights[j] >= heights[i]:\n",
    "                r[i] += r[j]\n",
    "                j+=r[j]\n",
    "            else:\n",
    "                break\n",
    "                \n",
    "    for i in range(n):\n",
    "        maxA = max(maxA, heights[i]*(l[i]+r[i]-1))\n",
    "        \n",
    "    return maxA   "
   ]
  },
  {
   "cell_type": "code",
   "execution_count": 51,
   "metadata": {},
   "outputs": [
    {
     "data": {
      "text/plain": [
       "3"
      ]
     },
     "execution_count": 51,
     "metadata": {},
     "output_type": "execute_result"
    }
   ],
   "source": [
    "heights = [2,1,2]\n",
    "largestRectangleArea(heights)"
   ]
  },
  {
   "cell_type": "markdown",
   "metadata": {},
   "source": [
    "## 10. Pascal's Triangle\n",
    "\n",
    "Given a non-negative integer numRows, generate the first numRows of Pascal's triangle."
   ]
  },
  {
   "cell_type": "code",
   "execution_count": 53,
   "metadata": {},
   "outputs": [],
   "source": [
    "def generate(numRows):\n",
    "        if numRows == 0:\n",
    "            return []\n",
    "        elif numRows == 1:\n",
    "            return [1]\n",
    "        \n",
    "        ans = [[1]]\n",
    "        for i in range(1,numRows):\n",
    "            l = ans[-1]\n",
    "            n = []\n",
    "            for (i,j) in zip(ans[-1]+[0], [0]+ans[-1]):\n",
    "                n.append(i+j)\n",
    "            ans.append(n)\n",
    "        return ans"
   ]
  },
  {
   "cell_type": "code",
   "execution_count": 54,
   "metadata": {},
   "outputs": [
    {
     "data": {
      "text/plain": [
       "[]"
      ]
     },
     "execution_count": 54,
     "metadata": {},
     "output_type": "execute_result"
    }
   ],
   "source": [
    "generate(0)"
   ]
  },
  {
   "cell_type": "raw",
   "metadata": {},
   "source": []
  },
  {
   "cell_type": "code",
   "execution_count": null,
   "metadata": {},
   "outputs": [],
   "source": []
  },
  {
   "cell_type": "code",
   "execution_count": null,
   "metadata": {},
   "outputs": [],
   "source": []
  },
  {
   "cell_type": "code",
   "execution_count": null,
   "metadata": {},
   "outputs": [],
   "source": []
  },
  {
   "cell_type": "code",
   "execution_count": null,
   "metadata": {},
   "outputs": [],
   "source": []
  }
 ],
 "metadata": {
  "kernelspec": {
   "display_name": "Python 3",
   "language": "python",
   "name": "python3"
  },
  "language_info": {
   "codemirror_mode": {
    "name": "ipython",
    "version": 3
   },
   "file_extension": ".py",
   "mimetype": "text/x-python",
   "name": "python",
   "nbconvert_exporter": "python",
   "pygments_lexer": "ipython3",
   "version": "3.7.6"
  }
 },
 "nbformat": 4,
 "nbformat_minor": 4
}
